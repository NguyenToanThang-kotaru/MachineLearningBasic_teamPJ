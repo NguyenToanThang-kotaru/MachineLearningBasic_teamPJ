{
 "cells": [
  {
   "cell_type": "markdown",
   "id": "42617bc4",
   "metadata": {},
   "source": [
    "# Animal\n"
   ]
  },
  {
   "cell_type": "markdown",
   "id": "cd1298e4",
   "metadata": {},
   "source": [
    "## Introduction"
   ]
  },
  {
   "cell_type": "markdown",
   "id": "a43eb484",
   "metadata": {},
   "source": [
    "Dataset được sử dụng trong notebook “Animal-Condition-Predict (SVM+KNN)” là một tập dữ liệu về tình trạng (“condition”) của động vật — ví dụ phân loại xem con thú đó ở trạng thái nào (có thể là khỏe mạnh, bệnh, cần chăm sóc, …) trên cơ sở các đặc trưng nhất định.\n",
    ">\n",
    "Bài toán là một bài toán phân loại (classification): dựa trên các thuộc tính/features về con thú, xác định lớp (“condition”) mà con thú thuộc về.\n",
    ">\n",
    "Mục tiêu: Dự đoán tình trạng sức khỏe của các loài động vật, (Dangerous = Yes) hay không (Dangerous = No)\n"
   ]
  },
  {
   "cell_type": "markdown",
   "id": "20827c15",
   "metadata": {},
   "source": [
    "## Preparation"
   ]
  },
  {
   "cell_type": "code",
   "execution_count": 972,
   "id": "6857b212",
   "metadata": {},
   "outputs": [],
   "source": [
    "import pandas as pd\n",
    "from sklearn.preprocessing import  LabelEncoder, StandardScaler\n",
    "from sklearn.model_selection import train_test_split \n",
    "from imblearn.over_sampling import SMOTE\n",
    "from sklearn.svm import SVC\n",
    "from sklearn.metrics import (\n",
    "    classification_report, confusion_matrix, \n",
    "    roc_auc_score, roc_curve, accuracy_score,\n",
    "    f1_score, precision_score, recall_score\n",
    ")\n",
    "import joblib\n",
    "import matplotlib.pyplot as plt\n",
    "import seaborn as sns\n",
    "from sklearn.model_selection import GridSearchCV"
   ]
  },
  {
   "cell_type": "markdown",
   "id": "5ebbbae3",
   "metadata": {},
   "source": [
    "### Load train file"
   ]
  },
  {
   "cell_type": "code",
   "execution_count": 973,
   "id": "c3864d80",
   "metadata": {},
   "outputs": [],
   "source": [
    "df = pd.read_csv('data.csv')"
   ]
  },
  {
   "cell_type": "markdown",
   "id": "99d0f7e0",
   "metadata": {},
   "source": [
    "## EDA – Exploratory Data Analysis"
   ]
  },
  {
   "cell_type": "code",
   "execution_count": 974,
   "id": "a73d515c",
   "metadata": {},
   "outputs": [
    {
     "name": "stdout",
     "output_type": "stream",
     "text": [
      "\n",
      "Shape: (871, 7)\n",
      "\n",
      "Columns: ['AnimalName', 'symptoms1', 'symptoms2', 'symptoms3', 'symptoms4', 'symptoms5', 'Dangerous']\n"
     ]
    }
   ],
   "source": [
    "df.head()\n",
    "print(f\"\\nShape: {df.shape}\")\n",
    "print(f\"\\nColumns: {df.columns.tolist()}\")"
   ]
  },
  {
   "cell_type": "markdown",
   "id": "cebf103f",
   "metadata": {},
   "source": [
    "## Data Preprocessing"
   ]
  },
  {
   "cell_type": "markdown",
   "id": "93c35e6e",
   "metadata": {},
   "source": [
    "### Handle missing value"
   ]
  },
  {
   "cell_type": "code",
   "execution_count": 975,
   "id": "8885e86a",
   "metadata": {},
   "outputs": [
    {
     "name": "stdout",
     "output_type": "stream",
     "text": [
      "<class 'pandas.core.frame.DataFrame'>\n",
      "RangeIndex: 871 entries, 0 to 870\n",
      "Data columns (total 7 columns):\n",
      " #   Column      Non-Null Count  Dtype \n",
      "---  ------      --------------  ----- \n",
      " 0   AnimalName  871 non-null    object\n",
      " 1   symptoms1   871 non-null    object\n",
      " 2   symptoms2   871 non-null    object\n",
      " 3   symptoms3   871 non-null    object\n",
      " 4   symptoms4   871 non-null    object\n",
      " 5   symptoms5   871 non-null    object\n",
      " 6   Dangerous   869 non-null    object\n",
      "dtypes: object(7)\n",
      "memory usage: 47.8+ KB\n",
      "None\n",
      "\n",
      "Missing values:\n",
      "AnimalName    0\n",
      "symptoms1     0\n",
      "symptoms2     0\n",
      "symptoms3     0\n",
      "symptoms4     0\n",
      "symptoms5     0\n",
      "Dangerous     2\n",
      "dtype: int64\n",
      "\n",
      "Duplicate rows: 28\n"
     ]
    }
   ],
   "source": [
    "# Thông tin cơ bản\n",
    "print(df.info())\n",
    "print(\"\\nMissing values:\")\n",
    "print(df.isnull().sum())\n",
    "\n",
    "# Kiểm tra duplicate\n",
    "print(f\"\\nDuplicate rows: {df.duplicated().sum()}\")\n",
    "df = df.drop_duplicates()\n",
    "# Handle missing values in 'Dangerous' (drop rows with NaN in target)\n",
    "df = df.dropna(subset=['Dangerous'])"
   ]
  },
  {
   "cell_type": "markdown",
   "id": "bbf85d4a",
   "metadata": {},
   "source": [
    "### Duplicate data"
   ]
  },
  {
   "cell_type": "code",
   "execution_count": 976,
   "id": "62a43bce",
   "metadata": {},
   "outputs": [
    {
     "name": "stdout",
     "output_type": "stream",
     "text": [
      "\n",
      "Sau khi xóa duplicates: 0 dòng trùng lặp\n",
      "Số dòng còn lại: 841\n"
     ]
    }
   ],
   "source": [
    "df = df.drop_duplicates()\n",
    "print(f\"\\nSau khi xóa duplicates: {df.duplicated().sum()} dòng trùng lặp\")\n",
    "print(f\"Số dòng còn lại: {len(df)}\")"
   ]
  },
  {
   "cell_type": "markdown",
   "id": "d426c415",
   "metadata": {},
   "source": [
    "### Feature Engineering"
   ]
  },
  {
   "cell_type": "markdown",
   "id": "0a9cb2ed",
   "metadata": {},
   "source": [
    "#### Name"
   ]
  },
  {
   "cell_type": "code",
   "execution_count": 977,
   "id": "1633099d",
   "metadata": {},
   "outputs": [
    {
     "name": "stdout",
     "output_type": "stream",
     "text": [
      "\n",
      "AnimalName: ['Dog' 'Cat' 'Rabbit' 'Cow' 'Chicken' 'Cattle' 'Mammal' 'Horse' 'Turtle'\n",
      " 'Hamster' 'Lion' 'Fox' 'Goat' 'Deer' 'Monkey' 'Birds' 'Sheep' 'Pigs'\n",
      " 'Fowl' 'Duck' 'Other Birds' 'Snake' 'Donkey' 'Mules' 'Elephant' 'Elk'\n",
      " 'Wapiti' 'Mule Deer' 'Black-Tailed Deer' 'Sika Deer' 'White-Tailed Deer'\n",
      " 'Reindeer' 'Moos' 'Tiger' 'Goats' 'Buffaloes' 'Dogs' 'Wolves' 'Hyaenas'\n",
      " 'Pig']\n"
     ]
    }
   ],
   "source": [
    "# Xem giá trị unique của các cột categorical\n",
    "# cat_cols = ['AnimalName', 'symptoms1', 'symptoms2', 'symptoms3', 'symptoms4','symptoms5', 'Dangerous' ]\n",
    "df['AnimalName'] = df['AnimalName'].str.strip()      # xoá khoảng trắng\n",
    "df['AnimalName'] = df['AnimalName'].str.title()      # viết hoa chữ cái đầu\n",
    "cat_cols = ['AnimalName']\n",
    "for col in cat_cols:\n",
    "    print(f\"\\n{col}: {df[col].unique()}\")"
   ]
  },
  {
   "cell_type": "code",
   "execution_count": 978,
   "id": "13a40deb",
   "metadata": {},
   "outputs": [
    {
     "name": "stdout",
     "output_type": "stream",
     "text": [
      "AnimalName\n",
      "wild_mammals    561\n",
      "birds           175\n",
      "pets            100\n",
      "reptiles          5\n",
      "Name: count, dtype: int64\n"
     ]
    }
   ],
   "source": [
    "# Gộp nhóm hợp lý thú cưng / thú nuôi / thú hoang / chim / bò sát\n",
    "# df['AnimalName'] = df['AnimalName'].str.strip()      # xoá khoảng trắng\n",
    "# df['AnimalName'] = df['AnimalName'].str.title()      # viết hoa chữ cái đầu\n",
    "\n",
    "animal_map = {\n",
    "    # Pets\n",
    "    'Dog': 'pets', 'Dogs': 'pets',\n",
    "    'Cat': 'pets',\n",
    "    'Rabbit': 'pets',\n",
    "    'Hamster': 'pets',\n",
    "\n",
    "    # Farm mammals (coi chung nhóm wild_mammals theo yêu cầu)\n",
    "    'Cow': 'wild_mammals',\n",
    "    'Cattle': 'wild_mammals', 'cattle': 'wild_mammals',\n",
    "    'Horse': 'wild_mammals', 'horse': 'wild_mammals',\n",
    "    'Donkey': 'wild_mammals', 'donkey': 'wild_mammals',\n",
    "    'Goat': 'wild_mammals', 'Goats': 'wild_mammals',\n",
    "    'Sheep': 'wild_mammals',\n",
    "    'Pig': 'wild_mammals', 'Pigs': 'wild_mammals',\n",
    "    'Buffaloes': 'wild_mammals',\n",
    "    'Mules': 'wild_mammals',\n",
    "    # Wild mammals\n",
    "    'Lion': 'wild_mammals',\n",
    "    'Tiger': 'wild_mammals',\n",
    "    'Fox': 'wild_mammals',\n",
    "    'Monkey': 'wild_mammals',\n",
    "    'Elephant': 'wild_mammals',\n",
    "    'Wolves': 'wild_mammals',\n",
    "    'Hyaenas': 'wild_mammals',\n",
    "    'Mammal': 'wild_mammals',\n",
    "\n",
    "    # Deer family (vẫn thuộc wild_mammals)\n",
    "    'Deer': 'wild_mammals',\n",
    "    'Mule Deer': 'wild_mammals',\n",
    "    'Black-Tailed Deer': 'wild_mammals',\n",
    "    'White-Tailed Deer': 'wild_mammals',\n",
    "    'Sika Deer': 'wild_mammals',\n",
    "    'Elk': 'wild_mammals', 'Wapiti': 'wild_mammals',\n",
    "    'Reindeer': 'wild_mammals',\n",
    "    'Moose': 'wild_mammals',\n",
    "    'Moos': 'wild_mammals',\n",
    "\n",
    "    # Birds\n",
    "    'Chicken': 'birds', 'chicken': 'birds',\n",
    "    'Duck': 'birds', 'duck': 'birds',\n",
    "    'Birds': 'birds', 'Other Birds': 'birds',\n",
    "    'Fowl': 'birds',\n",
    "\n",
    "    # Reptiles\n",
    "    'Snake': 'reptiles', 'snake': 'reptiles',\n",
    "    'Turtle': 'reptiles',\n",
    "}\n",
    "\n",
    "df['AnimalName'] = df['AnimalName'].map(animal_map)\n",
    "print(df['AnimalName'].value_counts())"
   ]
  },
  {
   "cell_type": "code",
   "execution_count": 979,
   "id": "b1122755",
   "metadata": {},
   "outputs": [
    {
     "data": {
      "text/plain": [
       "AnimalName    0\n",
       "symptoms1     0\n",
       "symptoms2     0\n",
       "symptoms3     0\n",
       "symptoms4     0\n",
       "symptoms5     0\n",
       "Dangerous     0\n",
       "dtype: int64"
      ]
     },
     "execution_count": 979,
     "metadata": {},
     "output_type": "execute_result"
    }
   ],
   "source": [
    "df.isna().sum() # check giá trị thiếu"
   ]
  },
  {
   "cell_type": "markdown",
   "id": "f7fbb7a8",
   "metadata": {},
   "source": [
    "#### Symptoms1"
   ]
  },
  {
   "cell_type": "code",
   "execution_count": 980,
   "id": "fb4a800e",
   "metadata": {},
   "outputs": [
    {
     "name": "stdout",
     "output_type": "stream",
     "text": [
      "\n",
      "symptoms1: ['Fever' 'Ulcers' 'Facial Swelling' 'Swelling On Leg'\n",
      " 'Short Term Lethargy' 'Swollen Lymph Nodes' 'Diarrhea With Muscus'\n",
      " 'Strong Cough' 'Lesions In The Nasal Cavity' 'Hair Loss'\n",
      " 'Greenish-Yellow Nasal Discharge' 'Jaundice' 'Poor Coat Apperence'\n",
      " 'Watering' 'Straining' 'Upset Stomach' 'Allergic Reaction' 'Limping'\n",
      " 'Pnemonia' 'Bloody Urine' 'Loss Of Eat' 'Dark Or Black Face'\n",
      " 'Appetite Varies' 'Sickness' 'Nasal Bleeding' 'Gasc' 'Shaking Head'\n",
      " 'Attacks' 'Blood Stool' 'Nasal Discharge' 'Polyuria' 'Exessive Urination'\n",
      " 'Convulsion' 'Wheezing' 'Lession On Cat Skin' 'Lethargy'\n",
      " 'Skin Irritation' 'Floopy Muscle' 'Sensitivity To Bright Light'\n",
      " 'Tenderness' 'Scaly Patches Of Skin' 'Fatty Stool' 'Nausea'\n",
      " 'Most Often None' 'Discomfort' 'Loss Of Appetite' 'Rhinitis'\n",
      " 'Immediate Death' 'Red On Affected Area' 'Watering Diarrhea'\n",
      " 'Loss In Weight' 'Egg Production Decreases'\n",
      " 'Abortion At The End Of Gestation' 'Swollen'\n",
      " 'Fluif Faeces On Blood And Muscle' 'Severe' 'Normal Appetite'\n",
      " 'Inability To Stand' 'Excitability' 'Animal Gets Uneasy' 'Sudden Death'\n",
      " 'Small Red Bumps' 'Ring Shaped Lesion' 'Bubbles In The Mouth'\n",
      " 'Changes In Outer Layer Skin' 'Red Tinge' 'Passing Of Undigested Food'\n",
      " 'Smell' 'Loss Of Activity' 'Bald Patches' 'Poor Condition'\n",
      " 'Heavy Infection' 'Thicked Skin' 'Facial Edema' 'General Malaise'\n",
      " 'Oedema' 'Poor Growth' 'Dullness' 'Vomiting' 'Weakness'\n",
      " 'Partial Paralysis' 'Thick Crusting' 'Constant Pacing' 'Loss Od Appetite'\n",
      " 'Indigestion' 'Blood In Urine' 'Sores On Lip' 'Abortion On Late Pregancy'\n",
      " 'Paresis' 'Abortion' 'Runny Nose' 'Decreased Milk' 'Swelling Of Udder'\n",
      " 'Emaciation' 'Skinallergy' 'Watering Of Eyes' 'Berberi' 'Gastritis' 'Gas'\n",
      " 'Drooping Ears' 'Edema' 'Drooping Wings' 'Neck Paralysis' 'Dejection'\n",
      " 'Severe Swellimg' 'Sneezing' 'Shallow Breathing' 'Dyspnea' 'Mortality'\n",
      " 'Skin Rashes' 'Air Sacculitis' 'Labored Breathing' 'Blood From Mouth'\n",
      " 'Hemopytsis' 'Restlessness' 'Stripped Remiges' 'Apathy' 'Lepatomegaly'\n",
      " 'Balance Problem' 'Legness' 'Difficulty In Feeding' 'Forthy Eye'\n",
      " 'Inappentence' 'Lack Of Walking' 'Scabs On Feet' 'Enlarged Thymus'\n",
      " 'Fluffed Feather' 'Heavy Breathing' 'Puffed_Up Feather' 'Tail Wagging'\n",
      " 'Overweight' 'Skin Infection' 'Discharge From Eyes' 'Pale Comb'\n",
      " 'Liquid Dropping' 'Undigested In Their Feces' 'Sharp Feather'\n",
      " 'Ruffled Appearance' 'Sinuses' 'Feather Loss' 'Watery Eyes' 'Bony Lesion'\n",
      " 'Tremor Of Head And Neck' 'Swollen Belly' 'Signs In Rams' 'Spines'\n",
      " 'Discharge' 'Excess Salivation' 'Swelling' 'Head Tilt'\n",
      " 'Decreased Growth Of Bone' 'Swollen Left Abdomen'\n",
      " 'Cessation Of Eructation' 'Barren Ewes' 'Tremor' 'Lllthrift'\n",
      " 'Haemorrhage' 'Bloody Diarhhea' 'Reluctant Move' 'Poor Wool'\n",
      " 'Poor Immune Function' 'Abdominal Pain' 'Fetopelvic Dispropotion'\n",
      " 'Watery Diarrhea Dispropotion' 'Severe Kerititis' 'Foul Smelling'\n",
      " 'Sheep Often Bites' 'Pyrexia' 'Red Skin' 'Groosly Enlarged'\n",
      " 'Hyperexcitability' 'Decreased Eyelid' 'Inability To Digest'\n",
      " 'Respiratory Distress' 'Unsteady Gait' 'Smell Of Ammonia' 'Wandering'\n",
      " 'Tremors' 'Wool Is Clumped' 'Swaying' 'Cell Damage'\n",
      " 'Formation Of Vesicles' 'Skeleten Abnormalities' 'Wether Restless'\n",
      " 'Listless' 'Thivk Skin' 'Dizzines' 'Tear Production' 'Skin Color Change'\n",
      " 'Radip Onset' 'Head Shking' 'Inflammation' 'Isolation From Flock'\n",
      " 'Bluish White Opacity' 'Head Tossing' 'Coughing' 'Cough'\n",
      " 'Shortness Of Breath.' 'Gasping' 'Excessive Blood Loss' 'Nosebleed'\n",
      " 'Bleeding From Other Parts Of The Body' 'Bad Breath' 'Extending Its Neck'\n",
      " 'Difficulty Swallowing' 'Eye Redness' 'Excessive Eye Watering'\n",
      " 'Unable To Urinate' 'Extreme Thirst' 'Egg Production Stops'\n",
      " 'Burning Ache Or Pain' 'Continuous Loss Of Weight' 'Sweating'\n",
      " 'Outstretched Neck' 'Weight Loss' 'Changed Gait'\n",
      " 'Difficulty In Breathing' 'Undernutrition' 'Wasting' 'Feline Infections'\n",
      " 'Eye Discharges' 'Stop Eating']\n"
     ]
    }
   ],
   "source": [
    "# Xem giá trị unique của các cột categorical\n",
    "# cat_cols = ['AnimalName', 'symptoms1', 'symptoms2', 'symptoms3', 'symptoms4','symptoms5', 'Dangerous' ]\n",
    "df['symptoms1'] = df['symptoms1'].str.strip()      # xoá khoảng trắng\n",
    "df['symptoms1'] = df['symptoms1'].str.title()      # viết hoa chữ cái đầu\n",
    "cat_cols = ['symptoms1']\n",
    "for col in cat_cols:\n",
    "    print(f\"\\n{col}: {df[col].unique()}\")"
   ]
  },
  {
   "cell_type": "code",
   "execution_count": 981,
   "id": "b41702a7",
   "metadata": {},
   "outputs": [
    {
     "name": "stdout",
     "output_type": "stream",
     "text": [
      "symptoms1\n",
      "general         411\n",
      "other            84\n",
      "skin             68\n",
      "respiratory      66\n",
      "swelling         54\n",
      "digestive        45\n",
      "neurological     45\n",
      "eye              25\n",
      "reproductive     19\n",
      "urinary          12\n",
      "ear              12\n",
      "Name: count, dtype: int64\n"
     ]
    }
   ],
   "source": [
    "\n",
    "\n",
    "# ===============================\n",
    "# 2. DICTIONARY PHÂN LOẠI TRIỆU CHỨNG (ĐÃ HOÀN CHỈNH)\n",
    "# ===============================\n",
    "\n",
    "symptom1_map = {\n",
    "    # ------------------ General / Systemic ------------------\n",
    "    'Fever': 'general', 'Pyrexia': 'general',\n",
    "    'Weakness': 'general', 'General Malaise': 'general', 'Dullness': 'general',\n",
    "    'Lethargy': 'general', 'Short Term Lethargy': 'general', 'Loss Of Activity': 'general',\n",
    "    'Loss Of Appetite': 'general', 'Loss Od Appetite': 'general', 'Loss Of Eat': 'general',\n",
    "    'Stop Eating': 'general', 'Inappentence': 'general', 'Appetite Varies': 'general',\n",
    "    'Normal Appetite': 'general',\n",
    "    'Weight Loss': 'general', 'Loss In Weight': 'general', 'Continuous Loss Of Weight': 'general',\n",
    "    'Poor Growth': 'general', 'Emaciation': 'general', 'Poor Condition': 'general', 'Lllthrift': 'general',  # Illthrift\n",
    "    'Poor Immune Function': 'general', 'Undernutrition': 'general', 'Wasting': 'general',\n",
    "    'Sudden Death': 'general', 'Immediate Death': 'general', 'Mortality': 'general',\n",
    "    'Dejection': 'general', 'Apathy': 'general', 'Listless': 'general', 'Discomfort': 'general',\n",
    "    'Restlessness': 'general', 'Constant Pacing': 'general', 'Animal Gets Uneasy': 'general',\n",
    "    'Excitability': 'general', 'Hyperexcitability': 'general', 'Wether Restless': 'general',\n",
    "    'Sweating': 'general', 'Overweight': 'general',\n",
    "\n",
    "    # ------------------ Respiratory ------------------\n",
    "    'Cough': 'respiratory', 'Coughing': 'respiratory', 'Strong Cough': 'respiratory',\n",
    "    'Wheezing': 'respiratory', 'Sneezing': 'respiratory', 'Gasping': 'respiratory',\n",
    "    'Dyspnea': 'respiratory', 'Difficulty In Breathing': 'respiratory', 'Shortness Of Breath.': 'respiratory',\n",
    "    'Shallow Breathing': 'respiratory', 'Labored Breathing': 'respiratory', 'Heavy Breathing': 'respiratory',\n",
    "    'Respiratory Distress': 'respiratory', 'Pnemonia': 'respiratory',  # Pneumonia\n",
    "    'Air Sacculitis': 'respiratory', 'Sinuses': 'respiratory', 'Hemopytsis': 'respiratory',\n",
    "    'Nasal Discharge': 'respiratory', 'Greenish-Yellow Nasal Discharge': 'respiratory',\n",
    "    'Runny Nose': 'respiratory', 'Nasal Bleeding': 'respiratory', 'Nosebleed': 'respiratory',\n",
    "    'Rhinitis': 'respiratory', 'Blood From Mouth': 'respiratory',\n",
    "    'Extending Its Neck': 'respiratory', 'Outstretched Neck': 'respiratory',\n",
    "\n",
    "    # ------------------ Digestive ------------------\n",
    "    'Diarrhea With Muscus': 'digestive', 'Watering Diarrhea': 'digestive',\n",
    "    'Bloody Diarhhea': 'digestive', 'Blood Stool': 'digestive', 'Watery Diarrhea Dispropotion': 'digestive',\n",
    "    'Fluif Faeces On Blood And Muscle': 'digestive', 'Liquid Dropping': 'digestive',\n",
    "    'Fatty Stool': 'digestive', 'Passing Of Undigested Food': 'digestive', 'Undigested In Their Feces': 'digestive',\n",
    "    'Vomiting': 'digestive', 'Nausea': 'digestive', 'Upset Stomach': 'digestive',\n",
    "    'Indigestion': 'digestive', 'Gastritis': 'digestive', 'Gasc': 'digestive', 'Gas': 'digestive',\n",
    "    'Abdominal Pain': 'digestive', 'Cessation Of Eructation': 'digestive',\n",
    "\n",
    "    # ------------------ Urinary / Reproductive ------------------\n",
    "    'Bloody Urine': 'urinary', 'Blood In Urine': 'urinary',\n",
    "    'Polyuria': 'urinary', 'Exessive Urination': 'urinary', 'Unable To Urinate': 'urinary',\n",
    "    'Extreme Thirst': 'urinary',\n",
    "    'Abortion': 'reproductive', 'Abortion At The End Of Gestation': 'reproductive',\n",
    "    'Abortion On Late Pregancy': 'reproductive', 'Fetopelvic Dispropotion': 'reproductive',\n",
    "    'Barren Ewes': 'reproductive', 'Decreased Milk': 'reproductive',\n",
    "    'Egg Production Decreases': 'reproductive', 'Egg Production Stops': 'reproductive',\n",
    "\n",
    "    # ------------------ Skin / Coat ------------------\n",
    "    'Skin Infection': 'skin', 'Skin Irritation': 'skin', 'Skin Rashes': 'skin',\n",
    "    'Skinallergy': 'skin', 'Skin Color Change': 'skin', 'Allergic Reaction': 'skin',\n",
    "    'Hair Loss': 'skin', 'Bald Patches': 'skin', 'Poor Coat Apperence': 'skin',\n",
    "    'Poor Wool': 'skin', 'Feather Loss': 'skin', 'Fluffed Feather': 'skin', 'Puffed_Up Feather': 'skin',\n",
    "    'Ruffled Appearance': 'skin', 'Sharp Feather': 'skin', 'Stripped Remiges': 'skin',\n",
    "    'Lesions In The Nasal Cavity': 'skin', 'Lession On Cat Skin': 'skin',\n",
    "    'Ring Shaped Lesion': 'skin', 'Small Red Bumps': 'skin', 'Scaly Patches Of Skin': 'skin',\n",
    "    'Thick Crusting': 'skin', 'Thicked Skin': 'skin', 'Thivk Skin': 'skin',\n",
    "    'Red Skin': 'skin', 'Red On Affected Area': 'skin', 'Red Tinge': 'skin',\n",
    "    'Changes In Outer Layer Skin': 'skin', 'Bony Lesion': 'skin', 'Scabs On Feet': 'skin',\n",
    "    'Feline Infections': 'skin', 'Sores On Lip': 'skin', 'Wool Is Clumped': 'skin',\n",
    "\n",
    "    # ------------------ Eye / Ear / Head ------------------\n",
    "    'Watering': 'eye', 'Watering Of Eyes': 'eye', 'Watery Eyes': 'eye', 'Discharge From Eyes': 'eye',\n",
    "    'Eye Discharges': 'eye', 'Eye Redness': 'eye', 'Excessive Eye Watering': 'eye',\n",
    "    'Sensitivity To Bright Light': 'eye', 'Forthy Eye': 'eye', 'Bluish White Opacity': 'eye',\n",
    "    'Severe Kerititis': 'eye', 'Tear Production': 'eye', 'Decreased Eyelid': 'eye',\n",
    "    'Shaking Head': 'ear', 'Head Shking': 'ear', 'Head Tilt': 'ear', 'Head Tossing': 'ear',\n",
    "    'Drooping Ears': 'ear', 'Tremor Of Head And Neck': 'ear',\n",
    "\n",
    "    # ------------------ Swelling / Edema ------------------\n",
    "    'Swelling': 'swelling', 'Swollen': 'swelling', 'Facial Swelling': 'swelling',\n",
    "    'Facial Edema': 'swelling', 'Swelling On Leg': 'swelling', 'Edema': 'swelling',\n",
    "    'Oedema': 'swelling', 'Severe Swellimg': 'swelling', 'Swollen Lymph Nodes': 'swelling',\n",
    "    'Swelling Of Udder': 'swelling', 'Swollen Belly': 'swelling', 'Swollen Left Abdomen': 'swelling',\n",
    "    'Groosly Enlarged': 'swelling', 'Enlarged Thymus': 'swelling', 'Lepatomegaly': 'swelling',\n",
    "\n",
    "    # ------------------ Neurological / Motor ------------------\n",
    "    'Tremor': 'neurological', 'Tremors': 'neurological', 'Convulsion': 'neurological',\n",
    "    'Attacks': 'neurological', 'Balance Problem': 'neurological', 'Dizzines': 'neurological',\n",
    "    'Unsteady Gait': 'neurological', 'Changed Gait': 'neurological', 'Wandering': 'neurological',\n",
    "    'Swaying': 'neurological', 'Limping': 'neurological', 'Inability To Stand': 'neurological',\n",
    "    'Lack Of Walking': 'neurological', 'Reluctant Move': 'neurological',\n",
    "    'Partial Paralysis': 'neurological', 'Paresis': 'neurological', 'Neck Paralysis': 'neurological',\n",
    "    'Drooping Wings': 'neurological', 'Floopy Muscle': 'neurological', 'Legness': 'neurological',\n",
    "\n",
    "    # ------------------ Other / Miscellaneous ------------------\n",
    "    'Ulcers': 'other', 'Dark Or Black Face': 'other', 'Sickness': 'other',\n",
    "    'Straining': 'other', 'Most Often None': 'other', 'Severe': 'other',\n",
    "    'Heavy Infection': 'other', 'Smell': 'other', 'Foul Smelling': 'other',\n",
    "    'Smell Of Ammonia': 'other', 'Bad Breath': 'other', 'Excess Salivation': 'other',\n",
    "    'Bubbles In The Mouth': 'other', 'Teeth Griding': 'other', 'Difficulty Swallowing': 'other',\n",
    "    'Jaundice': 'other', 'Pale Comb': 'other', 'Tenderness': 'other',\n",
    "    'Isolation From Flock': 'other', 'Tail Wagging': 'other', 'Signs In Rams': 'other',\n",
    "    'Spines': 'other', 'Discharge': 'other', 'Decreased Growth Of Bone': 'other',\n",
    "    'Skeleten Abnormalities': 'other', 'Cell Damage': 'other', 'Formation Of Vesicles': 'other',\n",
    "    'Inflammation': 'other', 'Radip Onset': 'other', 'Bleeding From Other Parts Of The Body': 'other',\n",
    "    'Excessive Blood Loss': 'other', 'Haemorrhage': 'other', 'Difficulty In Feeding': 'other',\n",
    "    'Berberi': 'other', 'Sheep Often Bites': 'other', 'Burning Ache Or Pain': 'other',\n",
    "    'Inability To Digest': 'other'\n",
    "}\n",
    "\n",
    "# ===============================\n",
    "# ÁP DỤNG MAPPING VÀO DATAFRAME\n",
    "df['symptoms1'] = df['symptoms1'].map(symptom1_map)\n",
    "\n",
    "print(df['symptoms1'].value_counts())"
   ]
  },
  {
   "cell_type": "code",
   "execution_count": 982,
   "id": "75444590",
   "metadata": {},
   "outputs": [
    {
     "data": {
      "text/plain": [
       "AnimalName    0\n",
       "symptoms1     0\n",
       "symptoms2     0\n",
       "symptoms3     0\n",
       "symptoms4     0\n",
       "symptoms5     0\n",
       "Dangerous     0\n",
       "dtype: int64"
      ]
     },
     "execution_count": 982,
     "metadata": {},
     "output_type": "execute_result"
    }
   ],
   "source": [
    "df.isna().sum() # check giá trị thiếu"
   ]
  },
  {
   "cell_type": "markdown",
   "id": "d834cf0d",
   "metadata": {},
   "source": [
    "#### Symptoms2\n"
   ]
  },
  {
   "cell_type": "code",
   "execution_count": 983,
   "id": "d18d03d8",
   "metadata": {},
   "outputs": [
    {
     "name": "stdout",
     "output_type": "stream",
     "text": [
      "\n",
      "symptoms2: ['Diarrhea' 'Difficulty Breathing' 'Respiratory Distress' 'Bloody Drool'\n",
      " 'Painfull' 'Loss Of  Appetite' 'Difficulty Walking'\n",
      " 'Chronic Eye Inflamation' 'Swelling Of Face Or Leg' 'Tensemus'\n",
      " 'Runny Nose' 'Inflammed Eye' 'Lesions On Nose' 'Dandruff'\n",
      " 'Lack Of Pigmentation' 'Pneumonia' 'No Appp' 'Poor Appetite' 'Anoxeria'\n",
      " 'Willnot Run To Jump' 'Eye Ulcer' 'Seizures' 'Diffculty Breathing'\n",
      " 'Difficulty In Breathing' 'Fell Unwell' 'Diffulty Chewing' 'Lesions'\n",
      " 'Scartching Ear' 'Nosebleeds' 'Change In Gait' 'Loss Of Consciousness'\n",
      " 'Rapid Breathing' 'Weekness' 'Dandruff In Cat Coat' 'Scartching'\n",
      " 'Speech Delay' 'Disharge From Affected Eye' 'Erythema' 'Sore'\n",
      " 'Loss Of Appetite' 'Swelling  In The Bite Area' 'Mild Sneezing'\n",
      " 'Sneezing' 'Swelling' 'Pox Lession On Skin' 'Horny Growth' 'Chills'\n",
      " 'Depression' 'Emaciation' 'Stunted Growth' 'Thirst' 'Weakened Legs'\n",
      " 'Fatigue' 'Red-Colored' 'Distress' 'Animal Become Lame' 'Sudden Death'\n",
      " 'Slightly Swollen' 'Dull' 'Heat' 'Nervousness' 'Ulcer On Gum'\n",
      " 'Body Stiffness' 'Trouble Walking' 'Abortion' 'Ataxia' 'Round Patches'\n",
      " 'Wheezing' 'Swelling Of Eye' 'Slim Over The Shell' 'Rough Coat'\n",
      " 'Hair Loss' 'Enlarged Lymph Nodes' 'Hair Tining' 'Loss Of Earing'\n",
      " 'Hepatic Failure' 'Muscle Loss' 'Short Stature' 'Lacrimation'\n",
      " 'Bloody Diarrhea' 'Uncharacteristic Hiding' 'Poor Coat Condition'\n",
      " 'Stiffness' 'Staggering As Drunk' 'Tiredness' 'Itchiness'\n",
      " 'Facial Muscle Twitching' 'Abdminal Pain' 'Malaise'\n",
      " 'Lack Of Coordination' 'Infection' 'Stillbirth' 'Paralysis'\n",
      " 'Hemolytic Anemia' 'Mummification' 'Nasal Discharge'\n",
      " 'Dark Colored Bloody' 'Dysentery' 'Holding Limbs Off The Ground'\n",
      " 'Change In Milk' 'Wound Lesion' 'Edema In Lower Jaw' 'Reduce Growth'\n",
      " 'Redness Of White Of The Eye' 'Wasting' 'Morbidity' 'Severe Headache'\n",
      " 'Yellow Or Green Dropping' 'Heavy Breathing' 'Hepatitis' 'Epistaxis'\n",
      " 'Unilateral Nasal Discharge' 'Halitosis' 'Rhinorrhea' 'Dyspnea' 'Death'\n",
      " 'Convulsion' 'Neurologic Sign' 'Weakness' 'Less Feather Growth'\n",
      " 'Splenomegaly' 'Abdominal Destention' 'Paresis' 'Sour Throat' 'Preening'\n",
      " 'Torticollis' 'Lack Of Flying' 'Small And Yellow Bumps' 'Redness'\n",
      " 'Obstructed Lungs' 'Difficultty In Breathing' 'Yellow In Beak' 'Less Eat'\n",
      " 'Straining' 'Secondary Infection' 'Lethargy' 'Lame' 'Exhaustion'\n",
      " 'Clubbed Feather' 'Swollen Eyelids' 'Feather Plucking' 'Eye Closed'\n",
      " 'Skin Rashes' 'Blindness' 'Dullness' 'Succumb' 'Signs In Ewe'\n",
      " 'Unusally Thin' 'Sudden Abortion' 'Lameness' 'Circling' 'Lying Down'\n",
      " 'Excession Salivation' 'Viability' 'Tachypea' 'Skin Lesion'\n",
      " 'Straw Colored' 'Achomotrica' 'Uteria Inertia' 'Sick' 'Conjunctive'\n",
      " 'Testical Pain' 'Fleece Become Thin' 'Kick'\n",
      " 'Reduce Reproductive Potential' 'Oral Lesion' 'Skin Colour Change'\n",
      " 'Skin May Thicken' 'Muscular Spasms' 'Very Cold Skin' 'Bottle Jaw'\n",
      " 'Foot Hot' 'Warm' 'Twitching' 'Ulcer' 'Lying On The Side' 'Feels Stiff'\n",
      " 'Behaviour Change' 'Discomfort' 'Hot Joints' 'Nostrils' 'Facial Defects'\n",
      " 'Kicking' 'Pains To Walk' 'Crusty' 'Anemia' 'Wool Loss'\n",
      " 'Anversion To Light' 'Stiff' 'Discharge From Ear' 'Redness Of Eye'\n",
      " 'Larynx' 'Stealing' 'Difficulty In Walking' 'Aversion To Light' 'Panting'\n",
      " 'Sneeze' 'Coughing' 'Dizziness And Fainting' 'Trauma' 'Confusion'\n",
      " 'Pawing At The Face Or Nose' 'Gasping For Air' 'Cough'\n",
      " 'Decreased Stool Production' 'Frequent Eye Infections' 'Eye Redness'\n",
      " 'Lightheadedness' 'Bloody Discharge' 'Broody Behavior' 'Vomiting'\n",
      " 'Regurgitation Of Food' 'Lathargy' 'Mild Colic' 'High Body Temperaure'\n",
      " 'Dry Or Tacky Gums' 'Dull Ness' 'Swelling Problem'\n",
      " 'Drinking Polluted Water' 'Stumbling' 'Lymphosarcoma' 'High Temperature'\n",
      " 'Stop Drinking' 'Diffulty Swallowing']\n"
     ]
    }
   ],
   "source": [
    "# Xem giá trị unique của các cột categorical\n",
    "# cat_cols = ['AnimalName', 'symptoms1', 'symptoms2', 'symptoms3', 'symptoms4','symptoms5', 'Dangerous' ]\n",
    "df['symptoms2'] = df['symptoms2'].str.strip()      # xoá khoảng trắng\n",
    "df['symptoms2'] = df['symptoms2'].str.title()      # viết hoa chữ cái đầu\n",
    "cat_cols = ['symptoms2']\n",
    "for col in cat_cols:\n",
    "    print(f\"\\n{col}: {df[col].unique()}\")"
   ]
  },
  {
   "cell_type": "code",
   "execution_count": 984,
   "id": "f7616a9a",
   "metadata": {},
   "outputs": [
    {
     "name": "stdout",
     "output_type": "stream",
     "text": [
      "symptoms2\n",
      "general         213\n",
      "digestive       157\n",
      "respiratory     125\n",
      "neurological     94\n",
      "other            92\n",
      "skin             56\n",
      "eye              29\n",
      "swelling         25\n",
      "reproductive     22\n",
      "ear               3\n",
      "Name: count, dtype: int64\n"
     ]
    }
   ],
   "source": [
    "symptom2_map = {\n",
    "    # ------------------ General / Systemic ------------------\n",
    "    'Loss Of Appetite': 'general', 'Poor Appetite': 'general', 'No Appp': 'general', 'Anoxeria': 'general',  # Anorexia\n",
    "    'Less Eat': 'general', 'Stop Drinking': 'general',\n",
    "    'Weakness': 'general', 'Weekness': 'general', 'Fatigue': 'general', 'Tiredness': 'general',\n",
    "    'Lethargy': 'general', 'Lathargy': 'general', 'Exhaustion': 'general',\n",
    "    'Fell Unwell': 'general', 'Malaise': 'general', 'Depression': 'general', 'Apathy': 'general',\n",
    "    'Dull': 'general', 'Dullness': 'general', 'Dull Ness': 'general',\n",
    "    'Emaciation': 'general', 'Wasting': 'general', 'Stunted Growth': 'general', 'Reduce Growth': 'general',\n",
    "    'Short Stature': 'general', 'Unusally Thin': 'general',\n",
    "    'Sudden Death': 'general', 'Death': 'general', 'Succumb': 'general', 'Morbidity': 'general',\n",
    "    'Distress': 'general', 'Discomfort': 'general', 'Nervousness': 'general',\n",
    "    'Behaviour Change': 'general', 'Uncharacteristic Hiding': 'general',\n",
    "    'High Temperature': 'general', 'High Body Temperaure': 'general', 'Heat': 'general', 'Chills': 'general',\n",
    "    'Thirst': 'general', 'Drinking Polluted Water': 'general', \n",
    "\n",
    "    # ------------------ Respiratory ------------------\n",
    "    'Difficulty Breathing': 'respiratory', 'Respiratory Distress': 'respiratory',\n",
    "    'Diffculty Breathing': 'respiratory', 'Difficulty In Breathing': 'respiratory',\n",
    "    'Difficultty In Breathing': 'respiratory', 'Rapid Breathing': 'respiratory',\n",
    "    'Heavy Breathing': 'respiratory', 'Gasping For Air': 'respiratory',\n",
    "    'Panting': 'respiratory', 'Dyspnea': 'respiratory', 'Tachypea': 'respiratory',  # Tachypnea\n",
    "    'Cough': 'respiratory', 'Coughing': 'respiratory', 'Sneezing': 'respiratory',\n",
    "    'Mild Sneezing': 'respiratory', 'Sneeze': 'respiratory', 'Wheezing': 'respiratory',\n",
    "    'Pneumonia': 'respiratory', 'Obstructed Lungs': 'respiratory',\n",
    "    'Nasal Discharge': 'respiratory', 'Unilateral Nasal Discharge': 'respiratory',\n",
    "    'Runny Nose': 'respiratory', 'Rhinorrhea': 'respiratory', 'Epistaxis': 'respiratory',  # Nosebleed\n",
    "    'Nosebleeds': 'respiratory', 'Halitosis': 'respiratory',  # Bad breath\n",
    "\n",
    "    # ------------------ Digestive ------------------\n",
    "    'Diarrhea': 'digestive', 'Bloody Diarrhea': 'digestive', 'Dysentery': 'digestive',\n",
    "    'Yellow Or Green Dropping': 'digestive', 'Decreased Stool Production': 'digestive',\n",
    "    'Vomiting': 'digestive', 'Regurgitation Of Food': 'digestive',\n",
    "    'Abdminal Pain': 'digestive', 'Abdominal Destention': 'digestive', 'Mild Colic': 'digestive',\n",
    "    'Straining': 'digestive', 'Tensemus': 'digestive',  # Tenesmus\n",
    "    'Diffulty Chewing': 'digestive', 'Diffulty Swallowing': 'digestive',\n",
    "    'Dry Or Tacky Gums': 'digestive', 'Sour Throat': 'digestive',\n",
    "\n",
    "    # ------------------ Urinary / Reproductive ------------------\n",
    "    'Abortion': 'reproductive', 'Stillbirth': 'reproductive', 'Sudden Abortion': 'reproductive',\n",
    "    'Mummification': 'reproductive', 'Change In Milk': 'reproductive',\n",
    "    'Reduce Reproductive Potential': 'reproductive', 'Uteria Inertia': 'reproductive',  # Uterine inertia\n",
    "    'Testical Pain': 'reproductive',\n",
    "\n",
    "    # ------------------ Skin / Coat ------------------\n",
    "    'Hair Loss': 'skin', 'Wool Loss': 'skin', 'Fleece Become Thin': 'skin',\n",
    "    'Rough Coat': 'skin', 'Poor Coat Condition': 'skin', 'Dandruff': 'skin',\n",
    "    'Dandruff In Cat Coat': 'skin', 'Itchiness': 'skin', 'Scartching': 'skin',\n",
    "    'Scartching Ear': 'skin', 'Feather Plucking': 'skin', 'Less Feather Growth': 'skin',\n",
    "    'Clubbed Feather': 'skin', 'Skin Rashes': 'skin', 'Skin Lesion': 'skin',\n",
    "    'Pox Lession On Skin': 'skin', 'Round Patches': 'skin', 'Horny Growth': 'skin',\n",
    "    'Crusty': 'skin', 'Skin Colour Change': 'skin', 'Skin May Thicken': 'skin',\n",
    "    'Lack Of Pigmentation': 'skin', 'Red-Colored': 'skin', 'Erythema': 'skin',\n",
    "    'Redness': 'skin', 'Small And Yellow Bumps': 'skin', 'Wound Lesion': 'skin',\n",
    "\n",
    "    # ------------------ Eye / Ear ------------------\n",
    "    'Chronic Eye Inflamation': 'eye', 'Inflammed Eye': 'eye', 'Eye Ulcer': 'eye',\n",
    "    'Disharge From Affected Eye': 'eye', 'Lacrimation': 'eye', 'Swollen Eyelids': 'eye',\n",
    "    'Eye Closed': 'eye', 'Redness Of White Of The Eye': 'eye', 'Redness Of Eye': 'eye',\n",
    "    'Eye Redness': 'eye', 'Frequent Eye Infections': 'eye', 'Blindness': 'eye',\n",
    "    'Anversion To Light': 'eye', 'Aversion To Light': 'eye',\n",
    "    'Discharge From Ear': 'ear', 'Loss Of Earing': 'ear',  # Loss of hearing\n",
    "\n",
    "    # ------------------ Swelling / Edema ------------------\n",
    "    'Swelling': 'swelling', 'Swelling Of Face Or Leg': 'swelling', 'Swelling In The Bite Area': 'swelling',\n",
    "    'Slightly Swollen': 'swelling', 'Swelling Of Eye': 'swelling', 'Edema In Lower Jaw': 'swelling',\n",
    "    'Bottle Jaw': 'swelling', 'Enlarged Lymph Nodes': 'swelling', 'Splenomegaly': 'swelling',\n",
    "\n",
    "    # ------------------ Neurological / Motor ------------------\n",
    "    'Seizures': 'neurological', 'Convulsion': 'neurological', 'Neurologic Sign': 'neurological',\n",
    "    'Loss Of Consciousness': 'neurological', 'Dizziness And Fainting': 'neurological',\n",
    "    'Lightheadedness': 'neurological', 'Confusion': 'neurological',\n",
    "    'Change In Gait': 'neurological', 'Difficulty Walking': 'neurological',\n",
    "    'Trouble Walking': 'neurological', 'Difficulty In Walking': 'neurological',\n",
    "    'Pains To Walk': 'neurological', 'Stumbling': 'neurological', 'Lame': 'neurological',\n",
    "    'Lameness': 'neurological', 'Animal Become Lame': 'neurological',\n",
    "    'Ataxia': 'neurological', 'Lack Of Coordination': 'neurological', 'Staggering As Drunk': 'neurological',\n",
    "    'Circling': 'neurological', 'Torticollis': 'neurological', 'Paralysis': 'neurological',\n",
    "    'Paresis': 'neurological', 'Body Stiffness': 'neurological', 'Stiffness': 'neurological',\n",
    "    'Stiff': 'neurological', 'Feels Stiff': 'neurological', 'Muscular Spasms': 'neurological',\n",
    "    'Facial Muscle Twitching': 'neurological', 'Twitching': 'neurological',\n",
    "    'Willnot Run To Jump': 'neurological', 'Lack Of Flying': 'neurological',\n",
    "    'Lying Down': 'neurological', 'Lying On The Side': 'neurological',\n",
    "    'Holding Limbs Off The Ground': 'neurological', 'Weakened Legs': 'neurological',\n",
    "\n",
    "    # ------------------ Other / Miscellaneous ------------------\n",
    "    'Painfull': 'other', 'Sore': 'other', 'Severe Headache': 'other', 'Hot Joints': 'other',\n",
    "    'Foot Hot': 'other', 'Warm': 'other', 'Very Cold Skin': 'other',\n",
    "    'Ulcer': 'other', 'Ulcer On Gum': 'other', 'Lesions': 'other', 'Lesions On Nose': 'other',\n",
    "    'Oral Lesion': 'other', 'Bloody Drool': 'other', 'Bloody Discharge': 'other',\n",
    "    'Dark Colored Bloody': 'other', 'Straw Colored': 'other',\n",
    "    'Excession Salivation': 'other', 'Preening': 'other', 'Pawing At The Face Or Nose': 'other',\n",
    "    'Kicking': 'other', 'Kick': 'other', 'Facial Defects': 'other', 'Nostrils': 'other',\n",
    "    'Larynx': 'other', 'Conjunctive': 'other', 'Achomotrica': 'other',  # Achomotrichia?\n",
    "    'Viability': 'other', 'Signs In Ewe': 'other', 'Broody Behavior': 'other',\n",
    "    'Stealing': 'other', 'Trauma': 'other', 'Infection': 'other', 'Secondary Infection': 'other',\n",
    "    'Anemia': 'other', 'Hemolytic Anemia': 'other', 'Hepatitis': 'other', 'Hepatic Failure': 'other',\n",
    "    'Muscle Loss': 'other', 'Lymphosarcoma': 'other', 'Slim Over The Shell': 'other',\n",
    "    'Yellow In Beak': 'other', 'Sick': 'other', 'Speech Delay': 'other'\n",
    "}\n",
    "# ÁP DỤNG MAPPING VÀO DATAFRAME\n",
    "df['symptoms2'] = df['symptoms2'].map(symptom2_map)\n",
    "\n",
    "print(df['symptoms2'].value_counts())"
   ]
  },
  {
   "cell_type": "code",
   "execution_count": 985,
   "id": "546fbc94",
   "metadata": {},
   "outputs": [
    {
     "data": {
      "text/plain": [
       "AnimalName     0\n",
       "symptoms1      0\n",
       "symptoms2     25\n",
       "symptoms3      0\n",
       "symptoms4      0\n",
       "symptoms5      0\n",
       "Dangerous      0\n",
       "dtype: int64"
      ]
     },
     "execution_count": 985,
     "metadata": {},
     "output_type": "execute_result"
    }
   ],
   "source": [
    "df.isna().sum() # check giá trị thiếu"
   ]
  },
  {
   "cell_type": "markdown",
   "id": "daa36580",
   "metadata": {},
   "source": [
    "#### Symptoms3\n"
   ]
  },
  {
   "cell_type": "code",
   "execution_count": 986,
   "id": "f84f327e",
   "metadata": {},
   "outputs": [
    {
     "name": "stdout",
     "output_type": "stream",
     "text": [
      "\n",
      "symptoms3: ['Vomiting' 'Coughing' 'Seizuers' 'Poor Appetite' 'Foul Breath'\n",
      " 'Thrist And Urination' 'Nasal Discharge' 'Weekness In The Back Legs'\n",
      " 'Back Pain' 'Abdominal Pain' 'Reduce Energy' 'Watery Stool' 'Sneezing'\n",
      " 'Nose Bleeds' 'Darkened Skin' 'Lession On The Skin' 'Weight Loss'\n",
      " 'Swelling' 'Congestion' 'Eye Disharge' 'Hydrophobia' 'Lethargy' 'Scabs'\n",
      " 'Blood In Stool' 'Black On Ear' 'Inflamed Nostrils' 'Chewing'\n",
      " 'Red Patches' 'Intellectual Disability' 'Inflammation' 'Eyeproblem'\n",
      " 'Dry Or Dull Hair' 'Abscessess' 'Enteritis' 'Blue Colored Lip'\n",
      " 'Skin Reashes' 'Wart-Like Growth' 'Skin Ulcer' 'Emaciation'\n",
      " 'Loss Of Appetite' 'Swollen Purple Wattle' 'Ruffled Feathers' 'Blindness'\n",
      " 'Los Of The Ability To Walk' 'Weak Calves' 'Hot Udder' 'Trembling'\n",
      " 'Prostrat' 'Dribbling Of Saliva' 'Blooody Fluid'\n",
      " 'Stand With Head Droping' 'Hind Quarted Soil' 'Blood On Faces'\n",
      " 'Relunctance To Move' 'Swelling May Occur Under Jaw' 'Hardness'\n",
      " 'Bottle Jaw' 'Attack' 'Red Eye' 'Difficult In Respiration' 'Severe Colic'\n",
      " 'Paralysis' 'Kidney Failure' 'Septic Arthritis' 'Aggressiveness'\n",
      " 'Dry Skin' 'Bad Smell' 'Crusty' 'Diarrhea'\n",
      " 'Vitamin And Minerals Defiency' 'Muscle Weakness' 'Headache' 'Hair Loss'\n",
      " 'Nause' 'Skeleten Pain' 'Swelling Of Neck' 'Enlargement Of Bones' 'Sweat'\n",
      " 'Weakness' 'Depression' 'Infection Of The Skin' 'Self Mutilation'\n",
      " 'Abnormalalities' 'Constipation' 'Sores On Lower Leg And Teats'\n",
      " 'Retained Placenda' 'Hemoglobinuria' 'Stillbirth' 'Respiratory Distress'\n",
      " 'Incoordination' 'Mucous Discharge' 'Swollen' 'Occular Discharge'\n",
      " 'Excess Salivary' 'Kid Moratality' 'Edema In Lower Jaw' 'Wound'\n",
      " 'Swelling Of Eyelid' 'Nervous' 'Bloody' 'Swollen Kidney'\n",
      " 'Decreased Appetite' 'Abdominal Discomfort' 'Drooling' 'Purplish Combs'\n",
      " 'Paralyzed Leg' 'Slow Growth' 'High Moratality' 'Skin Rashes' 'Gagging'\n",
      " 'Death' 'Conjuctivtis' 'Sudden Death' 'Asymptomatic' 'Blue Straws'\n",
      " 'Dilation Of Duodenum' 'Neck Paralysis' 'Mortality' 'Ear Infection'\n",
      " 'Tremors Of The Head' 'Roughened' 'Trachea' 'Yellow Eye' 'Tail_Bobbing'\n",
      " 'Swollen Abdomen' 'Stress' 'Retarded Growth' 'Difficulty In Swallowing'\n",
      " 'Ataxia' 'Loss Of Pigment' 'Kicking At The Belly' 'Discharge'\n",
      " 'Spread Of Infection' 'Underdeveloped Muscles' 'Sweats' 'Dehydration'\n",
      " 'Muscle Twiching' 'Lying Down' 'Hyperaestesia' 'Muscles Ache' 'Grunting'\n",
      " 'Staggering' 'Abnormal Conformation' 'Poor Conformation'\n",
      " 'Swelling Of Head And Neck' 'Lameness' 'Flank' 'Bloody Droping'\n",
      " 'Small Intestines' 'Dullness' 'Malpresentation' 'Despression'\n",
      " 'Corneal Ulceration' 'Itches' 'Dirty' 'Loss Of Wool' 'Rub'\n",
      " 'Rough Hair Coat' 'Agalactia' 'Moist' 'Flabby' 'Convulsion' 'Gums'\n",
      " 'Muscus' 'Colic' 'Pot Belly' 'Strange Behaviour' 'Wasting'\n",
      " 'Clearly Unthrifty' 'Relunctance To Walk' 'Facial Paralysis'\n",
      " 'Painfull To Touch' 'Stumbling' 'Wool Loss' 'Tremor'\n",
      " 'Difficulty In Rising' 'Pustulses' 'Abnormally Long Leg'\n",
      " 'Normal Appetite' 'Sluggish' 'Scaly Skin' 'Bluish White Opacity'\n",
      " 'Muscle Trembling' 'Scartching Ear' 'Scartches' 'Bloody Diarrhea'\n",
      " 'Swelling On Jaw' 'Nesting Behaviour' 'Grinding Of Teeth' 'Tear Produce'\n",
      " 'Fast Breathing' 'Facial Swelling,' 'Droopy Wings' 'Chirping'\n",
      " 'Mild Weakness' 'Blurry Vision' 'Cough' 'Gasping For Breath'\n",
      " 'Difficulty Swallowing' 'Distended Stomach'\n",
      " 'Crusty Eye Lashes And Matting Of Eyelashes' 'Rapid Heartbeats'\n",
      " 'Droopiness' 'Wheezing' 'Abortion' 'Loss Of Tail Tone' 'Lathargy'\n",
      " 'Respiratory Noise' 'Muscular Stiffness' 'Thirst' 'Lack Of Appetite'\n",
      " 'Reduced Appetite' 'Inappetence' 'Muscles Problem' 'Diffuse'\n",
      " 'Bleeding From Wounds' 'Listlessness' 'Fever' 'Difficulty Breating'\n",
      " 'Rapid Pulse And Heart Rates' 'Swollen Teats'\n",
      " 'Change Their Normal Behaviour' 'Excessive Drooling']\n"
     ]
    }
   ],
   "source": [
    "# Xem giá trị unique của các cột categorical\n",
    "# cat_cols = ['AnimalName', 'symptoms1', 'symptoms2', 'symptoms3', 'symptoms4','symptoms5', 'Dangerous' ]\n",
    "df['symptoms3'] = df['symptoms3'].str.strip()      # xoá khoảng trắng\n",
    "df['symptoms3'] = df['symptoms3'].str.title()      # viết hoa chữ cái đầu\n",
    "cat_cols = ['symptoms3']\n",
    "for col in cat_cols:\n",
    "    print(f\"\\n{col}: {df[col].unique()}\")"
   ]
  },
  {
   "cell_type": "code",
   "execution_count": 987,
   "id": "e12700ba",
   "metadata": {},
   "outputs": [
    {
     "name": "stdout",
     "output_type": "stream",
     "text": [
      "symptoms3\n",
      "general         215\n",
      "respiratory     150\n",
      "digestive       107\n",
      "other            97\n",
      "neurological     84\n",
      "skin             78\n",
      "eye              39\n",
      "swelling         34\n",
      "reproductive     29\n",
      "Name: count, dtype: int64\n"
     ]
    }
   ],
   "source": [
    "symptom3_map = {\n",
    "    # ------------------ General / Systemic ------------------\n",
    "    'Fever': 'general', 'Poor Appetite': 'general', 'Loss Of Appetite': 'general',\n",
    "    'Lack Of Appetite': 'general', 'Reduced Appetite': 'general', 'Inappetence': 'general',\n",
    "    'Normal Appetite': 'general', 'Decreased Appetite': 'general',\n",
    "    'Weakness': 'general', 'Weekness In The Back Legs': 'general', 'Muscle Weakness': 'general',\n",
    "    'Reduce Energy': 'general', 'Lethargy': 'general', 'Lathargy': 'general', 'Listlessness': 'general',\n",
    "    'Sluggish': 'general', 'Mild Weakness': 'general', 'Weak Calves': 'general',\n",
    "    'Weight Loss': 'general', 'Emaciation': 'general', 'Wasting': 'general', 'Clearly Unthrifty': 'general',\n",
    "    'Slow Growth': 'general', 'Retarded Growth': 'general', 'Underdeveloped Muscles': 'general',\n",
    "    'Dehydration': 'general', 'Sweat': 'general', 'Sweats': 'general', 'Thirst': 'general',\n",
    "    'Thrist And Urination': 'general', 'Stress': 'general', 'Depression': 'general', 'Despression': 'general',\n",
    "    'Nervous': 'general', 'Aggressiveness': 'general', 'Strange Behaviour': 'general',\n",
    "    'Change Their Normal Behaviour': 'general', 'Self Mutilation': 'general',\n",
    "    'Sudden Death': 'general', 'Death': 'general', 'Mortality': 'general', 'High Moratality': 'general',\n",
    "    'Kid Moratality': 'general', 'Asymptomatic': 'general', 'Dullness': 'general',\n",
    "\n",
    "    # ------------------ Respiratory ------------------\n",
    "    'Coughing': 'respiratory', 'Cough': 'respiratory', 'Sneezing': 'respiratory',\n",
    "    'Nasal Discharge': 'respiratory', 'Mucous Discharge': 'respiratory', 'Occular Discharge': 'respiratory',\n",
    "    'Congestion': 'respiratory', 'Respiratory Distress': 'respiratory', 'Difficult In Respiration': 'respiratory',\n",
    "    'Difficulty Breating': 'respiratory', 'Fast Breathing': 'respiratory', 'Gasping For Breath': 'respiratory',\n",
    "    'Respiratory Noise': 'respiratory', 'Wheezing': 'respiratory', 'Grunting': 'respiratory',\n",
    "    'Nose Bleeds': 'respiratory', 'Chirping': 'respiratory', 'Tail_Bobbing': 'respiratory',\n",
    "\n",
    "    # ------------------ Digestive ------------------\n",
    "    'Vomiting': 'digestive', 'Diarrhea': 'digestive', 'Watery Stool': 'digestive',\n",
    "    'Bloody Diarrhea': 'digestive', 'Blood In Stool': 'digestive', 'Bloody Droping': 'digestive',\n",
    "    'Blooody Fluid': 'digestive', 'Abdominal Pain': 'digestive', 'Abdominal Discomfort': 'digestive',\n",
    "    'Severe Colic': 'digestive', 'Colic': 'digestive', 'Mild Colic': 'digestive', 'Pot Belly': 'digestive',\n",
    "    'Distended Stomach': 'digestive', 'Dilation Of Duodenum': 'digestive', 'Enteritis': 'digestive',\n",
    "    'Constipation': 'digestive', 'Kicking At The Belly': 'digestive', 'Gagging': 'digestive',\n",
    "    'Nause': 'digestive', 'Gums': 'digestive', 'Muscus': 'digestive',\n",
    "\n",
    "    # ------------------ Urinary / Reproductive ------------------\n",
    "    'Abortion': 'reproductive', 'Stillbirth': 'reproductive', 'Retained Placenda': 'reproductive',\n",
    "    'Agalactia': 'reproductive', 'Malpresentation': 'reproductive', 'Swollen Teats': 'reproductive',\n",
    "    'Hot Udder': 'reproductive', 'Kidney Failure': 'reproductive', 'Swollen Kidney': 'reproductive',\n",
    "    'Hemoglobinuria': 'reproductive', 'Thrist And Urination': 'reproductive',\n",
    "\n",
    "    # ------------------ Skin / Coat ------------------\n",
    "    'Hair Loss': 'skin', 'Dry Or Dull Hair': 'skin', 'Rough Hair Coat': 'skin', 'Loss Of Wool': 'skin',\n",
    "    'Wool Loss': 'skin', 'Dry Skin': 'skin', 'Scaly Skin': 'skin', 'Moist': 'skin', 'Dirty': 'skin',\n",
    "    'Flabby': 'skin', 'Roughened': 'skin', 'Skin Rashes': 'skin', 'Skin Reashes': 'skin',\n",
    "    'Lession On The Skin': 'skin', 'Skin Ulcer': 'skin', 'Wart-Like Growth': 'skin', 'Red Patches': 'skin',\n",
    "    'Scabs': 'skin', 'Crusty': 'skin', 'Pustulses': 'skin', 'Abscessess': 'skin', 'Wound': 'skin',\n",
    "    'Sores On Lower Leg And Teats': 'skin', 'Itches': 'skin', 'Rub': 'skin', 'Scartches': 'skin',\n",
    "    'Scartching Ear': 'skin', 'Infection Of The Skin': 'skin', 'Spread Of Infection': 'skin',\n",
    "    'Darkened Skin': 'skin', 'Blue Colored Lip': 'skin', 'Purplish Combs': 'skin', 'Loss Of Pigment': 'skin',\n",
    "\n",
    "    # ------------------ Eye / Ear ------------------\n",
    "    'Eye Disharge': 'eye', 'Occular Discharge': 'eye', 'Conjuctivtis': 'eye', 'Corneal Ulceration': 'eye',\n",
    "    'Red Eye': 'eye', 'Yellow Eye': 'eye', 'Tear Produce': 'eye', 'Blurry Vision': 'eye',\n",
    "    'Crusty Eye Lashes And Matting Of Eyelashes': 'eye', 'Eyeproblem': 'eye', 'Blindness': 'eye',\n",
    "    'Swelling Of Eyelid': 'eye', 'Facial Swelling,': 'eye', 'Ear Infection': 'eye', 'Black On Ear': 'eye',\n",
    "    'Bluish White Opacity': 'eye',\n",
    "\n",
    "    # ------------------ Swelling / Edema ------------------\n",
    "    'Swelling': 'swelling', 'Swollen': 'swelling', 'Swelling Of Neck': 'swelling',\n",
    "    'Swelling Of Head And Neck': 'swelling', 'Swelling On Jaw': 'swelling', 'Bottle Jaw': 'swelling',\n",
    "    'Edema In Lower Jaw': 'swelling', 'Swelling May Occur Under Jaw': 'swelling',\n",
    "    'Swollen Purple Wattle': 'swelling', 'Swollen Abdomen': 'swelling',\n",
    "\n",
    "    # ------------------ Neurological / Motor ------------------\n",
    "    'Seizuers': 'neurological', 'Convulsion': 'neurological', 'Trembling': 'neurological',\n",
    "    'Tremor': 'neurological', 'Muscle Trembling': 'neurological', 'Muscle Twiching': 'neurological',\n",
    "    'Muscular Stiffness': 'neurological', 'Muscles Ache': 'neurological', 'Muscles Problem': 'neurological',\n",
    "    'Paralysis': 'neurological', 'Paralyzed Leg': 'neurological', 'Neck Paralysis': 'neurological',\n",
    "    'Facial Paralysis': 'neurological', 'Los Of The Ability To Walk': 'neurological',\n",
    "    'Relunctance To Move': 'neurological', 'Relunctance To Walk': 'neurological',\n",
    "    'Difficulty In Rising': 'neurological', 'Stumbling': 'neurological', 'Staggering': 'neurological',\n",
    "    'Lameness': 'neurological', 'Lying Down': 'neurological', 'Incoordination': 'neurological',\n",
    "    'Ataxia': 'neurological', 'Hyperaestesia': 'neurological', 'Droopiness': 'neurological',\n",
    "    'Droopy Wings': 'neurological', 'Loss Of Tail Tone': 'neurological', 'Tremors Of The Head': 'neurological',\n",
    "    'Hydrophobia': 'neurological', 'Intellectual Disability': 'neurological',\n",
    "\n",
    "    # ------------------ Other / Miscellaneous ------------------\n",
    "    'Foul Breath': 'other', 'Bad Smell': 'other', 'Drooling': 'other', 'Excessive Drooling': 'other',\n",
    "    'Dribbling Of Saliva': 'other', 'Excess Salivary': 'other', 'Grinding Of Teeth': 'other',\n",
    "    'Chewing': 'other', 'Difficulty In Swallowing': 'other', 'Difficulty Swallowing': 'other',\n",
    "    'Gagging': 'other', 'Nesting Behaviour': 'other', 'Attack': 'other', 'Prostrat': 'other',\n",
    "    'Stand With Head Droping': 'other', 'Hind Quarted Soil': 'other', 'Blood On Faces': 'other',\n",
    "    'Hardness': 'other', 'Painfull To Touch': 'other', 'Back Pain': 'other', 'Skeleten Pain': 'other',\n",
    "    'Headache': 'other', 'Vitamin And Minerals Defiency': 'other', 'Enlargement Of Bones': 'other',\n",
    "    'Abnormally Long Leg': 'other', 'Abnormal Conformation': 'other', 'Poor Conformation': 'other',\n",
    "    'Flank': 'other', 'Small Intestines': 'other', 'Trachea': 'other', 'Ruffled Feathers': 'other',\n",
    "    'Blue Straws': 'other', 'Diffuse': 'other', 'Inflammation': 'other', 'Septic Arthritis': 'other',\n",
    "    'Rapid Heartbeats': 'other', 'Rapid Pulse And Heart Rates': 'other', 'Bleeding From Wounds': 'other',\n",
    "    'Bloody': 'other'\n",
    "}\n",
    "# ÁP DỤNG MAPPING VÀO DATAFRAME\n",
    "df['symptoms3'] = df['symptoms3'].map(symptom3_map)\n",
    "\n",
    "print(df['symptoms3'].value_counts())"
   ]
  },
  {
   "cell_type": "code",
   "execution_count": 988,
   "id": "daaae001",
   "metadata": {},
   "outputs": [
    {
     "data": {
      "text/plain": [
       "AnimalName     0\n",
       "symptoms1      0\n",
       "symptoms2     25\n",
       "symptoms3      8\n",
       "symptoms4      0\n",
       "symptoms5      0\n",
       "Dangerous      0\n",
       "dtype: int64"
      ]
     },
     "execution_count": 988,
     "metadata": {},
     "output_type": "execute_result"
    }
   ],
   "source": [
    "df.isna().sum() # check giá trị thiếu"
   ]
  },
  {
   "cell_type": "markdown",
   "id": "010bc6d2",
   "metadata": {},
   "source": [
    "#### Symptoms4"
   ]
  },
  {
   "cell_type": "code",
   "execution_count": 989,
   "id": "85932434",
   "metadata": {},
   "outputs": [
    {
     "name": "stdout",
     "output_type": "stream",
     "text": [
      "\n",
      "symptoms4: ['Weight Loss' 'Tiredness' 'Vomiting' 'Lethargy' 'Hyperesthesia'\n",
      " 'Tarry Stool' 'Unable To Eat' 'Broken Bones' 'Rapid Heart Rate'\n",
      " 'Stiffness' 'Lameness' 'Depression' 'Flatulence' 'Eye And Skin Change'\n",
      " 'Noisy Breathing' 'Crusting Of The Skin' 'Pain' 'Muscle Pain' 'Week Legs'\n",
      " 'Jaw Is Dropped' 'Blood In Faces' 'Lumps' 'Stomach Growling' 'Bad Smell'\n",
      " 'Sneezing' 'Twitching' 'Swallowing' 'Hair Loss' 'Discharge From Eye'\n",
      " 'Walking Problem' 'Clouded Cornea' 'Cramps' 'Scartch' 'Salivation' 'Firm'\n",
      " 'Limp' 'Liver Disease' 'Nasal' 'Dyspnea' 'Blood From Mouth'\n",
      " 'Grinding Teeth' 'Blindness' 'Torticollis' 'Bloody Discharge'\n",
      " 'Nasal Discharge' 'Red Skin' 'Exhaustion' 'Ruffled Coat' 'Weakness'\n",
      " 'Swollen Comb' 'Distinctive Bumps' 'Closed Eyes' 'Mammary Glads'\n",
      " 'Join Pains' 'Milk Getting Out More Watery' 'Staggering'\n",
      " 'Painfull Swalling' 'Inability Of Swalllon Feeding' 'Red Diarrhea'\n",
      " 'Milky Hard' 'Animal Stop Feed' 'Appetite' 'Redness' 'Pot Belly'\n",
      " 'Hyper Sensitivity' 'Bite Other Animals' 'Painfull' 'Yellowish Discharge'\n",
      " 'Consistency Of Milk' 'Excessive Production' 'Severe Inflammation'\n",
      " 'Nausea' 'Inflammation Of Eye' 'Skin Infection' 'Size Of Lesions Vary'\n",
      " 'Colic' 'Stumbling' 'Easily Damage Shell' 'Gas Or Bloating'\n",
      " 'Excess Sleeping' 'Dehydration' 'Flaky' 'Progressive Weakness' 'Scabbing'\n",
      " 'Head Ache' 'Diarrhea' 'White Mark On The Muscle' 'Acting Aggressive'\n",
      " 'Skin Rashes' 'Watery Eye' 'Stomach Cramps' 'Lesion' 'Endomeritis'\n",
      " 'Pulmonary Congestion' 'Weak Kids' 'Pox Lesion' 'Difficulty In Breathing'\n",
      " 'Immediate Death' 'Reduce Feed' 'Tender To Touch' 'Mouth Lesion'\n",
      " 'Difficult In Walking' 'Shivering' 'Cornea Become Cloudy' 'Mortality'\n",
      " 'Coughing' 'Hematuria' 'Wasting' 'Decresed Egg Production' 'Wattles'\n",
      " 'Labored Breathing' 'Anorexia' 'Retching' 'Facial Edema' 'Enteritis'\n",
      " 'Urine Retention' 'Death' 'Defienciency In Vitamin' 'Cloacal Pasting'\n",
      " 'Swollen' 'Muscle Aches' 'Beak Overgrowth' 'Swelling' 'Dry Scabs'\n",
      " 'Thickening Of Skin' 'Half-Closed Eye' 'Chest Pain' 'Swolling Of Joint'\n",
      " 'Loss Of Powder Down' 'Green Dropping' 'Itching' 'Exercise In Tolerance'\n",
      " 'Urination' 'Semen Examination' 'Enlarged Skulls' 'Death Of Lamb'\n",
      " 'Congestion' 'Abortion' 'Deability' 'Weak Pulse' 'Hock Joint'\n",
      " 'Ulcerated Muscle' 'Hairy Fleeces' 'Swelling On Thebody' 'Rump'\n",
      " 'Abdominal Discomfort' 'Loss Of Appetite' 'Small Size' 'Shock'\n",
      " 'Iris Prolapse' 'Scratches' 'Stained Wool' 'Nible At Their Wool'\n",
      " 'Loss Of Milk Production' 'Raw' 'Edematous' 'Lip' 'Reduce Milk' 'Aneamia'\n",
      " 'Infected Navels' 'Circling' 'Restlessness' 'Swelling On Joints'\n",
      " 'Inappentence' 'Head Pressing' 'Tears' 'Jerky Limb Movements' 'Pruritis'\n",
      " 'Difficulty In Walk' 'Scabs On Lip' 'Flat Ribs' 'Attempt To Urinate'\n",
      " 'Heat' 'Irritation' 'Odor To Ear' 'Scartches' 'Profuse' 'Hoarseness'\n",
      " 'Urine Infection' 'Pawing At Bedding' 'Bleeding Wounds'\n",
      " 'Production Of Mucus' 'Twisted Neck' 'Droopy Wings' 'Watery Eyes'\n",
      " 'Nose Picking' 'Loss Of Alertness' 'Difficulty Swallowing'\n",
      " 'Gasping For Air' 'Gasping For Breath' 'Heavy Breathing'\n",
      " 'Foul Smelling Stools' 'Mucus Discharge From The Eye' 'Fluffed Feathers'\n",
      " 'Rectal Bleeding' 'Inability To Fly' 'Experiencing Changes In Weight'\n",
      " 'Excessive Food Intake' 'Gurgling Sound' 'Urine Dribbling'\n",
      " 'Swollen Lymph Nodes' 'Lying Down' 'Self-Isolation'\n",
      " 'Difficulty Diagnosis' 'Frequent Yawning' 'Drooling' 'Stomatitis'\n",
      " 'Lameness In Affected Leg' 'High Body Temperature']\n"
     ]
    }
   ],
   "source": [
    "# Xem giá trị unique của các cột categorical\n",
    "# cat_cols = ['AnimalName', 'symptoms1', 'symptoms2', 'symptoms3', 'symptoms4','symptoms5', 'Dangerous' ]\n",
    "df['symptoms4'] = df['symptoms4'].str.strip()      # xoá khoảng trắng\n",
    "df['symptoms4'] = df['symptoms4'].str.title()      # viết hoa chữ cái đầu\n",
    "cat_cols = ['symptoms4']\n",
    "for col in cat_cols:\n",
    "    print(f\"\\n{col}: {df[col].unique()}\")"
   ]
  },
  {
   "cell_type": "code",
   "execution_count": 990,
   "id": "29b088c6",
   "metadata": {},
   "outputs": [
    {
     "name": "stdout",
     "output_type": "stream",
     "text": [
      "symptoms4\n",
      "general         345\n",
      "other           116\n",
      "neurological     94\n",
      "skin             72\n",
      "respiratory      64\n",
      "digestive        57\n",
      "eye              39\n",
      "swelling         22\n",
      "reproductive     18\n",
      "urinary          13\n",
      "ear               1\n",
      "Name: count, dtype: int64\n"
     ]
    }
   ],
   "source": [
    "symptom4_map = {\n",
    "    # ------------------ General / Systemic ------------------\n",
    "    'Weight Loss': 'general', 'Wasting': 'general', 'Tiredness': 'general',\n",
    "    'Lethargy': 'general', 'Exhaustion': 'general', 'Progressive Weakness': 'general',\n",
    "    'Weakness': 'general', 'Weak Kids': 'general', 'Small Size': 'general',\n",
    "    'Depression': 'general', 'Restlessness': 'general', 'Shock': 'general',\n",
    "    'Loss Of Appetite': 'general', 'Unable To Eat': 'general', 'Animal Stop Feed': 'general',\n",
    "    'Reduce Feed': 'general', 'Anorexia': 'general', 'Inappentence': 'general',\n",
    "    'Dehydration': 'general', 'High Body Temperature': 'general', 'Heat': 'general',\n",
    "    'Immediate Death': 'general', 'Death': 'general', 'Mortality': 'general',\n",
    "    'Death Of Lamb': 'general', 'Self-Isolation': 'general', 'Loss Of Alertness': 'general',\n",
    "    'Excess Sleeping': 'general', 'Excessive Food Intake': 'general',\n",
    "    'Experiencing Changes In Weight': 'general', 'Defienciency In Vitamin': 'general',\n",
    "    'Aneamia': 'general', 'Liver Disease': 'general',\n",
    "\n",
    "    # ------------------ Respiratory ------------------\n",
    "    'Coughing': 'respiratory', 'Sneezing': 'respiratory', 'Noisy Breathing': 'respiratory',\n",
    "    'Dyspnea': 'respiratory', 'Difficulty In Breathing': 'respiratory', 'Labored Breathing': 'respiratory',\n",
    "    'Heavy Breathing': 'respiratory', 'Gasping For Air': 'respiratory', 'Gasping For Breath': 'respiratory',\n",
    "    'Pulmonary Congestion': 'respiratory', 'Congestion': 'respiratory', 'Hoarseness': 'respiratory',\n",
    "    'Nasal Discharge': 'respiratory', 'Production Of Mucus': 'respiratory',\n",
    "\n",
    "    # ------------------ Digestive ------------------\n",
    "    'Vomiting': 'digestive', 'Diarrhea': 'digestive', 'Tarry Stool': 'digestive',\n",
    "    'Red Diarrhea': 'digestive', 'Rectal Bleeding': 'digestive', 'Foul Smelling Stools': 'digestive',\n",
    "    'Flatulence': 'digestive', 'Gas Or Bloating': 'digestive', 'Stomach Growling': 'digestive',\n",
    "    'Gurgling Sound': 'digestive', 'Colic': 'digestive', 'Stomach Cramps': 'digestive',\n",
    "    'Abdominal Discomfort': 'digestive', 'Pot Belly': 'digestive', 'Ruminal Stasis': 'digestive',\n",
    "    'Enteritis': 'digestive', 'Retching': 'digestive', 'Nausea': 'digestive', 'Endomeritis': 'digestive',\n",
    "\n",
    "    # ------------------ Urinary / Reproductive ------------------\n",
    "    'Abortion': 'reproductive', 'Decresed Egg Production': 'reproductive',\n",
    "    'Loss Of Milk Production': 'reproductive', 'Reduce Milk': 'reproductive',\n",
    "    'Milk Getting Out More Watery': 'reproductive', 'Consistency Of Milk': 'reproductive',\n",
    "    'Excessive Production': 'reproductive', 'Mammary Glads': 'reproductive',\n",
    "    'Hematuria': 'urinary', 'Urine Retention': 'urinary', 'Urine Dribbling': 'urinary',\n",
    "    'Attempt To Urinate': 'urinary', 'Urination': 'urinary', 'Urine Infection': 'urinary',\n",
    "    'Semen Examination': 'reproductive',\n",
    "\n",
    "    # ------------------ Skin / Coat ------------------\n",
    "    'Hair Loss': 'skin', 'Ruffled Coat': 'skin', 'Fluffed Feathers': 'skin',\n",
    "    'Skin Rashes': 'skin', 'Red Skin': 'skin', 'Redness': 'skin', 'Crusting Of The Skin': 'skin',\n",
    "    'Scabbing': 'skin', 'Dry Scabs': 'skin', 'Thickening Of Skin': 'skin', 'Flaky': 'skin',\n",
    "    'Skin Infection': 'skin', 'Pox Lesion': 'skin', 'Lesion': 'skin', 'Size Of Lesions Vary': 'skin',\n",
    "    'Mouth Lesion': 'skin', 'Scabs On Lip': 'skin', 'Distinctive Bumps': 'skin',\n",
    "    'Lumps': 'skin', 'Raw': 'skin', 'Stained Wool': 'skin', 'Hairy Fleeces': 'skin',\n",
    "    'Itching': 'skin', 'Pruritis': 'skin', 'Scartch': 'skin', 'Scratches': 'skin', 'Scartches': 'skin',\n",
    "    'Nible At Their Wool': 'skin', 'Infected Navels': 'skin', 'Pawing At Bedding': 'skin',\n",
    "\n",
    "    # ------------------ Eye / Ear ------------------\n",
    "    'Discharge From Eye': 'eye', 'Watery Eye': 'eye', 'Watery Eyes': 'eye',\n",
    "    'Mucus Discharge From The Eye': 'eye', 'Tears': 'eye', 'Yellowish Discharge': 'eye',\n",
    "    'Clouded Cornea': 'eye', 'Cornea Become Cloudy': 'eye', 'Iris Prolapse': 'eye',\n",
    "    'Blindness': 'eye', 'Closed Eyes': 'eye', 'Half-Closed Eye': 'eye',\n",
    "    'Inflammation Of Eye': 'eye', 'Odor To Ear': 'ear', 'Nose Picking': 'eye',\n",
    "\n",
    "    # ------------------ Swelling / Edema ------------------\n",
    "    'Swelling': 'swelling', 'Swollen': 'swelling', 'Facial Edema': 'swelling',\n",
    "    'Swollen Comb': 'swelling', 'Swollen Lymph Nodes': 'swelling', 'Edematous': 'swelling',\n",
    "    'Swelling On Thebody': 'swelling', 'Swelling On Joints': 'swelling', 'Swolling Of Joint': 'swelling',\n",
    "\n",
    "    # ------------------ Neurological / Motor ------------------\n",
    "    'Hyperesthesia': 'neurological', 'Hyper Sensitivity': 'neurological',\n",
    "    'Stiffness': 'neurological', 'Muscular Stiffness': 'neurological', 'Muscle Aches': 'neurological',\n",
    "    'Muscle Pain': 'neurological', 'Lameness': 'neurological', 'Limp': 'neurological',\n",
    "    'Lameness In Affected Leg': 'neurological', 'Walking Problem': 'neurological',\n",
    "    'Difficult In Walking': 'neurological', 'Difficulty In Walk': 'neurological',\n",
    "    'Staggering': 'neurological', 'Stumbling': 'neurological', 'Circling': 'neurological',\n",
    "    'Torticollis': 'neurological', 'Twisted Neck': 'neurological', 'Droopy Wings': 'neurological',\n",
    "    'Inability To Fly': 'neurological', 'Lying Down': 'neurological', 'Head Pressing': 'neurological',\n",
    "    'Jerky Limb Movements': 'neurological', 'Twitching': 'neurological', 'Shivering': 'neurological',\n",
    "    'Week Legs': 'neurological', 'Weak Pulse': 'neurological', 'Loss Of Powder Down': 'neurological',\n",
    "    'Beak Overgrowth': 'neurological', 'Flat Ribs': 'neurological', 'Enlarged Skulls': 'neurological',\n",
    "    'Hock Joint': 'neurological', 'Rump': 'neurological', 'Ulcerated Muscle': 'neurological',\n",
    "\n",
    "    # ------------------ Other / Miscellaneous ------------------\n",
    "    'Pain': 'other', 'Painfull': 'other', 'Tender To Touch': 'other', 'Head Ache': 'other',\n",
    "    'Chest Pain': 'other', 'Join Pains': 'other', 'Cramps': 'other', 'Muscle Pain': 'other',\n",
    "    'Bad Smell': 'other', 'Foul Breath': 'other', 'Salivation': 'other', 'Drooling': 'other',\n",
    "    'Grinding Teeth': 'other', 'Swallowing': 'other', 'Difficulty Swallowing': 'other',\n",
    "    'Painfull Swalling': 'other', 'Inability Of Swalllon Feeding': 'other', 'Frequent Yawning': 'other',\n",
    "    'Jaw Is Dropped': 'other', 'Blood In Faces': 'other', 'Blood From Mouth': 'other',\n",
    "    'Bloody Discharge': 'other', 'Bleeding Wounds': 'other', 'Firm': 'other', 'Milky Hard': 'other',\n",
    "    'Appetite': 'other', 'Bite Other Animals': 'other', 'Acting Aggressive': 'other',\n",
    "    'Severe Inflammation': 'other', 'Easily Damage Shell': 'other', 'White Mark On The Muscle': 'other',\n",
    "    'Cloacal Pasting': 'other', 'Green Dropping': 'other', 'Exercise In Tolerance': 'other',\n",
    "    'Deability': 'other', 'Difficulty Diagnosis': 'other', 'Stomatitis': 'other',\n",
    "    'Wattles': 'other', 'Lip': 'other', 'Nasal': 'other', 'Broken Bones': 'other',\n",
    "    'Rapid Heart Rate': 'other', 'Rapid Pulse And Heart Rates': 'other', 'Eye And Skin Change': 'other',\n",
    "    'Irritation': 'other', 'Profuse': 'other'\n",
    "}\n",
    "# ÁP DỤNG MAPPING VÀO DATAFRAME\n",
    "df['symptoms4'] = df['symptoms4'].map(symptom4_map)\n",
    "\n",
    "print(df['symptoms4'].value_counts())"
   ]
  },
  {
   "cell_type": "code",
   "execution_count": 991,
   "id": "1292dd51",
   "metadata": {},
   "outputs": [
    {
     "data": {
      "text/plain": [
       "AnimalName     0\n",
       "symptoms1      0\n",
       "symptoms2     25\n",
       "symptoms3      8\n",
       "symptoms4      0\n",
       "symptoms5      0\n",
       "Dangerous      0\n",
       "dtype: int64"
      ]
     },
     "execution_count": 991,
     "metadata": {},
     "output_type": "execute_result"
    }
   ],
   "source": [
    "df.isna().sum() # check giá trị thiếu"
   ]
  },
  {
   "cell_type": "markdown",
   "id": "0a8d4110",
   "metadata": {},
   "source": [
    "#### Symptoms5"
   ]
  },
  {
   "cell_type": "code",
   "execution_count": 992,
   "id": "0db307ce",
   "metadata": {},
   "outputs": [
    {
     "name": "stdout",
     "output_type": "stream",
     "text": [
      "\n",
      "symptoms5: ['Dehydration' 'Pains' 'Anorexia' 'Sneezing' 'Blue Eye' 'Sudden Death'\n",
      " 'Enlarged Lymph Nodes' 'Lossened Teeth'\n",
      " 'Enlarged Lymph Nodes Or Swelling' 'Nasal Discharge' 'Week Pulse'\n",
      " 'Vaginal Discharge' 'Severe Weekness And Depression' 'Swelling Of Joints'\n",
      " 'Neurologic Abnormalities' 'Loss Of Appettite' 'Limping'\n",
      " 'Unable To Exercise' 'Joint Pain' 'Lesions On Nose' 'Ulcerated Skin'\n",
      " 'Pain On Face' 'Vomitting' 'Blindness' 'Muscle Stiffness' 'Anaemia'\n",
      " 'Distended Chest' 'Pain' 'Pain On Leg' 'Pink Eye' 'Arthritis'\n",
      " 'Shyness Or Aggression' 'Pale Gums' 'Skin Issue' 'Raised Growth Or Bump'\n",
      " 'Bumps(Black,Grey Or Red)' 'Black Stool' 'Red And Inflammation Ear'\n",
      " 'Periodic Vommiting' 'Anemia' 'Lound Breathing' 'Polydipsa'\n",
      " 'Inability To Jump' 'Salivating' 'Effort To Breath' 'Excessive Grooming'\n",
      " 'Eye Movements' 'Rubbing Eye' 'Decrease Appetite' 'Hair Loss'\n",
      " 'Distended Stomach' 'Nuerological' 'Ocular Discharge' 'Shock' 'Lethargy'\n",
      " 'Septicemia' 'Stomach  Cramps' 'Mortality Varies' 'Lesions On Ear'\n",
      " 'Swollen And Painfull' 'Diarrhoea' 'Lameness'\n",
      " 'Inability To Absorb Nutrients' 'Facial Swelling' 'Diarrhea'\n",
      " 'Fluif Filled Blisters' 'Swelling Of Internal Organs'\n",
      " 'Milk Getting Out More Thick' 'Convulsion' 'Moist And Painfull'\n",
      " 'Faeces Are Streake With Blood' 'Abnormal Behaviour'\n",
      " 'Papules Appear On Teats Anad Udder' 'Decrease In Milk Production'\n",
      " 'Milk Reduce' 'Drop In Milk Production' 'Dry Hair Coat' 'Weakness'\n",
      " 'Eye Become Dull' 'Bloody Diarrhea' 'Stamping And Pedding Of Hind Eye'\n",
      " 'Eye Redness' 'Obscure Lameness' 'Ataxia' 'Respiratory Infection'\n",
      " 'Flaking Of The Scutes' 'Folded Ears' 'Eventually Death'\n",
      " 'Red Lesion From Bald Patches' 'Abdonormal Discomfort' 'Itchiness'\n",
      " 'Throat And Ear Pain' 'Abdonormal Pain' 'Wasting'\n",
      " 'Weigth Bearing Long Bones' 'Fatique' 'Seizures' 'Stopped Eat'\n",
      " 'Loss Of Vitamin E' 'Acting Unnaturally Tame' 'Muscle Pain' 'Nausea'\n",
      " 'Bleeding In Eye And Skin' 'Facial Paralysis' 'Jaundice'\n",
      " 'Terminal Convulsion' 'Weight Gain' 'Wool Production' 'Dullness'\n",
      " 'Dizziness' 'Tear Production' 'Muscle Aches' 'Bloody' 'Listlessness'\n",
      " 'Greenish Diarrhea' 'Drop On Egg Production' 'Lesion' 'Weight Loss'\n",
      " 'Infection' 'Dyspnea' 'Weightloss' 'Pharyngitis' 'Epistaxis' 'Congestion'\n",
      " 'Shaking Oh Head' 'Shortness Of Breath' 'Abnormalities' 'Emaciation'\n",
      " 'Snoring' 'Diphtherictic' 'Sleeping Excessively'\n",
      " 'Difficulty In Breathing' 'Chest Pain' 'Eye Closed' 'Vision Problem'\n",
      " 'Bloody In Feather' 'Misshapen Beak' 'Nervous Issue' 'Lying Down'\n",
      " 'Reduce Lamp Marking' 'Blood Poisioning' 'Colic' 'Extension Of Neck'\n",
      " 'Ulcerated Ear' 'Flock Moratality' 'Carcass Decomposes'\n",
      " 'Poor Body Condition' 'Death' 'Loss Of Eye' 'Tenderness' 'Tail Shaking'\n",
      " 'Scratching' 'Sloughing Of The Tail' 'Sensitive To Touch' 'Fever'\n",
      " 'Blood Clots' 'Staggering' 'Good Appetite' 'Depression'\n",
      " 'Increased In Breathing' 'Recumbency' 'Not Eating'\n",
      " 'Underdeveloped Muscles' 'Stiffness' 'Oxygen Defiency' 'Blister'\n",
      " 'Redness On Ear' 'Neck Vein Swelling' 'Fatigue' 'Droopy Wings'\n",
      " 'Swollen Abdomen' 'Twisted Neck' 'Slow Growth' 'Dry Air'\n",
      " 'Dizziness And Fainting' 'Bleeding From The Nose' 'Gasping For Breath'\n",
      " 'Extending Its Neck' 'Restless Movement' 'Increased Passing Gas'\n",
      " 'Frequent Eye Infections' 'Lack Of Vocalizations' 'Loss Of\\xa0Wariness'\n",
      " 'Constipation' 'Pain And Bloating' 'Undigested Seeds' 'Inability To Rise'\n",
      " 'Difficulty Moving And Eating' 'Dull Ness' 'Coughing' 'Drooping Ears'\n",
      " 'Urination Problem' 'Trembling']\n"
     ]
    }
   ],
   "source": [
    "# Xem giá trị unique của các cột categorical\n",
    "# cat_cols = ['AnimalName', 'symptoms1', 'symptoms2', 'symptoms3', 'symptoms5','symptoms5', 'Dangerous' ]\n",
    "df['symptoms5'] = df['symptoms5'].str.strip()      # xoá khoảng trắng\n",
    "df['symptoms5'] = df['symptoms5'].str.title()      # viết hoa chữ cái đầu\n",
    "cat_cols = ['symptoms5']\n",
    "for col in cat_cols:\n",
    "    print(f\"\\n{col}: {df[col].unique()}\")"
   ]
  },
  {
   "cell_type": "code",
   "execution_count": 993,
   "id": "9d8bda44",
   "metadata": {},
   "outputs": [
    {
     "name": "stdout",
     "output_type": "stream",
     "text": [
      "symptoms5\n",
      "general         267\n",
      "other           199\n",
      "neurological     92\n",
      "respiratory      86\n",
      "digestive        65\n",
      "skin             40\n",
      "swelling         24\n",
      "eye              23\n",
      "ear              18\n",
      "reproductive     15\n",
      "urinary           8\n",
      "Name: count, dtype: int64\n"
     ]
    }
   ],
   "source": [
    "symptom5_map = {\n",
    "    # ------------------ General / Systemic ------------------\n",
    "    'Dehydration': 'general', 'Anorexia': 'general', 'Loss Of Appettite': 'general',\n",
    "    'Decrease Appetite': 'general', 'Stopped Eat': 'general', 'Not Eating': 'general',\n",
    "    'Good Appetite': 'general', 'Weight Loss': 'general', 'Weightloss': 'general',\n",
    "    'Weight Gain': 'general', 'Wasting': 'general', 'Emaciation': 'general',\n",
    "    'Poor Body Condition': 'general', 'Lethargy': 'general', 'Listlessness': 'general',\n",
    "    'Fatigue': 'general', 'Fatique': 'general', 'Weakness': 'general', 'Severe Weekness And Depression': 'general',\n",
    "    'Depression': 'general', 'Shock': 'general', 'Sudden Death': 'general', 'Death': 'general',\n",
    "    'Eventually Death': 'general', 'Mortality Varies': 'general', 'Flock Moratality': 'general',\n",
    "    'Infection': 'general', 'Septicemia': 'general', 'Blood Poisioning': 'general',\n",
    "    'Anaemia': 'general', 'Anemia': 'general', 'Pale Gums': 'general', 'Fever': 'general',\n",
    "    'Dullness': 'general', 'Dull Ness': 'general', 'Eye Become Dull': 'general',\n",
    "    'Sleeping Excessively': 'general', 'Excessive Grooming': 'general', 'Loss Of\\xa0Wariness': 'general',\n",
    "    'Acting Unnaturally Tame': 'general', 'Shyness Or Aggression': 'general', 'Restless Movement': 'general',\n",
    "    'Abnormal Behaviour': 'general', 'Abnormalities': 'general', 'Nervous Issue': 'general',\n",
    "    'Loss Of Vitamin E': 'general', 'Oxygen Defiency': 'general', 'Slow Growth': 'general',\n",
    "\n",
    "    # ------------------ Respiratory ------------------\n",
    "    'Sneezing': 'respiratory', 'Nasal Discharge': 'respiratory', 'Ocular Discharge': 'respiratory',\n",
    "    'Dyspnea': 'respiratory', 'Difficulty In Breathing': 'respiratory', 'Shortness Of Breath': 'respiratory',\n",
    "    'Effort To Breath': 'respiratory', 'Lound Breathing': 'respiratory', 'Increased In Breathing': 'respiratory',\n",
    "    'Gasping For Breath': 'respiratory', 'Coughing': 'respiratory', 'Snoring': 'respiratory',\n",
    "    'Chest Pain': 'respiratory', 'Congestion': 'respiratory', 'Pharyngitis': 'respiratory',\n",
    "    'Epistaxis': 'respiratory', 'Bleeding From The Nose': 'respiratory', 'Respiratory Infection': 'respiratory',\n",
    "    'Lack Of Vocalizations': 'respiratory', 'Dry Air': 'respiratory', 'Extension Of Neck': 'respiratory',\n",
    "    'Extending Its Neck': 'respiratory',\n",
    "\n",
    "    # ------------------ Digestive ------------------\n",
    "    'Vomitting': 'digestive', 'Periodic Vommiting': 'digestive', 'Diarrhoea': 'digestive',\n",
    "    'Diarrhea': 'digestive', 'Bloody Diarrhea': 'digestive', 'Greenish Diarrhea': 'digestive',\n",
    "    'Black Stool': 'digestive', 'Watery Faeces': 'digestive', 'Faeces Are Streake With Blood': 'digestive',\n",
    "    'Stomach Cramps': 'digestive', 'Abdonormal Discomfort': 'digestive', 'Abdonormal Pain': 'digestive',\n",
    "    'Colic': 'digestive', 'Pain And Bloating': 'digestive', 'Increased Passing Gas': 'digestive',\n",
    "    'Constipation': 'digestive', 'Undigested Seeds': 'digestive', 'Distended Stomach': 'digestive',\n",
    "    'Nausea': 'digestive', 'Inability To Absorb Nutrients': 'digestive', 'Carcass Decomposes': 'digestive',\n",
    "\n",
    "    # ------------------ Urinary / Reproductive ------------------\n",
    "    'Vaginal Discharge': 'reproductive', 'Decrease In Milk Production': 'reproductive',\n",
    "    'Milk Reduce': 'reproductive', 'Drop In Milk Production': 'reproductive', 'Drop On Egg Production': 'reproductive',\n",
    "    'Milk Getting Out More Thick': 'reproductive', 'Papules Appear On Teats Anad Udder': 'reproductive',\n",
    "    'Urination Problem': 'urinary', 'Polydipsa': 'urinary',  # Polydipsia\n",
    "\n",
    "    # ------------------ Skin / Coat ------------------\n",
    "    'Hair Loss': 'skin', 'Dry Hair Coat': 'skin', 'Skin Issue': 'skin', 'Ulcerated Skin': 'skin',\n",
    "    'Lesions On Nose': 'skin', 'Lesions On Ear': 'skin', 'Lesion': 'skin', 'Red Lesion From Bald Patches': 'skin',\n",
    "    'Raised Growth Or Bump': 'skin', 'Bumps(Black,Grey Or Red)': 'skin', 'Fluif Filled Blisters': 'skin',\n",
    "    'Blister': 'skin', 'Itchiness': 'skin', 'Scratching': 'skin', 'Flaking Of The Scutes': 'skin',\n",
    "    'Sloughing Of The Tail': 'skin', 'Wool Production': 'skin', 'Reduce Lamp Marking': 'skin',\n",
    "\n",
    "    # ------------------ Eye / Ear ------------------\n",
    "    'Blue Eye': 'eye', 'Pink Eye': 'eye', 'Eye Redness': 'eye', 'Eye Closed': 'eye',\n",
    "    'Vision Problem': 'eye', 'Eye Movements': 'eye', 'Rubbing Eye': 'eye', 'Tear Production': 'eye',\n",
    "    'Frequent Eye Infections': 'eye', 'Loss Of Eye': 'eye', 'Bleeding In Eye And Skin': 'eye',\n",
    "    'Folded Ears': 'ear', 'Red And Inflammation Ear': 'ear', 'Ulcerated Ear': 'ear',\n",
    "    'Redness On Ear': 'ear', 'Throat And Ear Pain': 'ear', 'Shaking Oh Head': 'ear', 'Drooping Ears': 'ear',\n",
    "\n",
    "    # ------------------ Swelling / Edema ------------------\n",
    "    'Enlarged Lymph Nodes': 'swelling', 'Enlarged Lymph Nodes Or Swelling': 'swelling',\n",
    "    'Swelling Of Joints': 'swelling', 'Facial Swelling': 'swelling', 'Swollen And Painfull': 'swelling',\n",
    "    'Moist And Painfull': 'swelling', 'Swelling Of Internal Organs': 'swelling',\n",
    "    'Swollen Abdomen': 'swelling', 'Neck Vein Swelling': 'swelling', 'Distended Chest': 'swelling',\n",
    "\n",
    "    # ------------------ Neurological / Motor ------------------\n",
    "    'Neurologic Abnormalities': 'neurological', 'Nuerological': 'neurological',\n",
    "    'Convulsion': 'neurological', 'Seizures': 'neurological', 'Terminal Convulsion': 'neurological',\n",
    "    'Muscle Stiffness': 'neurological', 'Stiffness': 'neurological', 'Lameness': 'neurological',\n",
    "    'Limping': 'neurological', 'Obscure Lameness': 'neurological', 'Ataxia': 'neurological',\n",
    "    'Staggering': 'neurological', 'Lying Down': 'neurological', 'Recumbency': 'neurological',\n",
    "    'Inability To Rise': 'neurological', 'Difficulty Moving And Eating': 'neurological',\n",
    "    'Inability To Jump': 'neurological', 'Unable To Exercise': 'neurological',\n",
    "    'Underdeveloped Muscles': 'neurological', 'Weigth Bearing Long Bones': 'neurological',\n",
    "    'Dizziness': 'neurological', 'Dizziness And Fainting': 'neurological', 'Facial Paralysis': 'neurological',\n",
    "    'Twisted Neck': 'neurological', 'Droopy Wings': 'neurological', 'Trembling': 'neurological',\n",
    "    'Tail Shaking': 'neurological', 'Misshapen Beak': 'neurological', 'Diphtherictic': 'neurological',\n",
    "    'Blood Clots': 'neurological',\n",
    "\n",
    "    # ------------------ Other / Miscellaneous ------------------\n",
    "    'Pains': 'other', 'Pain': 'other', 'Joint Pain': 'other', 'Pain On Face': 'other',\n",
    "    'Pain On Leg': 'other', 'Muscle Pain': 'other', 'Muscle Aches': 'other', 'Tenderness': 'other',\n",
    "    'Sensitive To Touch': 'other', 'Lossened Teeth': 'other', 'Week Pulse': 'other',\n",
    "    'Arthritis': 'other', 'Septic Arthritis': 'other', 'Jaundice': 'other',\n",
    "    'Salivating': 'other', 'Bloody': 'other', 'Bloody In Feather': 'other',\n",
    "    'Stamping And Pedding Of Hind Eye': 'other', 'Tail Shaking': 'other',\n",
    "    'Dry Air': 'other', 'Blood Clots': 'other'\n",
    "}\n",
    "# ÁP DỤNG MAPPING VÀO DATAFRAME\n",
    "df['symptoms5'] = df['symptoms5'].map(symptom5_map)\n",
    "\n",
    "print(df['symptoms5'].value_counts())"
   ]
  },
  {
   "cell_type": "code",
   "execution_count": 994,
   "id": "71ec1a2b",
   "metadata": {},
   "outputs": [
    {
     "data": {
      "text/plain": [
       "AnimalName     0\n",
       "symptoms1      0\n",
       "symptoms2     25\n",
       "symptoms3      8\n",
       "symptoms4      0\n",
       "symptoms5      4\n",
       "Dangerous      0\n",
       "dtype: int64"
      ]
     },
     "execution_count": 994,
     "metadata": {},
     "output_type": "execute_result"
    }
   ],
   "source": [
    "df.isna().sum() # check giá trị thiếu"
   ]
  },
  {
   "cell_type": "markdown",
   "id": "b069fb7f",
   "metadata": {},
   "source": [
    "### Feature encoding\n"
   ]
  },
  {
   "cell_type": "markdown",
   "id": "054c4159",
   "metadata": {},
   "source": [
    "#### Dangerous      "
   ]
  },
  {
   "cell_type": "code",
   "execution_count": 995,
   "id": "9ba3b303",
   "metadata": {},
   "outputs": [],
   "source": [
    "# Apply LabelEncoder to all categorical features\n",
    "label_encoders = {}\n",
    "cat_cols = ['AnimalName', 'symptoms1', 'symptoms2', 'symptoms3', 'symptoms4', 'symptoms5']\n",
    "\n",
    "for col in cat_cols:\n",
    "    le = LabelEncoder()\n",
    "    df[col] = le.fit_transform(df[col].astype(str))  # Convert to str to handle any NaN\n",
    "    label_encoders[col] = le"
   ]
  },
  {
   "cell_type": "code",
   "execution_count": 996,
   "id": "5b18ac88",
   "metadata": {},
   "outputs": [],
   "source": [
    "# Encode target 'Dangerous' to numerical (Yes=1, No=0)\n",
    "df['Dangerous'] = df['Dangerous'].map({'Yes': 1, 'No': 0})"
   ]
  },
  {
   "cell_type": "code",
   "execution_count": 997,
   "id": "bd8587a3",
   "metadata": {},
   "outputs": [
    {
     "data": {
      "text/plain": [
       "AnimalName    0\n",
       "symptoms1     0\n",
       "symptoms2     0\n",
       "symptoms3     0\n",
       "symptoms4     0\n",
       "symptoms5     0\n",
       "Dangerous     0\n",
       "dtype: int64"
      ]
     },
     "execution_count": 997,
     "metadata": {},
     "output_type": "execute_result"
    }
   ],
   "source": [
    "df.isna().sum() # check giá trị thiếu"
   ]
  },
  {
   "cell_type": "markdown",
   "id": "9d6f81f7",
   "metadata": {},
   "source": [
    "### FEATURES AND TARGET"
   ]
  },
  {
   "cell_type": "code",
   "execution_count": 998,
   "id": "eaa515b9",
   "metadata": {},
   "outputs": [
    {
     "name": "stdout",
     "output_type": "stream",
     "text": [
      "X shape: (841, 6), y shape: (841,)\n",
      "Class distribution:\n",
      "Dangerous\n",
      "1    0.976219\n",
      "0    0.023781\n",
      "Name: proportion, dtype: float64\n"
     ]
    }
   ],
   "source": [
    "X = df.drop('Dangerous', axis=1)\n",
    "y = df['Dangerous']\n",
    "\n",
    "print(f\"X shape: {X.shape}, y shape: {y.shape}\")\n",
    "print(f\"Class distribution:\\n{y.value_counts(normalize=True)}\")"
   ]
  },
  {
   "cell_type": "markdown",
   "id": "8e85f9ee",
   "metadata": {},
   "source": [
    " ### TRAIN/TEST"
   ]
  },
  {
   "cell_type": "code",
   "execution_count": 999,
   "id": "d3f7dca2",
   "metadata": {},
   "outputs": [
    {
     "name": "stdout",
     "output_type": "stream",
     "text": [
      "Dangerous\n",
      "1    0.97619\n",
      "0    0.02381\n",
      "Name: proportion, dtype: float64\n",
      "Dangerous\n",
      "1    0.976331\n",
      "0    0.023669\n",
      "Name: proportion, dtype: float64\n"
     ]
    }
   ],
   "source": [
    "# Now split data\n",
    "X = df.drop('Dangerous', axis=1)\n",
    "y = df['Dangerous']\n",
    "\n",
    "X_train, X_test, y_train, y_test = train_test_split(X, y, test_size=0.2, random_state=42, stratify=y)\n",
    "print(y_train.value_counts(normalize=True))\n",
    "print(y_test.value_counts(normalize=True))"
   ]
  },
  {
   "cell_type": "markdown",
   "id": "1f68bbf7",
   "metadata": {},
   "source": [
    "Cả 2 đều giữ tỷ lệ ~97.3% : 2.7% → đánh giá công bằng, thực tế."
   ]
  },
  {
   "cell_type": "markdown",
   "id": "065d438b",
   "metadata": {},
   "source": [
    "### SMOTE"
   ]
  },
  {
   "cell_type": "code",
   "execution_count": 1000,
   "id": "baace0ed",
   "metadata": {},
   "outputs": [],
   "source": [
    "smote = SMOTE(random_state=42)\n",
    "X_train_bal, y_train_bal = smote.fit_resample(X_train, y_train)"
   ]
  },
  {
   "cell_type": "markdown",
   "id": "f5f33e84",
   "metadata": {},
   "source": [
    "### Scaling"
   ]
  },
  {
   "cell_type": "code",
   "execution_count": 1001,
   "id": "7d24455f",
   "metadata": {},
   "outputs": [],
   "source": [
    "scaler = StandardScaler()\n",
    "X_train_bal = scaler.fit_transform(X_train_bal)\n",
    "X_test = scaler.transform(X_test)"
   ]
  },
  {
   "cell_type": "markdown",
   "id": "919a8313",
   "metadata": {},
   "source": [
    "### SVM - Model"
   ]
  },
  {
   "cell_type": "code",
   "execution_count": 1002,
   "id": "d7b0b750",
   "metadata": {},
   "outputs": [
    {
     "name": "stdout",
     "output_type": "stream",
     "text": [
      "SVM huấn luyện xong!\n"
     ]
    }
   ],
   "source": [
    "# Train SVM\n",
    "\n",
    "svm_model = SVC(kernel='rbf', probability=True, random_state=42)\n",
    "svm_model.fit(X_train_bal, y_train_bal)\n",
    "print(\"SVM huấn luyện xong!\")"
   ]
  },
  {
   "cell_type": "markdown",
   "id": "9faf5d50",
   "metadata": {},
   "source": [
    "## model evaluation"
   ]
  },
  {
   "cell_type": "markdown",
   "id": "81d5caca",
   "metadata": {},
   "source": [
    "#### Accuracy, Precision, Recall, F1-score, ROC-AUC"
   ]
  },
  {
   "cell_type": "code",
   "execution_count": 1003,
   "id": "6b8c26dd",
   "metadata": {},
   "outputs": [
    {
     "name": "stdout",
     "output_type": "stream",
     "text": [
      "=== SVM PERFORMANCE (với SMOTE) ===\n",
      "Accuracy : 0.8698\n",
      "Precision: 0.9799\n",
      "Recall   : 0.8848\n",
      "F1-Score : 0.9299\n",
      "ROC-AUC  : 0.6545\n"
     ]
    }
   ],
   "source": [
    "# Dự đoán\n",
    "y_pred = svm_model.predict(X_test)\n",
    "y_pred_proba = svm_model.predict_proba(X_test)[:, 1]\n",
    "\n",
    "# Các chỉ số\n",
    "accuracy = accuracy_score(y_test, y_pred)\n",
    "precision = precision_score(y_test, y_pred)\n",
    "recall = recall_score(y_test, y_pred)\n",
    "f1 = f1_score(y_test, y_pred)\n",
    "auc = roc_auc_score(y_test, y_pred_proba)\n",
    "\n",
    "print(\"=== SVM PERFORMANCE (với SMOTE) ===\")\n",
    "print(f\"Accuracy : {accuracy:.4f}\")\n",
    "print(f\"Precision: {precision:.4f}\")\n",
    "print(f\"Recall   : {recall:.4f}\")\n",
    "print(f\"F1-Score : {f1:.4f}\")\n",
    "print(f\"ROC-AUC  : {auc:.4f}\")"
   ]
  },
  {
   "cell_type": "markdown",
   "id": "a9e0c883",
   "metadata": {},
   "source": [
    "#### Confusion Matrix"
   ]
  },
  {
   "cell_type": "code",
   "execution_count": 1004,
   "id": "2a74a0a4",
   "metadata": {},
   "outputs": [
    {
     "data": {
      "image/png": "[encoded data removed]",
      "text/plain": [
       "<Figure size 600x500 with 2 Axes>"
      ]
     },
     "metadata": {},
     "output_type": "display_data"
    }
   ],
   "source": [
    "cm = confusion_matrix(y_test, y_pred)\n",
    "plt.figure(figsize=(6,5))\n",
    "sns.heatmap(cm, annot=True, fmt='d', cmap='Blues',\n",
    "            xticklabels=['No Diabetes', 'Diabetes'],\n",
    "            yticklabels=['No Diabetes', 'Diabetes'])\n",
    "plt.title('Confusion Matrix - SVM')\n",
    "plt.ylabel('Actual')\n",
    "plt.xlabel('Predicted')\n",
    "plt.show()"
   ]
  },
  {
   "cell_type": "markdown",
   "id": "c07e68bf",
   "metadata": {},
   "source": [
    "#### ROC - AUC"
   ]
  },
  {
   "cell_type": "code",
   "execution_count": 1005,
   "id": "6ba7c46c",
   "metadata": {},
   "outputs": [
    {
     "data": {
      "image/png": "[encoded data removed]",
      "text/plain": [
       "<Figure size 700x600 with 1 Axes>"
      ]
     },
     "metadata": {},
     "output_type": "display_data"
    }
   ],
   "source": [
    "\n",
    "fpr, tpr, _ = roc_curve(y_test, y_pred_proba)\n",
    "plt.figure(figsize=(7,6))\n",
    "plt.plot(fpr, tpr, label=f'SVM (AUC = {auc:.3f})', color='blue')\n",
    "plt.plot([0,1], [0,1], 'k--')\n",
    "plt.xlabel('False Positive Rate')\n",
    "plt.ylabel('True Positive Rate')\n",
    "plt.title('ROC Curve - SVM')\n",
    "plt.legend()\n",
    "plt.grid(True)\n",
    "plt.show()"
   ]
  },
  {
   "cell_type": "markdown",
   "id": "e0cecb87",
   "metadata": {},
   "source": [
    "Trên biểu đồ:\n",
    ">\n",
    "Trục X = FPR (False Positive Rate) → tỷ lệ dự đoán sai: dự đoán “bị bệnh” nhưng thực tế không bị.\n",
    ">\n",
    "Trục Y = TPR (True Positive Rate) hay Recall / Sensitivity → tỷ lệ dự đoán đúng người bị bệnh.\n",
    ">\n",
    "Mục tiêu của mô hình tốt:\n",
    ">\n",
    "→ TPR cao và FPR thấp → đường cong càng cong lên phía góc trái trên càng tốt."
   ]
  },
  {
   "cell_type": "markdown",
   "id": "d66a36a5",
   "metadata": {},
   "source": [
    "### Hyperparameter Tuning bằng GridSearchCV"
   ]
  },
  {
   "cell_type": "code",
   "execution_count": 1006,
   "id": "bf822ef1",
   "metadata": {},
   "outputs": [
    {
     "name": "stdout",
     "output_type": "stream",
     "text": [
      "Fitting 3 folds for each of 9 candidates, totalling 27 fits\n",
      "Best parameters: {'C': 10, 'gamma': 'scale', 'kernel': 'rbf'}\n",
      "Best F1 score (CV): 0.9054683021896137\n"
     ]
    }
   ],
   "source": [
    "# Giảm dữ liệu để tuning nhanh hơn (vì SVM chậm)\n",
    "X_train_small, _, y_train_small, _ = train_test_split(\n",
    "    X_train_bal, y_train_bal, train_size=0.3, stratify=y_train_bal, random_state=42\n",
    ")\n",
    "\n",
    "param_grid = {\n",
    "    'C': [0.1, 1, 10],\n",
    "    'gamma': ['scale', 0.01, 0.1],\n",
    "    'kernel': ['rbf']\n",
    "}\n",
    "\n",
    "grid_search = GridSearchCV(\n",
    "    SVC(probability=True, random_state=42),\n",
    "    param_grid,\n",
    "    cv=3,\n",
    "    scoring='f1',  # ưu tiên F1 vì imbalance\n",
    "    n_jobs=-1,\n",
    "    verbose=1\n",
    ")\n",
    "\n",
    "grid_search.fit(X_train_small, y_train_small)\n",
    "\n",
    "print(\"Best parameters:\", grid_search.best_params_)\n",
    "print(\"Best F1 score (CV):\", grid_search.best_score_)"
   ]
  },
  {
   "cell_type": "code",
   "execution_count": 1009,
   "id": "14378387",
   "metadata": {},
   "outputs": [
    {
     "name": "stdout",
     "output_type": "stream",
     "text": [
      "\n",
      "=== SVM SAU KHI TUNING ===\n",
      "              precision    recall  f1-score   support\n",
      "\n",
      " No Diabetes       0.00      0.00      0.00         4\n",
      "    Diabetes       0.97      0.94      0.96       165\n",
      "\n",
      "    accuracy                           0.92       169\n",
      "   macro avg       0.49      0.47      0.48       169\n",
      "weighted avg       0.95      0.92      0.93       169\n",
      "\n",
      "ROC-AUC: 0.6697\n"
     ]
    }
   ],
   "source": [
    "# Lấy best params\n",
    "best_params = grid_search.best_params_\n",
    "\n",
    "# Train lại trên toàn bộ dữ liệu cân bằng\n",
    "best_svm = SVC(**best_params, probability=True, random_state=42)\n",
    "best_svm.fit(X_train_bal, y_train_bal)\n",
    "\n",
    "# Dự đoán lại\n",
    "y_pred_best = best_svm.predict(X_test)\n",
    "y_pred_proba_best = best_svm.predict_proba(X_test)[:, 1]\n",
    "\n",
    "# Đánh giá\n",
    "print(\"\\n=== SVM SAU KHI TUNING ===\")\n",
    "print(classification_report(y_test, y_pred_best, target_names=['No Diabetes', 'Diabetes']))\n",
    "print(f\"ROC-AUC: {roc_auc_score(y_test, y_pred_proba_best):.4f}\")"
   ]
  },
  {
   "cell_type": "markdown",
   "id": "06b8c054",
   "metadata": {},
   "source": [
    "## Save file"
   ]
  },
  {
   "cell_type": "code",
   "execution_count": 1010,
   "id": "9a36a899",
   "metadata": {},
   "outputs": [
    {
     "name": "stdout",
     "output_type": "stream",
     "text": [
      "Model và  đã được lưu!\n"
     ]
    }
   ],
   "source": [
    "# Lưu SVM \n",
    "joblib.dump(best_svm, 'svm_diabetes_model.pkl')\n",
    "\n",
    "print(\"Model và  đã được lưu!\")"
   ]
  }
 ],
 "metadata": {
  "kernelspec": {
   "display_name": "base",
   "language": "python",
   "name": "python3"
  },
  "language_info": {
   "codemirror_mode": {
    "name": "ipython",
    "version": 3
   },
   "file_extension": ".py",
   "mimetype": "text/x-python",
   "name": "python",
   "nbconvert_exporter": "python",
   "pygments_lexer": "ipython3",
   "version": "3.13.5"
  }
 },
 "nbformat": 4,
 "nbformat_minor": 5
}
