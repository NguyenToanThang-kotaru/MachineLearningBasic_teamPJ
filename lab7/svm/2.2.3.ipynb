{
 "cells": [
  {
   "cell_type": "markdown",
   "id": "ad08cdfd",
   "metadata": {},
   "source": [
    "# Diabetes "
   ]
  },
  {
   "cell_type": "markdown",
   "id": "19470fc3",
   "metadata": {},
   "source": [
    "## Introduction"
   ]
  },
  {
   "cell_type": "markdown",
   "id": "77e09bf6",
   "metadata": {},
   "source": [
    ">Bệnh tiểu đường (Diabetes Mellitus) là một trong những vấn đề sức khỏe toàn cầu nghiêm trọng nhất hiện nay, ảnh hưởng đến hàng trăm triệu người và là nguyên nhân hàng đầu gây tử vong do các biến chứng như tim mạch, suy thận, mù lòa.\n",
    "\n",
    ">Việc dự đoán sớm bệnh tiểu đường dựa trên các chỉ số sinh học giúp can thiệp kịp thời, cải thiện chất lượng cuộc sống và giảm chi phí y tế.\n",
    "\n",
    ">Dataset sử dụng: Dữ liệu Pima Indians Diabetes Database (từ notebook Kaggle bạn cung cấp: Diabetes EDA + Random Forest), bao gồm 768 mẫu từ phụ nữ bộ tộc Pima (Ấn Độ) ở Arizona, Mỹ, tuổi từ 21 trở lên.\n",
    "\n",
    ">Mục tiêu: Phân loại nhị phân (binary classification) - dự đoán bệnh nhân có bị tiểu đường (Outcome = 1) hay không (Outcome = 0) trong vòng 5 năm tới."
   ]
  },
  {
   "cell_type": "markdown",
   "id": "ef0ec10d",
   "metadata": {},
   "source": [
    "## Preparation\n"
   ]
  },
  {
   "cell_type": "markdown",
   "id": "55dd01b8",
   "metadata": {},
   "source": [
    "### Import necessary libraries"
   ]
  },
  {
   "cell_type": "code",
   "execution_count": 52,
   "id": "06596723",
   "metadata": {},
   "outputs": [],
   "source": [
    "import pandas as pd\n",
    "from sklearn.preprocessing import  LabelEncoder, StandardScaler\n",
    "from sklearn.model_selection import train_test_split \n",
    "from imblearn.over_sampling import SMOTE\n",
    "from sklearn.pipeline import Pipeline\n",
    "from sklearn.compose import ColumnTransformer\n",
    "from sklearn.svm import SVC\n",
    "from sklearn.metrics import (\n",
    "    classification_report, confusion_matrix, \n",
    "    roc_auc_score, roc_curve, accuracy_score,\n",
    "    f1_score, precision_score, recall_score\n",
    ")\n",
    "import joblib\n",
    "import matplotlib.pyplot as plt\n",
    "import seaborn as sns\n",
    "from sklearn.model_selection import GridSearchCV"
   ]
  },
  {
   "cell_type": "markdown",
   "id": "46b72b9e",
   "metadata": {},
   "source": [
    "### Load train file"
   ]
  },
  {
   "cell_type": "code",
   "execution_count": 25,
   "id": "8556666f",
   "metadata": {},
   "outputs": [],
   "source": [
    "df = pd.read_csv('diabetes_prediction_dataset.csv')"
   ]
  },
  {
   "cell_type": "markdown",
   "id": "66d7a2b5",
   "metadata": {},
   "source": [
    "## EDA – Exploratory Data Analysis"
   ]
  },
  {
   "cell_type": "code",
   "execution_count": 26,
   "id": "6a1966a0",
   "metadata": {},
   "outputs": [
    {
     "name": "stdout",
     "output_type": "stream",
     "text": [
      "\n",
      "Shape: (100000, 9)\n",
      "\n",
      "Columns: ['gender', 'age', 'hypertension', 'heart_disease', 'smoking_history', 'bmi', 'HbA1c_level', 'blood_glucose_level', 'diabetes']\n"
     ]
    }
   ],
   "source": [
    "df.head()\n",
    "print(f\"\\nShape: {df.shape}\")\n",
    "print(f\"\\nColumns: {df.columns.tolist()}\")"
   ]
  },
  {
   "cell_type": "markdown",
   "id": "e2318775",
   "metadata": {},
   "source": [
    "## Data Preprocessing"
   ]
  },
  {
   "cell_type": "markdown",
   "id": "a662d1fa",
   "metadata": {},
   "source": [
    "### Handle missing value"
   ]
  },
  {
   "cell_type": "code",
   "execution_count": 40,
   "id": "069936d2",
   "metadata": {},
   "outputs": [
    {
     "name": "stdout",
     "output_type": "stream",
     "text": [
      "<class 'pandas.core.frame.DataFrame'>\n",
      "Index: 96128 entries, 0 to 99999\n",
      "Data columns (total 9 columns):\n",
      " #   Column               Non-Null Count  Dtype  \n",
      "---  ------               --------------  -----  \n",
      " 0   gender               96128 non-null  int64  \n",
      " 1   age                  96128 non-null  float64\n",
      " 2   hypertension         96128 non-null  int64  \n",
      " 3   heart_disease        96128 non-null  int64  \n",
      " 4   smoking_history      96128 non-null  int64  \n",
      " 5   bmi                  96128 non-null  float64\n",
      " 6   HbA1c_level          96128 non-null  float64\n",
      " 7   blood_glucose_level  96128 non-null  int64  \n",
      " 8   diabetes             96128 non-null  int64  \n",
      "dtypes: float64(3), int64(6)\n",
      "memory usage: 7.3 MB\n",
      "None\n",
      "\n",
      "Missing values:\n",
      "gender                 0\n",
      "age                    0\n",
      "hypertension           0\n",
      "heart_disease          0\n",
      "smoking_history        0\n",
      "bmi                    0\n",
      "HbA1c_level            0\n",
      "blood_glucose_level    0\n",
      "diabetes               0\n",
      "dtype: int64\n",
      "\n",
      "Duplicate rows: 98\n"
     ]
    }
   ],
   "source": [
    "# Thông tin cơ bản\n",
    "print(df.info())\n",
    "print(\"\\nMissing values:\")\n",
    "print(df.isnull().sum())\n",
    "\n",
    "# Kiểm tra duplicate\n",
    "print(f\"\\nDuplicate rows: {df.duplicated().sum()}\")\n",
    "df = df.drop_duplicates()"
   ]
  },
  {
   "cell_type": "markdown",
   "id": "71a494e6",
   "metadata": {},
   "source": [
    "### Duplicate data"
   ]
  },
  {
   "cell_type": "code",
   "execution_count": 28,
   "id": "8d1feee8",
   "metadata": {},
   "outputs": [
    {
     "name": "stdout",
     "output_type": "stream",
     "text": [
      "\n",
      "Sau khi xóa duplicates: 0 dòng trùng lặp\n",
      "Số dòng còn lại: 96146\n"
     ]
    }
   ],
   "source": [
    "df = df.drop_duplicates()\n",
    "print(f\"\\nSau khi xóa duplicates: {df.duplicated().sum()} dòng trùng lặp\")\n",
    "print(f\"Số dòng còn lại: {len(df)}\")"
   ]
  },
  {
   "cell_type": "markdown",
   "id": "905473c5",
   "metadata": {},
   "source": [
    "### Feature Engineering"
   ]
  },
  {
   "cell_type": "markdown",
   "id": "3b43d214",
   "metadata": {},
   "source": [
    "#### smoking_history"
   ]
  },
  {
   "cell_type": "code",
   "execution_count": 29,
   "id": "6dd75d3d",
   "metadata": {},
   "outputs": [
    {
     "name": "stdout",
     "output_type": "stream",
     "text": [
      "\n",
      "gender: ['Female' 'Male' 'Other']\n",
      "\n",
      "hypertension: [0 1]\n",
      "\n",
      "heart_disease: [1 0]\n",
      "\n",
      "smoking_history: ['never' 'No Info' 'current' 'former' 'ever' 'not current']\n",
      "\n",
      "diabetes: [0 1]\n"
     ]
    }
   ],
   "source": [
    "# Xem giá trị unique của các cột categorical\n",
    "cat_cols = ['gender', 'hypertension', 'heart_disease', 'smoking_history', 'diabetes']\n",
    "for col in cat_cols:\n",
    "    print(f\"\\n{col}: {df[col].unique()}\")"
   ]
  },
  {
   "cell_type": "code",
   "execution_count": 30,
   "id": "2f74efd3",
   "metadata": {},
   "outputs": [
    {
     "name": "stdout",
     "output_type": "stream",
     "text": [
      "smoking_history\n",
      "never      34398\n",
      "no_info    32887\n",
      "former     15666\n",
      "current     9197\n",
      "ever        3998\n",
      "Name: count, dtype: int64\n"
     ]
    }
   ],
   "source": [
    "# Gộp nhóm hợp lý\n",
    "smoking_map = {\n",
    "    'never': 'never',\n",
    "    'No Info': 'no_info',\n",
    "    'current': 'current',\n",
    "    'former': 'former',\n",
    "    'ever': 'ever',\n",
    "    'not current': 'former'  # gộp vào former\n",
    "}\n",
    "\n",
    "df['smoking_history'] = df['smoking_history'].map(smoking_map)\n",
    "print(df['smoking_history'].value_counts())"
   ]
  },
  {
   "cell_type": "markdown",
   "id": "dc0dda05",
   "metadata": {},
   "source": [
    "→ ever và not current thực chất là former, nhưng hệ thống ghi nhận khác nhau!"
   ]
  },
  {
   "cell_type": "markdown",
   "id": "2d816ca9",
   "metadata": {},
   "source": [
    "#### gender"
   ]
  },
  {
   "cell_type": "code",
   "execution_count": 31,
   "id": "f1ea06b5",
   "metadata": {},
   "outputs": [
    {
     "name": "stdout",
     "output_type": "stream",
     "text": [
      "gender\n",
      "Female    56161\n",
      "Male      39967\n",
      "Other        18\n",
      "Name: count, dtype: int64\n"
     ]
    }
   ],
   "source": [
    "# Xem số lượng 'Other'\n",
    "print(df['gender'].value_counts())"
   ]
  },
  {
   "cell_type": "markdown",
   "id": "7f42cd3a",
   "metadata": {},
   "source": [
    "Other rất ít (< 1%), loại bỏ\n"
   ]
  },
  {
   "cell_type": "code",
   "execution_count": 32,
   "id": "1ee0f8ef",
   "metadata": {},
   "outputs": [],
   "source": [
    "df = df[df['gender'] != 'Other']  # loại bỏ 'Other' vì rất ít (~18 dòng)"
   ]
  },
  {
   "cell_type": "markdown",
   "id": "a8f7edf2",
   "metadata": {},
   "source": [
    "### Feature encoding"
   ]
  },
  {
   "cell_type": "code",
   "execution_count": 33,
   "id": "7e43adbb",
   "metadata": {},
   "outputs": [],
   "source": [
    "# Label Encoding cho các cột categorical\n",
    "le_gender = LabelEncoder()\n",
    "le_smoking = LabelEncoder()\n",
    "\n",
    "df['gender'] = le_gender.fit_transform(df['gender'])  # Female=0, Male=1\n",
    "df['smoking_history'] = le_smoking.fit_transform(df['smoking_history'])"
   ]
  },
  {
   "cell_type": "markdown",
   "id": "147c26e2",
   "metadata": {},
   "source": [
    "### FEATURES AND TARGET"
   ]
  },
  {
   "cell_type": "code",
   "execution_count": 34,
   "id": "dabadd79",
   "metadata": {},
   "outputs": [
    {
     "name": "stdout",
     "output_type": "stream",
     "text": [
      "X shape: (96128, 8), y shape: (96128,)\n",
      "Class distribution:\n",
      "diabetes\n",
      "0    0.911763\n",
      "1    0.088237\n",
      "Name: proportion, dtype: float64\n"
     ]
    }
   ],
   "source": [
    "X = df.drop('diabetes', axis=1)\n",
    "y = df['diabetes']\n",
    "\n",
    "print(f\"X shape: {X.shape}, y shape: {y.shape}\")\n",
    "print(f\"Class distribution:\\n{y.value_counts(normalize=True)}\")"
   ]
  },
  {
   "cell_type": "markdown",
   "id": "d55c3f01",
   "metadata": {},
   "source": [
    "Kết quả thường thấy: ~91.2% class 0, ~8.8% class 1 → rất mất cân bằng"
   ]
  },
  {
   "cell_type": "markdown",
   "id": "b81d69b4",
   "metadata": {},
   "source": [
    " ### TRAIN/TEST"
   ]
  },
  {
   "cell_type": "code",
   "execution_count": 35,
   "id": "240456ca",
   "metadata": {},
   "outputs": [
    {
     "name": "stdout",
     "output_type": "stream",
     "text": [
      "diabetes\n",
      "0    0.911758\n",
      "1    0.088242\n",
      "Name: proportion, dtype: float64\n",
      "diabetes\n",
      "0    0.911786\n",
      "1    0.088214\n",
      "Name: proportion, dtype: float64\n"
     ]
    }
   ],
   "source": [
    "X_train, X_test, y_train, y_test = train_test_split(\n",
    "    X, y, test_size=0.2, random_state=42, stratify=y\n",
    ")\n",
    "print(y_train.value_counts(normalize=True))\n",
    "print(y_test.value_counts(normalize=True))"
   ]
  },
  {
   "cell_type": "markdown",
   "id": "f2b30873",
   "metadata": {},
   "source": [
    "Cả 2 đều giữ tỷ lệ ~91.5% : 8.5% → đánh giá công bằng, thực tế."
   ]
  },
  {
   "cell_type": "markdown",
   "id": "b906a718",
   "metadata": {},
   "source": [
    "### Scaling"
   ]
  },
  {
   "cell_type": "code",
   "execution_count": 36,
   "id": "29f4fe6b",
   "metadata": {},
   "outputs": [],
   "source": [
    "\n",
    "# Danh sách cột số cần scale\n",
    "num_cols = ['age', 'bmi', 'HbA1c_level', 'blood_glucose_level']\n",
    "\n",
    "scaler = StandardScaler()\n",
    "\n",
    "X_train[num_cols] = scaler.fit_transform(X_train[num_cols])\n",
    "X_test[num_cols] = scaler.transform(X_test[num_cols])"
   ]
  },
  {
   "cell_type": "markdown",
   "id": "414cdd41",
   "metadata": {},
   "source": [
    "→ Nếu không scale → mô hình sẽ ưu tiên cột có giá trị lớn hơn (ví dụ: blood_glucose_level) → học sai!"
   ]
  },
  {
   "cell_type": "markdown",
   "id": "060170e4",
   "metadata": {},
   "source": [
    "## SMOTE"
   ]
  },
  {
   "cell_type": "code",
   "execution_count": 37,
   "id": "8bbb1f82",
   "metadata": {},
   "outputs": [
    {
     "name": "stdout",
     "output_type": "stream",
     "text": [
      "After SMOTE:\n",
      "X_train_bal shape: (140232, 8)\n",
      "diabetes\n",
      "0    70116\n",
      "1    70116\n",
      "Name: count, dtype: int64\n"
     ]
    }
   ],
   "source": [
    "# Chỉ áp dụng SMOTE trên tập train\n",
    "smote = SMOTE(random_state=42)\n",
    "X_train_bal, y_train_bal = smote.fit_resample(X_train, y_train)\n",
    "\n",
    "print(f\"After SMOTE:\")\n",
    "print(f\"X_train_bal shape: {X_train_bal.shape}\")\n",
    "print(y_train_bal.value_counts())"
   ]
  },
  {
   "cell_type": "markdown",
   "id": "dfaae657",
   "metadata": {},
   "source": [
    "### TẠO PIPELINE HOÀN CHỈNH (TỐI ƯU – DÙNG SAU NÀY)"
   ]
  },
  {
   "cell_type": "code",
   "execution_count": 38,
   "id": "8f139e7b",
   "metadata": {},
   "outputs": [],
   "source": [
    "from sklearn.preprocessing import OneHotEncoder\n",
    "\n",
    "# Pipeline hoàn chỉnh\n",
    "numeric_features = ['age', 'bmi', 'HbA1c_level', 'blood_glucose_level']\n",
    "categorical_features = ['gender', 'smoking_history']\n",
    "\n",
    "preprocessor = ColumnTransformer([\n",
    "    ('num', StandardScaler(), numeric_features),\n",
    "    ('cat', OneHotEncoder(drop='first', handle_unknown='ignore'), categorical_features)\n",
    "], remainder='passthrough')\n",
    "\n",
    "# Áp dụng\n",
    "X_train_processed = preprocessor.fit_transform(X_train)\n",
    "X_test_processed = preprocessor.transform(X_test)\n",
    "\n",
    "# (Tùy chọn) SMOTE sau khi đã preprocess\n",
    "smote = SMOTE(random_state=42)\n",
    "X_train_bal, y_train_bal = smote.fit_resample(X_train_processed, y_train)"
   ]
  },
  {
   "cell_type": "markdown",
   "id": "266486bf",
   "metadata": {},
   "source": [
    "## SVM - Model"
   ]
  },
  {
   "cell_type": "code",
   "execution_count": 39,
   "id": "81f20201",
   "metadata": {},
   "outputs": [
    {
     "name": "stdout",
     "output_type": "stream",
     "text": [
      "SVM huấn luyện xong!\n"
     ]
    }
   ],
   "source": [
    "# Khởi tạo SVM với kernel RBF (phổ biến nhất)\n",
    "svm_model = SVC(kernel='rbf', probability=True, random_state=42)\n",
    "\n",
    "# Huấn luyện trên dữ liệu đã cân bằng\n",
    "svm_model.fit(X_train_bal, y_train_bal)\n",
    "\n",
    "print(\"SVM huấn luyện xong!\")"
   ]
  },
  {
   "cell_type": "markdown",
   "id": "52960a05",
   "metadata": {},
   "source": [
    "## model evaluation"
   ]
  },
  {
   "cell_type": "markdown",
   "id": "02cf46a1",
   "metadata": {},
   "source": [
    "#### Accuracy, Precision, Recall, F1-score, ROC-AUC"
   ]
  },
  {
   "cell_type": "code",
   "execution_count": 44,
   "id": "9e0f7828",
   "metadata": {},
   "outputs": [
    {
     "name": "stdout",
     "output_type": "stream",
     "text": [
      "=== SVM PERFORMANCE (với SMOTE) ===\n",
      "Accuracy : 0.8833\n",
      "Precision: 0.4250\n",
      "Recall   : 0.9145\n",
      "F1-Score : 0.5804\n",
      "ROC-AUC  : 0.9672\n"
     ]
    }
   ],
   "source": [
    "# Dự đoán\n",
    "y_pred = svm_model.predict(X_test_processed)\n",
    "y_pred_proba = svm_model.predict_proba(X_test_processed)[:, 1]\n",
    "\n",
    "# Các chỉ số\n",
    "accuracy = accuracy_score(y_test, y_pred)\n",
    "precision = precision_score(y_test, y_pred)\n",
    "recall = recall_score(y_test, y_pred)\n",
    "f1 = f1_score(y_test, y_pred)\n",
    "auc = roc_auc_score(y_test, y_pred_proba)\n",
    "\n",
    "print(\"=== SVM PERFORMANCE (với SMOTE) ===\")\n",
    "print(f\"Accuracy : {accuracy:.4f}\")\n",
    "print(f\"Precision: {precision:.4f}\")\n",
    "print(f\"Recall   : {recall:.4f}\")\n",
    "print(f\"F1-Score : {f1:.4f}\")\n",
    "print(f\"ROC-AUC  : {auc:.4f}\")"
   ]
  },
  {
   "cell_type": "markdown",
   "id": "c13261d9",
   "metadata": {},
   "source": [
    "#### Confusion Matrix"
   ]
  },
  {
   "cell_type": "code",
   "execution_count": 49,
   "id": "322d8a65",
   "metadata": {},
   "outputs": [
    {
     "data": {
      "image/png": "[encoded data removed]",
      "text/plain": [
       "<Figure size 600x500 with 2 Axes>"
      ]
     },
     "metadata": {},
     "output_type": "display_data"
    }
   ],
   "source": [
    "cm = confusion_matrix(y_test, y_pred)\n",
    "plt.figure(figsize=(6,5))\n",
    "sns.heatmap(cm, annot=True, fmt='d', cmap='Blues',\n",
    "            xticklabels=['No Diabetes', 'Diabetes'],\n",
    "            yticklabels=['No Diabetes', 'Diabetes'])\n",
    "plt.title('Confusion Matrix - SVM')\n",
    "plt.ylabel('Actual')\n",
    "plt.xlabel('Predicted')\n",
    "plt.show()"
   ]
  },
  {
   "cell_type": "markdown",
   "id": "b3cacaa3",
   "metadata": {},
   "source": [
    "#### ROC - AUC"
   ]
  },
  {
   "cell_type": "code",
   "execution_count": 50,
   "id": "88d296ed",
   "metadata": {},
   "outputs": [
    {
     "data": {
      "image/png": "[encoded data removed]",
      "text/plain": [
       "<Figure size 700x600 with 1 Axes>"
      ]
     },
     "metadata": {},
     "output_type": "display_data"
    }
   ],
   "source": [
    "fpr, tpr, _ = roc_curve(y_test, y_pred_proba)\n",
    "plt.figure(figsize=(7,6))\n",
    "plt.plot(fpr, tpr, label=f'SVM (AUC = {auc:.3f})', color='blue')\n",
    "plt.plot([0,1], [0,1], 'k--')\n",
    "plt.xlabel('False Positive Rate')\n",
    "plt.ylabel('True Positive Rate')\n",
    "plt.title('ROC Curve - SVM')\n",
    "plt.legend()\n",
    "plt.grid(True)\n",
    "plt.show()"
   ]
  },
  {
   "cell_type": "markdown",
   "id": "0f398487",
   "metadata": {},
   "source": [
    "### Hyperparameter Tuning bằng GridSearchCV"
   ]
  },
  {
   "cell_type": "code",
   "execution_count": 53,
   "id": "431e05fe",
   "metadata": {},
   "outputs": [
    {
     "name": "stdout",
     "output_type": "stream",
     "text": [
      "Fitting 3 folds for each of 9 candidates, totalling 27 fits\n",
      "Best parameters: {'C': 10, 'gamma': 'scale', 'kernel': 'rbf'}\n",
      "Best F1 score (CV): 0.9134401543101642\n"
     ]
    }
   ],
   "source": [
    "# Giảm dữ liệu để tuning nhanh hơn (vì SVM chậm)\n",
    "X_train_small, _, y_train_small, _ = train_test_split(\n",
    "    X_train_bal, y_train_bal, train_size=0.3, stratify=y_train_bal, random_state=42\n",
    ")\n",
    "\n",
    "param_grid = {\n",
    "    'C': [0.1, 1, 10],\n",
    "    'gamma': ['scale', 0.01, 0.1],\n",
    "    'kernel': ['rbf']\n",
    "}\n",
    "\n",
    "grid_search = GridSearchCV(\n",
    "    SVC(probability=True, random_state=42),\n",
    "    param_grid,\n",
    "    cv=3,\n",
    "    scoring='f1',  # ưu tiên F1 vì imbalance\n",
    "    n_jobs=-1,\n",
    "    verbose=1\n",
    ")\n",
    "\n",
    "grid_search.fit(X_train_small, y_train_small)\n",
    "\n",
    "print(\"Best parameters:\", grid_search.best_params_)\n",
    "print(\"Best F1 score (CV):\", grid_search.best_score_)"
   ]
  },
  {
   "cell_type": "code",
   "execution_count": 58,
   "id": "eee69e95",
   "metadata": {},
   "outputs": [
    {
     "name": "stdout",
     "output_type": "stream",
     "text": [
      "\n",
      "=== SVM SAU KHI TUNING ===\n",
      "              precision    recall  f1-score   support\n",
      "\n",
      " No Diabetes       0.99      0.89      0.94     17530\n",
      "    Diabetes       0.44      0.91      0.59      1696\n",
      "\n",
      "    accuracy                           0.89     19226\n",
      "   macro avg       0.72      0.90      0.77     19226\n",
      "weighted avg       0.94      0.89      0.91     19226\n",
      "\n",
      "ROC-AUC: 0.9683\n"
     ]
    }
   ],
   "source": [
    "# Lấy best params\n",
    "best_params = grid_search.best_params_\n",
    "\n",
    "# Train lại trên toàn bộ dữ liệu cân bằng\n",
    "best_svm = SVC(**best_params, probability=True, random_state=42)\n",
    "best_svm.fit(X_train_bal, y_train_bal)\n",
    "\n",
    "# Dự đoán lại\n",
    "y_pred_best = best_svm.predict(X_test_processed)\n",
    "y_pred_proba_best = best_svm.predict_proba(X_test_processed)[:, 1]\n",
    "\n",
    "# Đánh giá\n",
    "print(\"\\n=== SVM SAU KHI TUNING ===\")\n",
    "print(classification_report(y_test, y_pred_best, target_names=['No Diabetes', 'Diabetes']))\n",
    "print(f\"ROC-AUC: {roc_auc_score(y_test, y_pred_proba_best):.4f}\")"
   ]
  },
  {
   "cell_type": "markdown",
   "id": "02fe2f87",
   "metadata": {},
   "source": [
    "## Save file"
   ]
  },
  {
   "cell_type": "code",
   "execution_count": 59,
   "id": "4fe574c9",
   "metadata": {},
   "outputs": [
    {
     "name": "stdout",
     "output_type": "stream",
     "text": [
      "Model và preprocessor đã được lưu!\n"
     ]
    }
   ],
   "source": [
    "# Lưu SVM + preprocessor\n",
    "joblib.dump(best_svm, 'svm_diabetes_model.pkl')\n",
    "joblib.dump(preprocessor, 'preprocessor.pkl')\n",
    "\n",
    "print(\"Model và preprocessor đã được lưu!\")"
   ]
  }
 ],
 "metadata": {
  "kernelspec": {
   "display_name": "base",
   "language": "python",
   "name": "python3"
  },
  "language_info": {
   "codemirror_mode": {
    "name": "ipython",
    "version": 3
   },
   "file_extension": ".py",
   "mimetype": "text/x-python",
   "name": "python",
   "nbconvert_exporter": "python",
   "pygments_lexer": "ipython3",
   "version": "3.13.5"
  }
 },
 "nbformat": 4,
 "nbformat_minor": 5
}
