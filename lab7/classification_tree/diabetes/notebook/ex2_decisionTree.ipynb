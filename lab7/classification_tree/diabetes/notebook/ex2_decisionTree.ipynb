{
 "cells": [
  {
   "cell_type": "markdown",
   "id": "5b760e3e",
   "metadata": {},
   "source": [
    "# Diabetes - Decision tree"
   ]
  },
  {
   "cell_type": "markdown",
   "id": "e43dbda7",
   "metadata": {},
   "source": [
    "## Preparation"
   ]
  },
  {
   "cell_type": "code",
   "execution_count": 1,
   "id": "d91ac954",
   "metadata": {},
   "outputs": [
    {
     "data": {
      "text/html": [
       "<div>\n",
       "<style scoped>\n",
       "    .dataframe tbody tr th:only-of-type {\n",
       "        vertical-align: middle;\n",
       "    }\n",
       "\n",
       "    .dataframe tbody tr th {\n",
       "        vertical-align: top;\n",
       "    }\n",
       "\n",
       "    .dataframe thead th {\n",
       "        text-align: right;\n",
       "    }\n",
       "</style>\n",
       "<table border=\"1\" class=\"dataframe\">\n",
       "  <thead>\n",
       "    <tr style=\"text-align: right;\">\n",
       "      <th></th>\n",
       "      <th>gender</th>\n",
       "      <th>age</th>\n",
       "      <th>hypertension</th>\n",
       "      <th>heart_disease</th>\n",
       "      <th>smoking_history</th>\n",
       "      <th>bmi</th>\n",
       "      <th>HbA1c_level</th>\n",
       "      <th>blood_glucose_level</th>\n",
       "      <th>diabetes</th>\n",
       "    </tr>\n",
       "  </thead>\n",
       "  <tbody>\n",
       "    <tr>\n",
       "      <th>0</th>\n",
       "      <td>Female</td>\n",
       "      <td>80.0</td>\n",
       "      <td>0</td>\n",
       "      <td>1</td>\n",
       "      <td>never</td>\n",
       "      <td>25.19</td>\n",
       "      <td>6.6</td>\n",
       "      <td>140</td>\n",
       "      <td>0</td>\n",
       "    </tr>\n",
       "    <tr>\n",
       "      <th>1</th>\n",
       "      <td>Female</td>\n",
       "      <td>54.0</td>\n",
       "      <td>0</td>\n",
       "      <td>0</td>\n",
       "      <td>No Info</td>\n",
       "      <td>27.32</td>\n",
       "      <td>6.6</td>\n",
       "      <td>80</td>\n",
       "      <td>0</td>\n",
       "    </tr>\n",
       "    <tr>\n",
       "      <th>2</th>\n",
       "      <td>Male</td>\n",
       "      <td>28.0</td>\n",
       "      <td>0</td>\n",
       "      <td>0</td>\n",
       "      <td>never</td>\n",
       "      <td>27.32</td>\n",
       "      <td>5.7</td>\n",
       "      <td>158</td>\n",
       "      <td>0</td>\n",
       "    </tr>\n",
       "  </tbody>\n",
       "</table>\n",
       "</div>"
      ],
      "text/plain": [
       "   gender   age  hypertension  heart_disease smoking_history    bmi  \\\n",
       "0  Female  80.0             0              1           never  25.19   \n",
       "1  Female  54.0             0              0         No Info  27.32   \n",
       "2    Male  28.0             0              0           never  27.32   \n",
       "\n",
       "   HbA1c_level  blood_glucose_level  diabetes  \n",
       "0          6.6                  140         0  \n",
       "1          6.6                   80         0  \n",
       "2          5.7                  158         0  "
      ]
     },
     "execution_count": 1,
     "metadata": {},
     "output_type": "execute_result"
    }
   ],
   "source": [
    "from os.path import join\n",
    "import pandas as pd\n",
    "import numpy as np\n",
    "from imblearn.over_sampling import SMOTE\n",
    "from sklearn.model_selection import train_test_split\n",
    "from sklearn.model_selection import KFold\n",
    "from sklearn.metrics import accuracy_score\n",
    "from sklearn import tree\n",
    "from collections import Counter\n",
    "\n",
    "input_dir = join('..', 'data', 'raw')\n",
    "output_dir = join('..', 'data', 'result')\n",
    "log_dir = join('..', 'log')\n",
    "\n",
    "diabetes = pd.read_csv(join(input_dir, 'diabetes_prediction_dataset.csv'))\n",
    "diabetes.head(3)"
   ]
  },
  {
   "cell_type": "code",
   "execution_count": 2,
   "id": "eedcf525",
   "metadata": {},
   "outputs": [
    {
     "name": "stdout",
     "output_type": "stream",
     "text": [
      "<class 'pandas.core.frame.DataFrame'>\n",
      "RangeIndex: 100000 entries, 0 to 99999\n",
      "Data columns (total 9 columns):\n",
      " #   Column               Non-Null Count   Dtype  \n",
      "---  ------               --------------   -----  \n",
      " 0   gender               100000 non-null  object \n",
      " 1   age                  100000 non-null  float64\n",
      " 2   hypertension         100000 non-null  int64  \n",
      " 3   heart_disease        100000 non-null  int64  \n",
      " 4   smoking_history      100000 non-null  object \n",
      " 5   bmi                  100000 non-null  float64\n",
      " 6   HbA1c_level          100000 non-null  float64\n",
      " 7   blood_glucose_level  100000 non-null  int64  \n",
      " 8   diabetes             100000 non-null  int64  \n",
      "dtypes: float64(3), int64(4), object(2)\n",
      "memory usage: 6.9+ MB\n"
     ]
    }
   ],
   "source": [
    "df = diabetes.copy()\n",
    "df.info()"
   ]
  },
  {
   "cell_type": "markdown",
   "id": "47ce7398",
   "metadata": {},
   "source": [
    "## Feature information:\n",
    "- gender: Female or male\n",
    "- age: patient's age\n",
    "- hypertension: high blood pressure disease (0: No - 1: Yes)\n",
    "- heart_disease: (0: No - 1: Yes)\n",
    "- smoking_history: There are multiple labels for this feature, mainly \"No info\" and \"never\"\n",
    "- bmi: body mass index - higher bmi tends to have higher risk of diabetes\n",
    "- HbA1c_level: person's average blood sugar level over the past 2-3 months (higher => more chance of developing diabetes)\n",
    "- blood_glucose_level: the amount of glucose in the bloodstream at a given time\n",
    "- diabetes: (0: No - 1: Having diabetes)\n",
    "\n",
    "The first thing we usually do when it comes to training new model is to explore and analyze the dataset. Luckily, there is a notebook created by pannmie that did a great job on EDA analysis, we could see more from here: https://www.kaggle.com/code/tumpanjawat/diabetes-eda-random-forest-hp/notebook."
   ]
  },
  {
   "cell_type": "markdown",
   "id": "f6a63bd5",
   "metadata": {},
   "source": [
    "## Preprocessing"
   ]
  },
  {
   "cell_type": "markdown",
   "id": "62af28f5",
   "metadata": {},
   "source": [
    "From pannmie's EDA Analysis, we can see that:\n",
    "- Too many duplicate rows of data (3854 rows)\n",
    "- No missing values\n",
    "- Right-skewed feature (BMI)\n",
    "- Imbalance dataset (hypertension, heart_disease, diabetes)\n",
    "- No encoding for categorical features \n",
    "\n",
    "We need to solve these challenges in order to improve the model's accuracy.\n",
    "Also, from the notebook we can see that the authour had reengineered `smoking_history` features from 6 unique values into only 3, which is what I want to apply as well."
   ]
  },
  {
   "cell_type": "code",
   "execution_count": 3,
   "id": "5a4fb73a",
   "metadata": {},
   "outputs": [
    {
     "data": {
      "text/html": [
       "<div>\n",
       "<style scoped>\n",
       "    .dataframe tbody tr th:only-of-type {\n",
       "        vertical-align: middle;\n",
       "    }\n",
       "\n",
       "    .dataframe tbody tr th {\n",
       "        vertical-align: top;\n",
       "    }\n",
       "\n",
       "    .dataframe thead th {\n",
       "        text-align: right;\n",
       "    }\n",
       "</style>\n",
       "<table border=\"1\" class=\"dataframe\">\n",
       "  <thead>\n",
       "    <tr style=\"text-align: right;\">\n",
       "      <th></th>\n",
       "      <th>gender</th>\n",
       "      <th>age</th>\n",
       "      <th>hypertension</th>\n",
       "      <th>heart_disease</th>\n",
       "      <th>smoking_history</th>\n",
       "      <th>bmi</th>\n",
       "      <th>HbA1c_level</th>\n",
       "      <th>blood_glucose_level</th>\n",
       "      <th>diabetes</th>\n",
       "    </tr>\n",
       "  </thead>\n",
       "  <tbody>\n",
       "    <tr>\n",
       "      <th>0</th>\n",
       "      <td>0</td>\n",
       "      <td>80.0</td>\n",
       "      <td>0</td>\n",
       "      <td>1</td>\n",
       "      <td>0</td>\n",
       "      <td>3.226447</td>\n",
       "      <td>6.6</td>\n",
       "      <td>140</td>\n",
       "      <td>0</td>\n",
       "    </tr>\n",
       "    <tr>\n",
       "      <th>1</th>\n",
       "      <td>0</td>\n",
       "      <td>54.0</td>\n",
       "      <td>0</td>\n",
       "      <td>0</td>\n",
       "      <td>0</td>\n",
       "      <td>3.307619</td>\n",
       "      <td>6.6</td>\n",
       "      <td>80</td>\n",
       "      <td>0</td>\n",
       "    </tr>\n",
       "    <tr>\n",
       "      <th>2</th>\n",
       "      <td>1</td>\n",
       "      <td>28.0</td>\n",
       "      <td>0</td>\n",
       "      <td>0</td>\n",
       "      <td>0</td>\n",
       "      <td>3.307619</td>\n",
       "      <td>5.7</td>\n",
       "      <td>158</td>\n",
       "      <td>0</td>\n",
       "    </tr>\n",
       "  </tbody>\n",
       "</table>\n",
       "</div>"
      ],
      "text/plain": [
       "   gender   age  hypertension  heart_disease  smoking_history       bmi  \\\n",
       "0       0  80.0             0              1                0  3.226447   \n",
       "1       0  54.0             0              0                0  3.307619   \n",
       "2       1  28.0             0              0                0  3.307619   \n",
       "\n",
       "   HbA1c_level  blood_glucose_level  diabetes  \n",
       "0          6.6                  140         0  \n",
       "1          6.6                   80         0  \n",
       "2          5.7                  158         0  "
      ]
     },
     "execution_count": 3,
     "metadata": {},
     "output_type": "execute_result"
    }
   ],
   "source": [
    "# Remove all duplicate rows of data\n",
    "df = df.drop_duplicates()\n",
    "\n",
    "# Rescale BMi feature using log transformation\n",
    "df['bmi'] = np.log(df['bmi'])\n",
    "\n",
    "# Encoding categorical features\n",
    "# category = ['gender', 'smoking_history']\n",
    "# make sex/gender lowercase\n",
    "df['gender'] = df['gender'].str.lower()\n",
    "df['gender'] = df['gender'].map({'female': 0, 'male': 1, 'other': 2}).astype(int)\n",
    "\n",
    "# Reengineer `smoking_history` feature\n",
    "def recategorize_smoking(smoking_status):\n",
    "    if smoking_status in ['never', 'No Info']:\n",
    "        return 'non-smoker'\n",
    "    elif smoking_status == 'current':\n",
    "        return 'current'\n",
    "    elif smoking_status in ['ever', 'former', 'not current']:\n",
    "        return 'past_smoker'\n",
    "\n",
    "# Apply the function to the 'smoking_history' column\n",
    "df['smoking_history'] = df['smoking_history'].apply(recategorize_smoking)\n",
    "df['smoking_history'] = df['smoking_history'].map({'non-smoker': 0, 'current': 1, 'past_smoker': 2})\n",
    "df.head(3)\n"
   ]
  },
  {
   "cell_type": "code",
   "execution_count": 4,
   "id": "ba46e8a8",
   "metadata": {},
   "outputs": [
    {
     "name": "stdout",
     "output_type": "stream",
     "text": [
      "gender                 0\n",
      "age                    0\n",
      "hypertension           0\n",
      "heart_disease          0\n",
      "smoking_history        0\n",
      "bmi                    0\n",
      "HbA1c_level            0\n",
      "blood_glucose_level    0\n",
      "diabetes               0\n",
      "dtype: int64\n",
      "gender                 0\n",
      "age                    0\n",
      "hypertension           0\n",
      "heart_disease          0\n",
      "smoking_history        0\n",
      "bmi                    0\n",
      "HbA1c_level            0\n",
      "blood_glucose_level    0\n",
      "diabetes               0\n",
      "dtype: int64\n"
     ]
    }
   ],
   "source": [
    "print(df.isnull().sum())\n",
    "print(df.isna().sum())"
   ]
  },
  {
   "cell_type": "markdown",
   "id": "fb53924a",
   "metadata": {},
   "source": [
    "## SMOTE"
   ]
  },
  {
   "cell_type": "code",
   "execution_count": 5,
   "id": "9d4c8798",
   "metadata": {},
   "outputs": [
    {
     "name": "stdout",
     "output_type": "stream",
     "text": [
      "Class distribution after SMOTE: Counter({0: 61365, 1: 61365})\n"
     ]
    }
   ],
   "source": [
    "# Fix imbalance dataset using SMOTE\n",
    "X = df.drop(['diabetes'], axis=1)\n",
    "y = df['diabetes']\n",
    "\n",
    "X_train, X_test, y_train, y_test = train_test_split(X, y, test_size=0.3, random_state=42, stratify=y)\n",
    "\n",
    "# Apply SMOTE\n",
    "smote = SMOTE(random_state=42)\n",
    "X_train_res, y_train_res = smote.fit_resample(X_train, y_train)\n",
    "print('Class distribution after SMOTE:', Counter(y_train_res))"
   ]
  },
  {
   "cell_type": "markdown",
   "id": "187f43c8",
   "metadata": {},
   "source": [
    "## Modelling"
   ]
  },
  {
   "cell_type": "markdown",
   "id": "74d42dd4",
   "metadata": {},
   "source": [
    "### Find best depth for decision tree"
   ]
  },
  {
   "cell_type": "code",
   "execution_count": 6,
   "id": "d24cefd2",
   "metadata": {},
   "outputs": [
    {
     "name": "stdout",
     "output_type": "stream",
     "text": [
      " Max Depth  Average Accuracy\n",
      "         1          0.527793\n",
      "         2          0.694329\n",
      "         3          0.758454\n",
      "         4          0.863937\n",
      "         5          0.863130\n",
      "         6          0.890434\n",
      "         7          0.878514\n",
      "         8          0.894826\n"
     ]
    }
   ],
   "source": [
    "cv = KFold(n_splits=10)\n",
    "accuracies = list()\n",
    "max_attributes = len(list(X.columns))\n",
    "depth_range = range(1, max_attributes + 1)\n",
    "\n",
    "for depth in depth_range:\n",
    "    fold_accuracies = []\n",
    "    tree_model = tree.DecisionTreeClassifier(max_depth=depth, random_state=42)\n",
    "    for train_fold, valid_fold in cv.split(X_train_res):\n",
    "        X_train_cv, X_valid_cv = X_train_res.iloc[train_fold], X_train_res.iloc[valid_fold]\n",
    "        y_train_cv, y_valid_cv = y_train_res.iloc[train_fold], y_train_res.iloc[valid_fold]\n",
    "        \n",
    "        # tree_model.fit(X_train_cv, y_train_cv)\n",
    "        # y_pred_cv = tree_model.predict(X_valid_cv)\n",
    "        model = tree_model.fit(X_train_cv, y_train_cv)\n",
    "        valid_acc = model.score(X_valid_cv, y_valid_cv)\n",
    "        fold_accuracies.append(valid_acc)\n",
    "    avg = sum(fold_accuracies)/len(fold_accuracies)\n",
    "    accuracies.append(avg)\n",
    "    \n",
    "# Just to show results conveniently\n",
    "df = pd.DataFrame({\"Max Depth\": depth_range, \"Average Accuracy\": accuracies})\n",
    "df = df[[\"Max Depth\", \"Average Accuracy\"]]\n",
    "print(df.to_string(index=False))"
   ]
  },
  {
   "cell_type": "markdown",
   "id": "0f71b1c6",
   "metadata": {},
   "source": [
    "### Testing"
   ]
  },
  {
   "cell_type": "code",
   "execution_count": 7,
   "id": "f5b5a7f4",
   "metadata": {},
   "outputs": [
    {
     "name": "stdout",
     "output_type": "stream",
     "text": [
      "Test Accuracy with max_depth=8: 0.9068\n"
     ]
    }
   ],
   "source": [
    "decision_tree = tree.DecisionTreeClassifier(max_depth=8, random_state=42)\n",
    "decision_tree.fit(X_train_res, y_train_res)\n",
    "y_pred = decision_tree.predict(X_test)\n",
    "test_accuracy = accuracy_score(y_test, y_pred)\n",
    "print(f'Test Accuracy with max_depth=8: {test_accuracy:.4f}')"
   ]
  },
  {
   "cell_type": "code",
   "execution_count": 8,
   "id": "9a051816",
   "metadata": {},
   "outputs": [
    {
     "data": {
      "text/plain": [
       "['..\\\\log\\\\decision_tree_model.pkl']"
      ]
     },
     "execution_count": 8,
     "metadata": {},
     "output_type": "execute_result"
    }
   ],
   "source": [
    "import joblib\n",
    "test = pd.concat([X_test, y_test], axis=1)\n",
    "test.to_csv(join(output_dir, 'test_set_decisionTree.csv'), index=False)\n",
    "\n",
    "submission = pd.DataFrame({\n",
    "        \"diabetes\": y_pred\n",
    "    })\n",
    "submission.to_csv(join(output_dir, 'submission_decisionTree.csv'), index=False)\n",
    "\n",
    "joblib.dump(decision_tree, join(log_dir, 'decision_tree_model.pkl'))"
   ]
  },
  {
   "cell_type": "markdown",
   "id": "0b63dcdf",
   "metadata": {},
   "source": [
    "# The end"
   ]
  }
 ],
 "metadata": {
  "kernelspec": {
   "display_name": "base",
   "language": "python",
   "name": "python3"
  },
  "language_info": {
   "codemirror_mode": {
    "name": "ipython",
    "version": 3
   },
   "file_extension": ".py",
   "mimetype": "text/x-python",
   "name": "python",
   "nbconvert_exporter": "python",
   "pygments_lexer": "ipython3",
   "version": "3.13.5"
  }
 },
 "nbformat": 4,
 "nbformat_minor": 5
}
