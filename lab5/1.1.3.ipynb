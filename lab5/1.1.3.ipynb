{
 "cells": [
  {
   "cell_type": "markdown",
   "id": "0075c584",
   "metadata": {},
   "source": [
    "# Lab 5 Bài tập thực hành 1.1.3"
   ]
  },
  {
   "cell_type": "markdown",
   "id": "8bdf7f7c",
   "metadata": {},
   "source": [
    "## Thống kê mô tả về phân loại chất lượng loại rượu đỏ"
   ]
  },
  {
   "cell_type": "markdown",
   "id": "4403b09c",
   "metadata": {},
   "source": [
    "### Lời nói đầu"
   ]
  },
  {
   "cell_type": "markdown",
   "id": "66645ddc",
   "metadata": {},
   "source": [
    "Đây là bài thống kê mô tả về chủ đề \"phân loại chất lượng loại rượu đỏ\" trong môn \"nhập môn máy học\"(Machine Learning Basic) của chúng mình được dẫn dắt bới giảng viên Đỗ Như Tài tại trường Đại Học Sài Gòn. Chân thành cảm ơn thầy và những người đã dành thời gian ra đọc bài thống kê mô tả dữ liệu này. Có thể còn những sai sót rất mong tiếp nhận đóng góp và ý kiến từ mọi người."
   ]
  },
  {
   "cell_type": "markdown",
   "id": "5911c352",
   "metadata": {},
   "source": [
    "### Giới thiệu"
   ]
  },
  {
   "cell_type": "markdown",
   "id": "59c2fd23",
   "metadata": {},
   "source": [
    "Bộ dữ liệu rượu vang đỏ được xây dựng nhằm nghiên cứu mối quan hệ giữa các đặc tính hóa học và chất lượng cảm quan của rượu. Dữ liệu bao gồm 11 biến đầu vào phản ánh thành phần hóa học như độ chua, hàm lượng đường dư, nồng độ cồn, độ pH, lưu huỳnh,… và một biến đầu ra là điểm chất lượng (từ 0 đến 10) được chấm bởi các chuyên gia thử nếm.\n",
    "\n",
    "Trong phạm vi bài thống kê mô tả này, mục tiêu chính là phân tích và tóm tắt các đặc điểm cơ bản của dữ liệu thông qua những chỉ số thống kê (trung bình, trung vị, độ lệch chuẩn, IQR, min, max) và các biểu đồ trực quan. Việc mô tả dữ liệu sẽ giúp hình dung rõ hơn về phân bố chất lượng rượu, mức độ biến thiên của các yếu tố hóa học, cũng như cung cấp cơ sở ban đầu để thực hiện các phân tích nâng cao hoặc xây dựng mô hình dự đoán chất lượng rượu ở các bước tiếp theo."
   ]
  }
 ],
 "metadata": {
  "language_info": {
   "name": "python"
  }
 },
 "nbformat": 4,
 "nbformat_minor": 5
}
