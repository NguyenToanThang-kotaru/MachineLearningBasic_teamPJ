{
 "cells": [
  {
   "cell_type": "markdown",
   "id": "073a36fe",
   "metadata": {},
   "source": [
    "# EDA FOR TITANIC COMPETITION IN KAGLE"
   ]
  },
  {
   "cell_type": "markdown",
   "id": "25791983",
   "metadata": {},
   "source": []
  }
 ],
 "metadata": {
  "language_info": {
   "name": "python"
  }
 },
 "nbformat": 4,
 "nbformat_minor": 5
}
