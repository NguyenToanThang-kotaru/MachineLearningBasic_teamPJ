{
 "cells": [
  {
   "cell_type": "markdown",
   "metadata": {},
   "source": [
    "# Titanic - 15:37 9/10/2025\n"
   ]
  },
  {
   "cell_type": "markdown",
   "metadata": {
    "vscode": {
     "languageId": "bat"
    }
   },
   "source": [
    "## Introduction"
   ]
  },
  {
   "cell_type": "markdown",
   "metadata": {},
   "source": [
    "> The sinking of the RMS Titanic is one of the most infamous shipwrecks in history. On April 15, 1912, during her maiden voyage, the Titanic sank after colliding with an iceberg, killing 1502 out of 2224 passengers and crew. This sensational tragedy shocked the international community and led to better safety regulations for ships.\n",
    "\n",
    "> One of the reasons that the shipwreck led to such loss of life was that there were not enough lifeboats for the passengers and crew. Although there was some element of luck involved in surviving the sinking, some groups of people were more likely to survive than others, such as women, children, and the upper-class.\n",
    "\n",
    "> In this contest, we ask you to complete the analysis of what sorts of people were likely to survive. In particular, we ask you to apply the tools of machine learning to predict which passengers survived the tragedy.\n",
    "\n",
    "> This Kaggle Getting Started Competition provides an ideal starting place for people who may not have a lot of experience in data science and machine learning.\"\n",
    "\n",
    "From the competition homepage[https://www.kaggle.com/competitions/titanic].\n",
    "\n",
    "#### The ultimate goal: \n",
    "- Understand the dataset\n",
    "- Create a model that could achieve Kaggle score of 0.8\n",
    "\n",
    "**Evaluation metric**: Accuracy rate.\n",
    "\n",
    "#### Hypothesis:\n",
    "I believe that the two main information that affect greatly on survival probability is passenger's **gender** and **age**."
   ]
  },
  {
   "cell_type": "markdown",
   "metadata": {},
   "source": [
    "## Preparation"
   ]
  },
  {
   "cell_type": "markdown",
   "metadata": {},
   "source": [
    "### Import necessary libraries"
   ]
  },
  {
   "cell_type": "code",
   "execution_count": 1,
   "metadata": {
    "execution": {
     "iopub.execute_input": "2025-10-05T15:36:17.074902Z",
     "iopub.status.busy": "2025-10-05T15:36:17.074479Z",
     "iopub.status.idle": "2025-10-05T15:36:17.080831Z",
     "shell.execute_reply": "2025-10-05T15:36:17.079627Z",
     "shell.execute_reply.started": "2025-10-05T15:36:17.074871Z"
    },
    "trusted": true
   },
   "outputs": [],
   "source": [
    "import pandas as pd\n",
    "import matplotlib.pyplot as plt\n",
    "import seaborn as sns"
   ]
  },
  {
   "cell_type": "markdown",
   "metadata": {},
   "source": [
    "### File directories from Kaggle (I want to save dump file inside my laptop, so I'll comment this)"
   ]
  },
  {
   "cell_type": "code",
   "execution_count": 2,
   "metadata": {
    "_cell_guid": "b1076dfc-b9ad-4769-8c92-a6c4dae69d19",
    "_uuid": "8f2839f25d086af736a60e9eeb907d3b93b6e0e5",
    "execution": {
     "iopub.execute_input": "2025-10-05T15:36:17.082842Z",
     "iopub.status.busy": "2025-10-05T15:36:17.082615Z",
     "iopub.status.idle": "2025-10-05T15:36:17.102234Z",
     "shell.execute_reply": "2025-10-05T15:36:17.101253Z",
     "shell.execute_reply.started": "2025-10-05T15:36:17.082825Z"
    },
    "scrolled": true,
    "trusted": true
   },
   "outputs": [
    {
     "name": "stdout",
     "output_type": "stream",
     "text": [
      "..\\test.ipynb\n",
      "..\\tmp.ipynb\n",
      "..\\input\\gender_submission.csv\n",
      "..\\input\\test.csv\n",
      "..\\input\\train.csv\n",
      "..\\version1\\notebook6383ed8f72.ipynb\n",
      "..\\version1\\result_v1.png\n",
      "..\\version1\\submit_prediction.csv\n",
      "..\\version1\\titanic_random_forest_model_v1.joblib\n",
      "..\\version2\\notebook6383ed8f72.ipynb\n",
      "..\\version3\\notebook6383ed8f72.ipynb\n",
      "..\\version3\\result_v3.png\n",
      "..\\version3\\submit_prediction_v3.csv\n",
      "..\\version3\\titanic_random_forest_model_v3.joblib\n",
      "..\\version4\\notebook6383ed8f72.ipynb\n",
      "..\\version4\\result_v4.png\n",
      "..\\version4\\submit_prediction_v4.csv\n",
      "..\\version4\\titanic_random_forest_model_v4.joblib\n"
     ]
    }
   ],
   "source": [
    "# import os\n",
    "# for dirname, _, filenames in os.walk('/kaggle/input'):\n",
    "#     for filename in filenames:\n",
    "#         print(os.path.join(dirname, filename))\n",
    "\n",
    "import os\n",
    "for dirname, _, filenames in os.walk('..'):\n",
    "    for filename in filenames:\n",
    "        print(os.path.join(dirname, filename))"
   ]
  },
  {
   "cell_type": "markdown",
   "metadata": {},
   "source": [
    "### Load train.csv file"
   ]
  },
  {
   "cell_type": "code",
   "execution_count": 3,
   "metadata": {
    "execution": {
     "iopub.execute_input": "2025-10-05T15:36:17.103688Z",
     "iopub.status.busy": "2025-10-05T15:36:17.103211Z",
     "iopub.status.idle": "2025-10-05T15:36:17.124336Z",
     "shell.execute_reply": "2025-10-05T15:36:17.123445Z",
     "shell.execute_reply.started": "2025-10-05T15:36:17.103652Z"
    },
    "trusted": true
   },
   "outputs": [
    {
     "name": "stdout",
     "output_type": "stream",
     "text": [
      "Successfully load training data.\n"
     ]
    }
   ],
   "source": [
    "# titanic = pd.read_csv('/kaggle/input/titanic/train.csv')\n",
    "titanic = pd.read_csv('../input/train.csv')\n",
    "df = titanic.copy()\n",
    "test_dataset = pd.read_csv('../input/test.csv')\n",
    "df_test = test_dataset.copy()\n",
    "print(\"Successfully load training data.\")"
   ]
  },
  {
   "cell_type": "markdown",
   "metadata": {},
   "source": [
    "## Have a look at the dataset"
   ]
  },
  {
   "cell_type": "code",
   "execution_count": 4,
   "metadata": {
    "execution": {
     "iopub.execute_input": "2025-10-05T15:36:17.126934Z",
     "iopub.status.busy": "2025-10-05T15:36:17.126486Z",
     "iopub.status.idle": "2025-10-05T15:36:17.148763Z",
     "shell.execute_reply": "2025-10-05T15:36:17.147752Z",
     "shell.execute_reply.started": "2025-10-05T15:36:17.126914Z"
    },
    "trusted": true
   },
   "outputs": [
    {
     "data": {
      "text/html": [
       "<div>\n",
       "<style scoped>\n",
       "    .dataframe tbody tr th:only-of-type {\n",
       "        vertical-align: middle;\n",
       "    }\n",
       "\n",
       "    .dataframe tbody tr th {\n",
       "        vertical-align: top;\n",
       "    }\n",
       "\n",
       "    .dataframe thead th {\n",
       "        text-align: right;\n",
       "    }\n",
       "</style>\n",
       "<table border=\"1\" class=\"dataframe\">\n",
       "  <thead>\n",
       "    <tr style=\"text-align: right;\">\n",
       "      <th></th>\n",
       "      <th>PassengerId</th>\n",
       "      <th>Survived</th>\n",
       "      <th>Pclass</th>\n",
       "      <th>Name</th>\n",
       "      <th>Sex</th>\n",
       "      <th>Age</th>\n",
       "      <th>SibSp</th>\n",
       "      <th>Parch</th>\n",
       "      <th>Ticket</th>\n",
       "      <th>Fare</th>\n",
       "      <th>Cabin</th>\n",
       "      <th>Embarked</th>\n",
       "    </tr>\n",
       "  </thead>\n",
       "  <tbody>\n",
       "    <tr>\n",
       "      <th>0</th>\n",
       "      <td>1</td>\n",
       "      <td>0</td>\n",
       "      <td>3</td>\n",
       "      <td>Braund, Mr. Owen Harris</td>\n",
       "      <td>male</td>\n",
       "      <td>22.0</td>\n",
       "      <td>1</td>\n",
       "      <td>0</td>\n",
       "      <td>A/5 21171</td>\n",
       "      <td>7.2500</td>\n",
       "      <td>NaN</td>\n",
       "      <td>S</td>\n",
       "    </tr>\n",
       "    <tr>\n",
       "      <th>1</th>\n",
       "      <td>2</td>\n",
       "      <td>1</td>\n",
       "      <td>1</td>\n",
       "      <td>Cumings, Mrs. John Bradley (Florence Briggs Th...</td>\n",
       "      <td>female</td>\n",
       "      <td>38.0</td>\n",
       "      <td>1</td>\n",
       "      <td>0</td>\n",
       "      <td>PC 17599</td>\n",
       "      <td>71.2833</td>\n",
       "      <td>C85</td>\n",
       "      <td>C</td>\n",
       "    </tr>\n",
       "    <tr>\n",
       "      <th>2</th>\n",
       "      <td>3</td>\n",
       "      <td>1</td>\n",
       "      <td>3</td>\n",
       "      <td>Heikkinen, Miss. Laina</td>\n",
       "      <td>female</td>\n",
       "      <td>26.0</td>\n",
       "      <td>0</td>\n",
       "      <td>0</td>\n",
       "      <td>STON/O2. 3101282</td>\n",
       "      <td>7.9250</td>\n",
       "      <td>NaN</td>\n",
       "      <td>S</td>\n",
       "    </tr>\n",
       "    <tr>\n",
       "      <th>3</th>\n",
       "      <td>4</td>\n",
       "      <td>1</td>\n",
       "      <td>1</td>\n",
       "      <td>Futrelle, Mrs. Jacques Heath (Lily May Peel)</td>\n",
       "      <td>female</td>\n",
       "      <td>35.0</td>\n",
       "      <td>1</td>\n",
       "      <td>0</td>\n",
       "      <td>113803</td>\n",
       "      <td>53.1000</td>\n",
       "      <td>C123</td>\n",
       "      <td>S</td>\n",
       "    </tr>\n",
       "    <tr>\n",
       "      <th>4</th>\n",
       "      <td>5</td>\n",
       "      <td>0</td>\n",
       "      <td>3</td>\n",
       "      <td>Allen, Mr. William Henry</td>\n",
       "      <td>male</td>\n",
       "      <td>35.0</td>\n",
       "      <td>0</td>\n",
       "      <td>0</td>\n",
       "      <td>373450</td>\n",
       "      <td>8.0500</td>\n",
       "      <td>NaN</td>\n",
       "      <td>S</td>\n",
       "    </tr>\n",
       "    <tr>\n",
       "      <th>...</th>\n",
       "      <td>...</td>\n",
       "      <td>...</td>\n",
       "      <td>...</td>\n",
       "      <td>...</td>\n",
       "      <td>...</td>\n",
       "      <td>...</td>\n",
       "      <td>...</td>\n",
       "      <td>...</td>\n",
       "      <td>...</td>\n",
       "      <td>...</td>\n",
       "      <td>...</td>\n",
       "      <td>...</td>\n",
       "    </tr>\n",
       "    <tr>\n",
       "      <th>886</th>\n",
       "      <td>887</td>\n",
       "      <td>0</td>\n",
       "      <td>2</td>\n",
       "      <td>Montvila, Rev. Juozas</td>\n",
       "      <td>male</td>\n",
       "      <td>27.0</td>\n",
       "      <td>0</td>\n",
       "      <td>0</td>\n",
       "      <td>211536</td>\n",
       "      <td>13.0000</td>\n",
       "      <td>NaN</td>\n",
       "      <td>S</td>\n",
       "    </tr>\n",
       "    <tr>\n",
       "      <th>887</th>\n",
       "      <td>888</td>\n",
       "      <td>1</td>\n",
       "      <td>1</td>\n",
       "      <td>Graham, Miss. Margaret Edith</td>\n",
       "      <td>female</td>\n",
       "      <td>19.0</td>\n",
       "      <td>0</td>\n",
       "      <td>0</td>\n",
       "      <td>112053</td>\n",
       "      <td>30.0000</td>\n",
       "      <td>B42</td>\n",
       "      <td>S</td>\n",
       "    </tr>\n",
       "    <tr>\n",
       "      <th>888</th>\n",
       "      <td>889</td>\n",
       "      <td>0</td>\n",
       "      <td>3</td>\n",
       "      <td>Johnston, Miss. Catherine Helen \"Carrie\"</td>\n",
       "      <td>female</td>\n",
       "      <td>NaN</td>\n",
       "      <td>1</td>\n",
       "      <td>2</td>\n",
       "      <td>W./C. 6607</td>\n",
       "      <td>23.4500</td>\n",
       "      <td>NaN</td>\n",
       "      <td>S</td>\n",
       "    </tr>\n",
       "    <tr>\n",
       "      <th>889</th>\n",
       "      <td>890</td>\n",
       "      <td>1</td>\n",
       "      <td>1</td>\n",
       "      <td>Behr, Mr. Karl Howell</td>\n",
       "      <td>male</td>\n",
       "      <td>26.0</td>\n",
       "      <td>0</td>\n",
       "      <td>0</td>\n",
       "      <td>111369</td>\n",
       "      <td>30.0000</td>\n",
       "      <td>C148</td>\n",
       "      <td>C</td>\n",
       "    </tr>\n",
       "    <tr>\n",
       "      <th>890</th>\n",
       "      <td>891</td>\n",
       "      <td>0</td>\n",
       "      <td>3</td>\n",
       "      <td>Dooley, Mr. Patrick</td>\n",
       "      <td>male</td>\n",
       "      <td>32.0</td>\n",
       "      <td>0</td>\n",
       "      <td>0</td>\n",
       "      <td>370376</td>\n",
       "      <td>7.7500</td>\n",
       "      <td>NaN</td>\n",
       "      <td>Q</td>\n",
       "    </tr>\n",
       "  </tbody>\n",
       "</table>\n",
       "<p>891 rows × 12 columns</p>\n",
       "</div>"
      ],
      "text/plain": [
       "     PassengerId  Survived  Pclass  \\\n",
       "0              1         0       3   \n",
       "1              2         1       1   \n",
       "2              3         1       3   \n",
       "3              4         1       1   \n",
       "4              5         0       3   \n",
       "..           ...       ...     ...   \n",
       "886          887         0       2   \n",
       "887          888         1       1   \n",
       "888          889         0       3   \n",
       "889          890         1       1   \n",
       "890          891         0       3   \n",
       "\n",
       "                                                  Name     Sex   Age  SibSp  \\\n",
       "0                              Braund, Mr. Owen Harris    male  22.0      1   \n",
       "1    Cumings, Mrs. John Bradley (Florence Briggs Th...  female  38.0      1   \n",
       "2                               Heikkinen, Miss. Laina  female  26.0      0   \n",
       "3         Futrelle, Mrs. Jacques Heath (Lily May Peel)  female  35.0      1   \n",
       "4                             Allen, Mr. William Henry    male  35.0      0   \n",
       "..                                                 ...     ...   ...    ...   \n",
       "886                              Montvila, Rev. Juozas    male  27.0      0   \n",
       "887                       Graham, Miss. Margaret Edith  female  19.0      0   \n",
       "888           Johnston, Miss. Catherine Helen \"Carrie\"  female   NaN      1   \n",
       "889                              Behr, Mr. Karl Howell    male  26.0      0   \n",
       "890                                Dooley, Mr. Patrick    male  32.0      0   \n",
       "\n",
       "     Parch            Ticket     Fare Cabin Embarked  \n",
       "0        0         A/5 21171   7.2500   NaN        S  \n",
       "1        0          PC 17599  71.2833   C85        C  \n",
       "2        0  STON/O2. 3101282   7.9250   NaN        S  \n",
       "3        0            113803  53.1000  C123        S  \n",
       "4        0            373450   8.0500   NaN        S  \n",
       "..     ...               ...      ...   ...      ...  \n",
       "886      0            211536  13.0000   NaN        S  \n",
       "887      0            112053  30.0000   B42        S  \n",
       "888      2        W./C. 6607  23.4500   NaN        S  \n",
       "889      0            111369  30.0000  C148        C  \n",
       "890      0            370376   7.7500   NaN        Q  \n",
       "\n",
       "[891 rows x 12 columns]"
      ]
     },
     "execution_count": 4,
     "metadata": {},
     "output_type": "execute_result"
    }
   ],
   "source": [
    "df"
   ]
  },
  {
   "cell_type": "code",
   "execution_count": 5,
   "metadata": {
    "execution": {
     "iopub.execute_input": "2025-10-05T15:36:17.149861Z",
     "iopub.status.busy": "2025-10-05T15:36:17.149605Z",
     "iopub.status.idle": "2025-10-05T15:36:17.171275Z",
     "shell.execute_reply": "2025-10-05T15:36:17.170283Z",
     "shell.execute_reply.started": "2025-10-05T15:36:17.149839Z"
    },
    "trusted": true
   },
   "outputs": [
    {
     "name": "stdout",
     "output_type": "stream",
     "text": [
      "<class 'pandas.core.frame.DataFrame'>\n",
      "RangeIndex: 891 entries, 0 to 890\n",
      "Data columns (total 12 columns):\n",
      " #   Column       Non-Null Count  Dtype  \n",
      "---  ------       --------------  -----  \n",
      " 0   PassengerId  891 non-null    int64  \n",
      " 1   Survived     891 non-null    int64  \n",
      " 2   Pclass       891 non-null    int64  \n",
      " 3   Name         891 non-null    object \n",
      " 4   Sex          891 non-null    object \n",
      " 5   Age          714 non-null    float64\n",
      " 6   SibSp        891 non-null    int64  \n",
      " 7   Parch        891 non-null    int64  \n",
      " 8   Ticket       891 non-null    object \n",
      " 9   Fare         891 non-null    float64\n",
      " 10  Cabin        204 non-null    object \n",
      " 11  Embarked     889 non-null    object \n",
      "dtypes: float64(2), int64(5), object(5)\n",
      "memory usage: 83.7+ KB\n"
     ]
    }
   ],
   "source": [
    "df.info()"
   ]
  },
  {
   "cell_type": "markdown",
   "metadata": {},
   "source": [
    "Base on the output, we could say that there are 891 rows and  12 variables inside the dataset:\n",
    "- **Survived**: Survival (0 = No, 1 = Yes)\n",
    "- Pclass: Ticket class (1 = 1st, 2 = 2nd, 3 = 3rd)\n",
    "- Sex: Sex (male/female)\n",
    "- Age: Age in years\t\n",
    "- Sibsp: # of siblings / spouses aboard the Titanic\t\n",
    "- Parch: # of parents / children aboard the Titanic\t\n",
    "- Ticket: Ticket number\t\n",
    "- Fare: Passenger fare\t\n",
    "- Cabin: Cabin number\t\n",
    "- Embarked: Port of Embarkation\t(C = Cherbourg, Q = Queenstown, S = Southampton)\n",
    "\n",
    "Base on the `df.info()`, we could say there are 7 numeric variables and 5 object variables, with `Survived` being the outcome of the model. We might have to transform these object variables in a way that model can understand itself.\n",
    "\n",
    "We can see that `Age`, `Cabin` and `Embarked` have missing values, we will explore number of missing value and it's proportion.\n",
    "\n",
    "Look at the features information, there are four categorical variables, we will convert it into `category` type to implement analysis better."
   ]
  },
  {
   "cell_type": "code",
   "execution_count": 6,
   "metadata": {
    "execution": {
     "iopub.execute_input": "2025-10-05T15:36:17.172707Z",
     "iopub.status.busy": "2025-10-05T15:36:17.172355Z",
     "iopub.status.idle": "2025-10-05T15:36:17.194395Z",
     "shell.execute_reply": "2025-10-05T15:36:17.193570Z",
     "shell.execute_reply.started": "2025-10-05T15:36:17.172679Z"
    },
    "trusted": true
   },
   "outputs": [],
   "source": [
    "for x in ['Pclass', 'Sex', 'Embarked']:\n",
    "    df[x] = df[x].astype('category')\n",
    "    df_test[x] = df_test[x].astype('category')\n",
    "df['Survived'] = df['Survived'].astype('category')"
   ]
  },
  {
   "cell_type": "code",
   "execution_count": 7,
   "metadata": {
    "execution": {
     "iopub.execute_input": "2025-10-05T15:36:17.195606Z",
     "iopub.status.busy": "2025-10-05T15:36:17.195278Z",
     "iopub.status.idle": "2025-10-05T15:36:17.215906Z",
     "shell.execute_reply": "2025-10-05T15:36:17.215115Z",
     "shell.execute_reply.started": "2025-10-05T15:36:17.195585Z"
    },
    "trusted": true
   },
   "outputs": [
    {
     "name": "stdout",
     "output_type": "stream",
     "text": [
      "===== Number of missing values =====\n"
     ]
    },
    {
     "data": {
      "text/plain": [
       "Age         177\n",
       "Cabin       687\n",
       "Embarked      2\n",
       "dtype: int64"
      ]
     },
     "execution_count": 7,
     "metadata": {},
     "output_type": "execute_result"
    }
   ],
   "source": [
    "print(\"===== Number of missing values =====\")\n",
    "df[['Age', 'Cabin', 'Embarked']].isnull().sum()"
   ]
  },
  {
   "cell_type": "code",
   "execution_count": 8,
   "metadata": {
    "execution": {
     "iopub.execute_input": "2025-10-05T15:36:17.217495Z",
     "iopub.status.busy": "2025-10-05T15:36:17.217158Z",
     "iopub.status.idle": "2025-10-05T15:36:17.235961Z",
     "shell.execute_reply": "2025-10-05T15:36:17.235256Z",
     "shell.execute_reply.started": "2025-10-05T15:36:17.217469Z"
    },
    "trusted": true
   },
   "outputs": [
    {
     "name": "stdout",
     "output_type": "stream",
     "text": [
      "===== Percentage of missing values =====\n"
     ]
    },
    {
     "data": {
      "text/plain": [
       "Age         19.865320\n",
       "Cabin       77.104377\n",
       "Embarked     0.224467\n",
       "dtype: float64"
      ]
     },
     "execution_count": 8,
     "metadata": {},
     "output_type": "execute_result"
    }
   ],
   "source": [
    "print(\"===== Percentage of missing values =====\")\n",
    "df[['Age', 'Cabin', 'Embarked']].isnull().sum() / len(df) * 100"
   ]
  },
  {
   "cell_type": "markdown",
   "metadata": {},
   "source": [
    "The `Cabin` has lots of missing data, so we might need to find a way to handle it later.\n",
    "\n",
    "We should also check if any rows inside the dataset duplicate each other in order to deal with it as these could affect negatively on training length."
   ]
  },
  {
   "cell_type": "code",
   "execution_count": 9,
   "metadata": {
    "execution": {
     "iopub.execute_input": "2025-10-05T15:36:17.237059Z",
     "iopub.status.busy": "2025-10-05T15:36:17.236771Z",
     "iopub.status.idle": "2025-10-05T15:36:17.257488Z",
     "shell.execute_reply": "2025-10-05T15:36:17.256319Z",
     "shell.execute_reply.started": "2025-10-05T15:36:17.237032Z"
    },
    "trusted": true
   },
   "outputs": [
    {
     "name": "stdout",
     "output_type": "stream",
     "text": [
      "Empty DataFrame\n",
      "Columns: [PassengerId, Survived, Pclass, Name, Sex, Age, SibSp, Parch, Ticket, Fare, Cabin, Embarked]\n",
      "Index: []\n"
     ]
    }
   ],
   "source": [
    "print(df[df.duplicated()])"
   ]
  },
  {
   "cell_type": "markdown",
   "metadata": {},
   "source": [
    "There are no duplicate rows in the dataset, which is good.\n",
    "\n",
    "We want to check it's uniqueness of each column."
   ]
  },
  {
   "cell_type": "code",
   "execution_count": 10,
   "metadata": {
    "execution": {
     "iopub.execute_input": "2025-10-05T15:36:17.260530Z",
     "iopub.status.busy": "2025-10-05T15:36:17.259847Z",
     "iopub.status.idle": "2025-10-05T15:36:17.277137Z",
     "shell.execute_reply": "2025-10-05T15:36:17.276197Z",
     "shell.execute_reply.started": "2025-10-05T15:36:17.260499Z"
    },
    "trusted": true
   },
   "outputs": [
    {
     "data": {
      "text/plain": [
       "PassengerId    891\n",
       "Survived         2\n",
       "Pclass           3\n",
       "Name           891\n",
       "Sex              2\n",
       "Age             88\n",
       "SibSp            7\n",
       "Parch            7\n",
       "Ticket         681\n",
       "Fare           248\n",
       "Cabin          147\n",
       "Embarked         3\n",
       "dtype: int64"
      ]
     },
     "execution_count": 10,
     "metadata": {},
     "output_type": "execute_result"
    }
   ],
   "source": [
    "df.nunique()"
   ]
  },
  {
   "cell_type": "markdown",
   "metadata": {},
   "source": [
    "From the result, we could see that some features do have lots of unique values, but some features (`Survived`, `Pclass`, `Sex`, `Embarked`) only have 2 - 3 different values, as it is categorical (we don't count `SibSp`, `Parch` here because it makes sense)."
   ]
  },
  {
   "cell_type": "markdown",
   "metadata": {},
   "source": [
    "## Handle missing value"
   ]
  },
  {
   "cell_type": "markdown",
   "metadata": {},
   "source": [
    "We need to find solutions to handle missing value.\n",
    "From the output detecting missing value, here's the proportion of missing value for `Age`, `Cabin`, and `Embarked`:\n",
    "\n",
    "- Age: 19.87%\n",
    "- Cabin: 77.10%\n",
    "- Embarked: 0.22%\n",
    "\n",
    "For `Cabin` features, although the missing value percentage are pretty high, it could be a good information to show passenger's room level, which is a really crucial detail related to survivability. Furthermore, we can base on that information to know if the passengers stayed at the front part (bow) of the Titanic, which is the part of the ship that sank first.\n",
    "\n",
    "For `Age` features, it could related to the survivability, as children and elderly usually be prioritized.\n",
    "\n",
    "For `Embarked` features, it could related to passenger's room level (passengers go on the ship first might have room that are in higher level).\n",
    "\n",
    "Because of that, I think that we should not remove these features. We need to handle value instead."
   ]
  },
  {
   "cell_type": "markdown",
   "metadata": {},
   "source": [
    "### Handle missing age value"
   ]
  },
  {
   "cell_type": "markdown",
   "metadata": {},
   "source": [
    "Honorific title inside passengers' name could tell us a little about their age, so we will fill missing values with median of value `Age` splited by 5 main groups: Mr, Mrs, Master, Miss, and other."
   ]
  },
  {
   "cell_type": "code",
   "execution_count": 11,
   "metadata": {
    "execution": {
     "iopub.execute_input": "2025-10-05T15:36:17.278502Z",
     "iopub.status.busy": "2025-10-05T15:36:17.278235Z",
     "iopub.status.idle": "2025-10-05T15:36:17.296767Z",
     "shell.execute_reply": "2025-10-05T15:36:17.295871Z",
     "shell.execute_reply.started": "2025-10-05T15:36:17.278482Z"
    },
    "trusted": true
   },
   "outputs": [
    {
     "name": "stdout",
     "output_type": "stream",
     "text": [
      "Mr.: 517\n",
      "Mrs.: 125\n",
      "Master.: 40\n",
      "Miss.: 182\n",
      "Rare: 27\n"
     ]
    }
   ],
   "source": [
    "mr = df['Name'].str.contains(r',\\s*Mr\\.', regex=True)\n",
    "mrs = df['Name'].str.contains(r',\\s*Mrs\\.', regex=True)\n",
    "master = df['Name'].str.contains(r',\\s*Master.', regex=True)\n",
    "miss = df['Name'].str.contains(r',\\s*Miss.', regex=True)\n",
    "rare = ~(mr | mrs | master | miss)\n",
    "\n",
    "print(f\"Mr.: {mr.sum()}\")\n",
    "print(f\"Mrs.: {mrs.sum()}\")\n",
    "print(f\"Master.: {master.sum()}\")\n",
    "print(f\"Miss.: {miss.sum()}\")\n",
    "print(f\"Rare: {rare.sum()}\")"
   ]
  },
  {
   "cell_type": "code",
   "execution_count": null,
   "metadata": {
    "execution": {
     "iopub.execute_input": "2025-10-05T15:36:18.356890Z",
     "iopub.status.busy": "2025-10-05T15:36:18.356580Z",
     "iopub.status.idle": "2025-10-05T15:36:18.391541Z",
     "shell.execute_reply": "2025-10-05T15:36:18.390740Z",
     "shell.execute_reply.started": "2025-10-05T15:36:18.356862Z"
    },
    "trusted": true
   },
   "outputs": [
    {
     "name": "stderr",
     "output_type": "stream",
     "text": [
      "C:\\Users\\thien408\\AppData\\Local\\Temp\\ipykernel_11460\\61563181.py:11: UserWarning: Boolean Series key will be reindexed to match DataFrame index.\n",
      "  df_test_master = df_test[master].copy()\n"
     ]
    },
    {
     "ename": "ValueError",
     "evalue": "Item wrong length 891 instead of 418!",
     "output_type": "error",
     "traceback": [
      "\u001b[31m---------------------------------------------------------------------------\u001b[39m",
      "\u001b[31mValueError\u001b[39m                                Traceback (most recent call last)",
      "\u001b[32m~\\AppData\\Local\\Temp\\ipykernel_11460\\61563181.py\u001b[39m in \u001b[36m?\u001b[39m\u001b[34m()\u001b[39m\n\u001b[32m      9\u001b[39m df[\u001b[33m'Age'\u001b[39m] = df[\u001b[33m'Age'\u001b[39m].fillna(mean_age)\n\u001b[32m     10\u001b[39m \n\u001b[32m     11\u001b[39m df_test_master = df_test[master].copy()\n\u001b[32m     12\u001b[39m df_test_master[\u001b[33m'Age'\u001b[39m] = df_test_master[\u001b[33m'Age'\u001b[39m].fillna(mean_age_master)\n\u001b[32m---> \u001b[39m\u001b[32m13\u001b[39m df_test[master] = df_test_master\n\u001b[32m     14\u001b[39m df_test[\u001b[33m'Age'\u001b[39m] = df_test[\u001b[33m'Age'\u001b[39m].fillna(mean_age)\n\u001b[32m     15\u001b[39m \n\u001b[32m     16\u001b[39m \u001b[38;5;66;03m# df_mr = df[mr].copy()\u001b[39;00m\n",
      "\u001b[32mc:\\Users\\thien408\\miniconda3\\envs\\lab1\\Lib\\site-packages\\pandas\\core\\frame.py\u001b[39m in \u001b[36m?\u001b[39m\u001b[34m(self, key, value)\u001b[39m\n\u001b[32m   4300\u001b[39m \n\u001b[32m   4301\u001b[39m         \u001b[38;5;28;01mif\u001b[39;00m isinstance(key, DataFrame) \u001b[38;5;28;01mor\u001b[39;00m getattr(key, \u001b[33m\"ndim\"\u001b[39m, \u001b[38;5;28;01mNone\u001b[39;00m) == \u001b[32m2\u001b[39m:\n\u001b[32m   4302\u001b[39m             self._setitem_frame(key, value)\n\u001b[32m   4303\u001b[39m         \u001b[38;5;28;01melif\u001b[39;00m isinstance(key, (Series, np.ndarray, list, Index)):\n\u001b[32m-> \u001b[39m\u001b[32m4304\u001b[39m             self._setitem_array(key, value)\n\u001b[32m   4305\u001b[39m         \u001b[38;5;28;01melif\u001b[39;00m isinstance(value, DataFrame):\n\u001b[32m   4306\u001b[39m             self._set_item_frame_value(key, value)\n\u001b[32m   4307\u001b[39m         elif (\n",
      "\u001b[32mc:\\Users\\thien408\\miniconda3\\envs\\lab1\\Lib\\site-packages\\pandas\\core\\frame.py\u001b[39m in \u001b[36m?\u001b[39m\u001b[34m(self, key, value)\u001b[39m\n\u001b[32m   4326\u001b[39m         \u001b[38;5;66;03m# also raises Exception if object array with NA values\u001b[39;00m\n\u001b[32m   4327\u001b[39m         \u001b[38;5;28;01mif\u001b[39;00m com.is_bool_indexer(key):\n\u001b[32m   4328\u001b[39m             \u001b[38;5;66;03m# bool indexer is indexing along rows\u001b[39;00m\n\u001b[32m   4329\u001b[39m             \u001b[38;5;28;01mif\u001b[39;00m len(key) != len(self.index):\n\u001b[32m-> \u001b[39m\u001b[32m4330\u001b[39m                 raise ValueError(\n\u001b[32m   4331\u001b[39m                     f\"Item wrong length {len(key)} instead of {len(self.index)}!\"\n\u001b[32m   4332\u001b[39m                 )\n\u001b[32m   4333\u001b[39m             key = check_bool_indexer(self.index, key)\n",
      "\u001b[31mValueError\u001b[39m: Item wrong length 891 instead of 418!"
     ]
    }
   ],
   "source": [
    "df_master = df[master].copy()\n",
    "\n",
    "mean_age = df['Age'].mean()\n",
    "mean_age_master = df_master['Age'].mean()\n",
    "\n",
    "df_master['Age'] = df_master['Age'].fillna(mean_age_master)\n",
    "df[master] = df_master\n",
    "\n",
    "df['Age'] = df['Age'].fillna(mean_age)\n",
    "\n",
    "# df_test_master = df_test[master].copy()\n",
    "# df_test_master['Age'] = df_test_master['Age'].fillna(mean_age_master)\n",
    "# df_test[master] = df_test_master\n",
    "df_test['Age'] = df_test['Age'].fillna(mean_age)\n",
    "\n",
    "# df_mr = df[mr].copy()\n",
    "# df_mr['Age'] = df_mr['Age'].fillna(df_mr['Age'].median())\n",
    "# df[mr] = df_mr\n",
    "\n",
    "# df_mrs = df[mrs].copy()\n",
    "# df_mrs['Age'] = df_mrs['Age'].fillna(df_mrs['Age'].median())\n",
    "# df[mrs] = df_mrs\n",
    "\n",
    "# df_miss = df[miss].copy()\n",
    "# df_miss['Age'] = df_miss['Age'].fillna(df_miss['Age'].median())\n",
    "# df[miss] = df_miss\n",
    "\n",
    "# df_rare = df[rare].copy()\n",
    "# df_rare['Age'] = df_rare['Age'].fillna(df_rare['Age'].median())\n",
    "# df[rare] = df_rare"
   ]
  },
  {
   "cell_type": "markdown",
   "metadata": {},
   "source": [
    "### Handle missing Cabin and Embarked value"
   ]
  },
  {
   "cell_type": "markdown",
   "metadata": {},
   "source": [
    "Perhaps the only features that we could use to guess people's cabin is Ticket number, but since there are no ticket number system, we could not conclude anything from that.\n",
    "\n",
    "At first, I thought it would be possible to fill missing `Cabin` value by looking at passengers' ticket class, fare, and embarked point, but after some research, I found out that there is no clear relationship between these features and `Cabin` value.\n",
    "\n",
    "Therefore, I will just remove the `Cabin` feature, as it has too many missing values and we could not find a way to fill them.\n",
    "\n",
    "As for Embarked value, I'll choose \"S\" to fill that, as the primary embarked point was Southampton (Titanic trip started from there)"
   ]
  },
  {
   "cell_type": "code",
   "execution_count": null,
   "metadata": {
    "execution": {
     "iopub.execute_input": "2025-10-05T15:36:18.392728Z",
     "iopub.status.busy": "2025-10-05T15:36:18.392433Z",
     "iopub.status.idle": "2025-10-05T15:36:18.399257Z",
     "shell.execute_reply": "2025-10-05T15:36:18.398462Z",
     "shell.execute_reply.started": "2025-10-05T15:36:18.392703Z"
    },
    "trusted": true
   },
   "outputs": [],
   "source": [
    "df = df.drop(['Cabin'], axis=1)\n",
    "df_test = df_test.drop(['Cabin'], axis=1)\n",
    "df['Embarked'] = df['Embarked'].fillna(\"S\")\n",
    "df_test['Embarked'] = df_test['Embarked'].fillna(\"S\")"
   ]
  },
  {
   "cell_type": "code",
   "execution_count": null,
   "metadata": {
    "execution": {
     "iopub.execute_input": "2025-10-05T15:36:18.401072Z",
     "iopub.status.busy": "2025-10-05T15:36:18.400467Z",
     "iopub.status.idle": "2025-10-05T15:36:18.422622Z",
     "shell.execute_reply": "2025-10-05T15:36:18.421632Z",
     "shell.execute_reply.started": "2025-10-05T15:36:18.401043Z"
    },
    "trusted": true
   },
   "outputs": [
    {
     "name": "stdout",
     "output_type": "stream",
     "text": [
      "===== Percentage of missing values =====\n"
     ]
    },
    {
     "data": {
      "text/plain": [
       "Age         0.0\n",
       "Embarked    0.0\n",
       "dtype: float64"
      ]
     },
     "execution_count": 42,
     "metadata": {},
     "output_type": "execute_result"
    }
   ],
   "source": [
    "print(\"===== Percentage of missing values =====\")\n",
    "df[['Age', 'Embarked']].isnull().sum() / len(df) * 100"
   ]
  },
  {
   "cell_type": "markdown",
   "metadata": {},
   "source": [
    "This section will mainly focus on addressing outlier values in numeric features.\n",
    "\n",
    "Based on the outputs from the boxplot from EDA Analysis, we could see that `Age`, `Fare`, `SibSp`, and `Parch` features have outlier values. However, since `SibSp` and `Parch` features are not continuous (both features have a limited number of unique values), we will not handle outlier values in these two features, as it could affect negatively on the model."
   ]
  },
  {
   "cell_type": "markdown",
   "metadata": {},
   "source": [
    "### Handle outlier values in Age and Fare features"
   ]
  },
  {
   "cell_type": "markdown",
   "metadata": {},
   "source": [
    "To handle outlier values, IQR method is used to find the lower bound and upper bound, then replace outlier values with values within these bounds using techniques such as capping or imputation."
   ]
  },
  {
   "cell_type": "code",
   "execution_count": null,
   "metadata": {},
   "outputs": [
    {
     "name": "stdout",
     "output_type": "stream",
     "text": [
      "Total outliers in Age: 66\n",
      "Total outliers in Fare: 116\n"
     ]
    }
   ],
   "source": [
    "num_cols = ['Age', 'Fare']\n",
    "def detect_outliers_iqr(df, col, factor=1.5):\n",
    "    Q1 = df[col].quantile(0.25)\n",
    "    Q3 = df[col].quantile(0.75)\n",
    "    IQR = Q3 - Q1\n",
    "    lower_bound = max(Q1 - factor * IQR, 0)  # Age cannot be negative\n",
    "    upper_bound = Q3 + factor * IQR\n",
    "    outliers = df[(df[col] < lower_bound) | (df[col] > upper_bound)]\n",
    "    # print(f'{col} - Outliers (IQR): {len(outliers)}, Lower: {lower_bound:.2f}, Upper: {upper_bound:.2f}')\n",
    "    return outliers, lower_bound, upper_bound\n",
    "\n",
    "\n",
    "for col in num_cols:\n",
    "    outliers, lower_bound, upper_bound = detect_outliers_iqr(df, col)\n",
    "    print(f'Total outliers in {col}: {len(outliers)}')"
   ]
  },
  {
   "cell_type": "markdown",
   "metadata": {},
   "source": [
    "Base on the outcome, we could see that:\n",
    "- Total outliers in Age: 35\n",
    "- Total outliers in Fare: 116\n",
    "\n",
    "The number of outliers in `Fare` is quite high, we will have to handle it carefully.\n",
    "\n",
    "There are some famous techniques to handle outlier values (removing outliers, transforming data, imputation,...). \n",
    "\n",
    "At first, I decided to use imputation technique to replace outlier values with median of the column, as median is not affected by outlier values. However, after implementing that, I found out that we cannot remove all outlier values in `Fare` feature, as the number of outliers is quite high (116 outliers, which is about 13% of total rows).\n",
    "\n",
    "Because of that, I decided to generate new features: `Age_bin` and `Fare_bin`, which categorize `Age`and `Fare` into different groups using `pd.qcut()`. \n",
    "\n",
    "For `Age_bin`, I categorized it into 7 groups: below 12, 12-18, 19-25, 26-32, 33-45, 46-60, and after 60.\n",
    "\n",
    "For `Fare_bin`, I categorized it into 9 groups: low_minus, low, low_plus, medium_minus, medium, medium_plus, high_minus, high, and high_plus."
   ]
  },
  {
   "cell_type": "code",
   "execution_count": null,
   "metadata": {},
   "outputs": [
    {
     "data": {
      "image/png": "[encoded data removed]",
      "text/plain": [
       "<Figure size 2000x800 with 1 Axes>"
      ]
     },
     "metadata": {},
     "output_type": "display_data"
    },
    {
     "data": {
      "image/png": "[encoded data removed]",
      "text/plain": [
       "<Figure size 2000x800 with 1 Axes>"
      ]
     },
     "metadata": {},
     "output_type": "display_data"
    }
   ],
   "source": [
    "df['Age_bin'] = pd.cut(df['Age'], bins=[0, 12, 19, 26, 33, 46, 61, 100], labels=False)\n",
    "df['Age_bin'] = df['Age_bin'].astype('category')\n",
    "df_test['Age_bin'] = pd.cut(df_test['Age'], bins=[0, 12, 19, 26, 33, 46, 61, 100], labels=False)\n",
    "df_test['Age_bin'] = df_test['Age_bin'].astype('category')\n",
    "\n",
    "fig, axs = plt.subplots(figsize=(20, 8))\n",
    "sns.countplot(x='Age_bin', hue='Survived', data=df)\n",
    "plt.show()\n",
    "\n",
    "df['Fare_bin'] = pd.cut(df['Fare'], bins=[0, 7, 8, 10, 14.45, 20, 31, 50, 100, 1000000], labels=False)\n",
    "df['Fare_bin'] = df['Fare_bin'].astype('category')\n",
    "df_test['Fare_bin'] = pd.cut(df_test['Fare'], bins=[0, 7, 8, 10, 14.45, 20, 31, 50, 100, 1000000], labels=False)\n",
    "df_test['Fare_bin'] = df_test['Fare_bin'].astype('category')\n",
    "\n",
    "fig, axs = plt.subplots(figsize=(20, 8))\n",
    "sns.countplot(x='Fare_bin', hue='Survived', data=df)\n",
    "plt.show()"
   ]
  },
  {
   "cell_type": "markdown",
   "metadata": {},
   "source": [
    "#### survivability of each group based on Age_bin and Fare_bin"
   ]
  },
  {
   "cell_type": "code",
   "execution_count": null,
   "metadata": {},
   "outputs": [
    {
     "name": "stdout",
     "output_type": "stream",
     "text": [
      "Age_bin 0: 57.53% survived\n",
      "Age_bin 1: 41.05% survived\n",
      "Age_bin 2: 32.90% survived\n",
      "Age_bin 3: 34.70% survived\n",
      "Age_bin 4: 40.52% survived\n",
      "Age_bin 5: 41.77% survived\n",
      "Age_bin 6: 26.32% survived\n",
      "Fare_bin 0.0: 7.69% survived\n",
      "Fare_bin 1.0: 23.47% survived\n",
      "Fare_bin 2.0: 15.79% survived\n",
      "Fare_bin 3.0: 42.31% survived\n",
      "Fare_bin 4.0: 42.67% survived\n",
      "Fare_bin 5.0: 45.45% survived\n",
      "Fare_bin 6.0: 32.26% survived\n",
      "Fare_bin 7.0: 65.42% survived\n",
      "Fare_bin 8.0: 73.58% survived\n",
      "Fare_bin nan: -1.00% survived\n"
     ]
    },
    {
     "name": "stderr",
     "output_type": "stream",
     "text": [
      "C:\\Users\\thien408\\AppData\\Local\\Temp\\ipykernel_4608\\3372129829.py:3: UserWarning: Boolean Series key will be reindexed to match DataFrame index.\n",
      "  survived = df[df['Age_bin'] == age_bin][df['Survived'] == 1]\n",
      "C:\\Users\\thien408\\AppData\\Local\\Temp\\ipykernel_4608\\3372129829.py:3: UserWarning: Boolean Series key will be reindexed to match DataFrame index.\n",
      "  survived = df[df['Age_bin'] == age_bin][df['Survived'] == 1]\n",
      "C:\\Users\\thien408\\AppData\\Local\\Temp\\ipykernel_4608\\3372129829.py:3: UserWarning: Boolean Series key will be reindexed to match DataFrame index.\n",
      "  survived = df[df['Age_bin'] == age_bin][df['Survived'] == 1]\n",
      "C:\\Users\\thien408\\AppData\\Local\\Temp\\ipykernel_4608\\3372129829.py:3: UserWarning: Boolean Series key will be reindexed to match DataFrame index.\n",
      "  survived = df[df['Age_bin'] == age_bin][df['Survived'] == 1]\n",
      "C:\\Users\\thien408\\AppData\\Local\\Temp\\ipykernel_4608\\3372129829.py:3: UserWarning: Boolean Series key will be reindexed to match DataFrame index.\n",
      "  survived = df[df['Age_bin'] == age_bin][df['Survived'] == 1]\n",
      "C:\\Users\\thien408\\AppData\\Local\\Temp\\ipykernel_4608\\3372129829.py:3: UserWarning: Boolean Series key will be reindexed to match DataFrame index.\n",
      "  survived = df[df['Age_bin'] == age_bin][df['Survived'] == 1]\n",
      "C:\\Users\\thien408\\AppData\\Local\\Temp\\ipykernel_4608\\3372129829.py:3: UserWarning: Boolean Series key will be reindexed to match DataFrame index.\n",
      "  survived = df[df['Age_bin'] == age_bin][df['Survived'] == 1]\n",
      "C:\\Users\\thien408\\AppData\\Local\\Temp\\ipykernel_4608\\3372129829.py:8: UserWarning: Boolean Series key will be reindexed to match DataFrame index.\n",
      "  survived = df[df['Fare_bin'] == fare_bin][df['Survived'] == 1]\n",
      "C:\\Users\\thien408\\AppData\\Local\\Temp\\ipykernel_4608\\3372129829.py:8: UserWarning: Boolean Series key will be reindexed to match DataFrame index.\n",
      "  survived = df[df['Fare_bin'] == fare_bin][df['Survived'] == 1]\n",
      "C:\\Users\\thien408\\AppData\\Local\\Temp\\ipykernel_4608\\3372129829.py:8: UserWarning: Boolean Series key will be reindexed to match DataFrame index.\n",
      "  survived = df[df['Fare_bin'] == fare_bin][df['Survived'] == 1]\n",
      "C:\\Users\\thien408\\AppData\\Local\\Temp\\ipykernel_4608\\3372129829.py:8: UserWarning: Boolean Series key will be reindexed to match DataFrame index.\n",
      "  survived = df[df['Fare_bin'] == fare_bin][df['Survived'] == 1]\n",
      "C:\\Users\\thien408\\AppData\\Local\\Temp\\ipykernel_4608\\3372129829.py:8: UserWarning: Boolean Series key will be reindexed to match DataFrame index.\n",
      "  survived = df[df['Fare_bin'] == fare_bin][df['Survived'] == 1]\n",
      "C:\\Users\\thien408\\AppData\\Local\\Temp\\ipykernel_4608\\3372129829.py:8: UserWarning: Boolean Series key will be reindexed to match DataFrame index.\n",
      "  survived = df[df['Fare_bin'] == fare_bin][df['Survived'] == 1]\n",
      "C:\\Users\\thien408\\AppData\\Local\\Temp\\ipykernel_4608\\3372129829.py:8: UserWarning: Boolean Series key will be reindexed to match DataFrame index.\n",
      "  survived = df[df['Fare_bin'] == fare_bin][df['Survived'] == 1]\n",
      "C:\\Users\\thien408\\AppData\\Local\\Temp\\ipykernel_4608\\3372129829.py:8: UserWarning: Boolean Series key will be reindexed to match DataFrame index.\n",
      "  survived = df[df['Fare_bin'] == fare_bin][df['Survived'] == 1]\n",
      "C:\\Users\\thien408\\AppData\\Local\\Temp\\ipykernel_4608\\3372129829.py:8: UserWarning: Boolean Series key will be reindexed to match DataFrame index.\n",
      "  survived = df[df['Fare_bin'] == fare_bin][df['Survived'] == 1]\n",
      "C:\\Users\\thien408\\AppData\\Local\\Temp\\ipykernel_4608\\3372129829.py:8: UserWarning: Boolean Series key will be reindexed to match DataFrame index.\n",
      "  survived = df[df['Fare_bin'] == fare_bin][df['Survived'] == 1]\n"
     ]
    }
   ],
   "source": [
    "# survivability of each group based on Age_bin and Fare_bin\n",
    "for age_bin in sorted(df['Age_bin'].unique()):\n",
    "    survived = df[df['Age_bin'] == age_bin][df['Survived'] == 1]\n",
    "    survive_percentage = len(survived) / len(df[df['Age_bin'] == age_bin]) * 100\n",
    "    print(f'Age_bin {age_bin}: {survive_percentage:.2f}% survived')\n",
    "\n",
    "for fare_bin in sorted(df['Fare_bin'].unique()):\n",
    "    survived = df[df['Fare_bin'] == fare_bin][df['Survived'] == 1]\n",
    "    try:\n",
    "        survive_percentage = len(survived) / len(df[df['Fare_bin'] == fare_bin]) * 100\n",
    "    except ZeroDivisionError:\n",
    "        survive_percentage = -1\n",
    "    print(f'Fare_bin {fare_bin}: {survive_percentage:.2f}% survived')"
   ]
  },
  {
   "cell_type": "markdown",
   "metadata": {},
   "source": [
    "#### Check Pclass distribution in each Age_bin and Fare_bin"
   ]
  },
  {
   "cell_type": "code",
   "execution_count": null,
   "metadata": {},
   "outputs": [
    {
     "data": {
      "image/png": "[encoded data removed]",
      "text/plain": [
       "<Figure size 1400x1900 with 3 Axes>"
      ]
     },
     "metadata": {},
     "output_type": "display_data"
    }
   ],
   "source": [
    "first_class = df[\"Pclass\"].apply(lambda x: x == 1)\n",
    "second_class = df[\"Pclass\"].apply(lambda x: x == 2)\n",
    "third_class = df[\"Pclass\"].apply(lambda x: x == 3)\n",
    "\n",
    "df_list = [first_class, second_class, third_class]\n",
    "names = [\"First class\", \"Second class\", \"Third class\"]\n",
    "\n",
    "plt.figure(figsize=(14, len(df_list) * 3 + 10))\n",
    "\n",
    "# each graph have specific color\n",
    "colors = ['blue', 'lightgreen', 'salmon']\n",
    "for idx, (feature, name, color) in enumerate(zip(df_list, names, colors), 1):\n",
    "    plt.subplot(len(df_list), 2, idx)\n",
    "    sns.countplot(data=df[feature], x='Fare_bin', color=color)\n",
    "    plt.title(f'Distribution of Fare_bin - {name}')\n",
    "    ax = plt.gca()\n",
    "    for container in ax.containers:\n",
    "        ax.bar_label(container)    \n",
    "\n",
    "plt.tight_layout()\n",
    "plt.show()"
   ]
  },
  {
   "cell_type": "markdown",
   "metadata": {},
   "source": [
    "Really interestingly, we could see that `Third class` passengers should be mostly in `low` and `medium` Fare_bin, while `First class` passengers should be mostly in `high` Fare_bin. But there are still some `Third class` passengers in `high` Fare_bin, which is quite strange."
   ]
  },
  {
   "cell_type": "code",
   "execution_count": null,
   "metadata": {},
   "outputs": [
    {
     "name": "stderr",
     "output_type": "stream",
     "text": [
      "C:\\Users\\thien408\\AppData\\Local\\Temp\\ipykernel_4608\\1825412487.py:1: UserWarning: Boolean Series key will be reindexed to match DataFrame index.\n",
      "  df[df['Fare_bin'] == 7][df['Pclass'] == 3]\n"
     ]
    },
    {
     "data": {
      "text/html": [
       "<div>\n",
       "<style scoped>\n",
       "    .dataframe tbody tr th:only-of-type {\n",
       "        vertical-align: middle;\n",
       "    }\n",
       "\n",
       "    .dataframe tbody tr th {\n",
       "        vertical-align: top;\n",
       "    }\n",
       "\n",
       "    .dataframe thead th {\n",
       "        text-align: right;\n",
       "    }\n",
       "</style>\n",
       "<table border=\"1\" class=\"dataframe\">\n",
       "  <thead>\n",
       "    <tr style=\"text-align: right;\">\n",
       "      <th></th>\n",
       "      <th>PassengerId</th>\n",
       "      <th>Survived</th>\n",
       "      <th>Pclass</th>\n",
       "      <th>Name</th>\n",
       "      <th>Sex</th>\n",
       "      <th>Age</th>\n",
       "      <th>SibSp</th>\n",
       "      <th>Parch</th>\n",
       "      <th>Ticket</th>\n",
       "      <th>Fare</th>\n",
       "      <th>Embarked</th>\n",
       "      <th>Age_bin</th>\n",
       "      <th>Fare_bin</th>\n",
       "    </tr>\n",
       "  </thead>\n",
       "  <tbody>\n",
       "    <tr>\n",
       "      <th>74</th>\n",
       "      <td>75</td>\n",
       "      <td>1</td>\n",
       "      <td>3</td>\n",
       "      <td>Bing, Mr. Lee</td>\n",
       "      <td>male</td>\n",
       "      <td>32.000000</td>\n",
       "      <td>0</td>\n",
       "      <td>0</td>\n",
       "      <td>1601</td>\n",
       "      <td>56.4958</td>\n",
       "      <td>S</td>\n",
       "      <td>3</td>\n",
       "      <td>7.0</td>\n",
       "    </tr>\n",
       "    <tr>\n",
       "      <th>159</th>\n",
       "      <td>160</td>\n",
       "      <td>0</td>\n",
       "      <td>3</td>\n",
       "      <td>Sage, Master. Thomas Henry</td>\n",
       "      <td>male</td>\n",
       "      <td>4.574167</td>\n",
       "      <td>8</td>\n",
       "      <td>2</td>\n",
       "      <td>CA. 2343</td>\n",
       "      <td>69.5500</td>\n",
       "      <td>S</td>\n",
       "      <td>0</td>\n",
       "      <td>7.0</td>\n",
       "    </tr>\n",
       "    <tr>\n",
       "      <th>169</th>\n",
       "      <td>170</td>\n",
       "      <td>0</td>\n",
       "      <td>3</td>\n",
       "      <td>Ling, Mr. Lee</td>\n",
       "      <td>male</td>\n",
       "      <td>28.000000</td>\n",
       "      <td>0</td>\n",
       "      <td>0</td>\n",
       "      <td>1601</td>\n",
       "      <td>56.4958</td>\n",
       "      <td>S</td>\n",
       "      <td>3</td>\n",
       "      <td>7.0</td>\n",
       "    </tr>\n",
       "    <tr>\n",
       "      <th>180</th>\n",
       "      <td>181</td>\n",
       "      <td>0</td>\n",
       "      <td>3</td>\n",
       "      <td>Sage, Miss. Constance Gladys</td>\n",
       "      <td>female</td>\n",
       "      <td>29.699118</td>\n",
       "      <td>8</td>\n",
       "      <td>2</td>\n",
       "      <td>CA. 2343</td>\n",
       "      <td>69.5500</td>\n",
       "      <td>S</td>\n",
       "      <td>3</td>\n",
       "      <td>7.0</td>\n",
       "    </tr>\n",
       "    <tr>\n",
       "      <th>201</th>\n",
       "      <td>202</td>\n",
       "      <td>0</td>\n",
       "      <td>3</td>\n",
       "      <td>Sage, Mr. Frederick</td>\n",
       "      <td>male</td>\n",
       "      <td>29.699118</td>\n",
       "      <td>8</td>\n",
       "      <td>2</td>\n",
       "      <td>CA. 2343</td>\n",
       "      <td>69.5500</td>\n",
       "      <td>S</td>\n",
       "      <td>3</td>\n",
       "      <td>7.0</td>\n",
       "    </tr>\n",
       "    <tr>\n",
       "      <th>324</th>\n",
       "      <td>325</td>\n",
       "      <td>0</td>\n",
       "      <td>3</td>\n",
       "      <td>Sage, Mr. George John Jr</td>\n",
       "      <td>male</td>\n",
       "      <td>29.699118</td>\n",
       "      <td>8</td>\n",
       "      <td>2</td>\n",
       "      <td>CA. 2343</td>\n",
       "      <td>69.5500</td>\n",
       "      <td>S</td>\n",
       "      <td>3</td>\n",
       "      <td>7.0</td>\n",
       "    </tr>\n",
       "    <tr>\n",
       "      <th>509</th>\n",
       "      <td>510</td>\n",
       "      <td>1</td>\n",
       "      <td>3</td>\n",
       "      <td>Lang, Mr. Fang</td>\n",
       "      <td>male</td>\n",
       "      <td>26.000000</td>\n",
       "      <td>0</td>\n",
       "      <td>0</td>\n",
       "      <td>1601</td>\n",
       "      <td>56.4958</td>\n",
       "      <td>S</td>\n",
       "      <td>2</td>\n",
       "      <td>7.0</td>\n",
       "    </tr>\n",
       "    <tr>\n",
       "      <th>643</th>\n",
       "      <td>644</td>\n",
       "      <td>1</td>\n",
       "      <td>3</td>\n",
       "      <td>Foo, Mr. Choong</td>\n",
       "      <td>male</td>\n",
       "      <td>29.699118</td>\n",
       "      <td>0</td>\n",
       "      <td>0</td>\n",
       "      <td>1601</td>\n",
       "      <td>56.4958</td>\n",
       "      <td>S</td>\n",
       "      <td>3</td>\n",
       "      <td>7.0</td>\n",
       "    </tr>\n",
       "    <tr>\n",
       "      <th>692</th>\n",
       "      <td>693</td>\n",
       "      <td>1</td>\n",
       "      <td>3</td>\n",
       "      <td>Lam, Mr. Ali</td>\n",
       "      <td>male</td>\n",
       "      <td>29.699118</td>\n",
       "      <td>0</td>\n",
       "      <td>0</td>\n",
       "      <td>1601</td>\n",
       "      <td>56.4958</td>\n",
       "      <td>S</td>\n",
       "      <td>3</td>\n",
       "      <td>7.0</td>\n",
       "    </tr>\n",
       "    <tr>\n",
       "      <th>792</th>\n",
       "      <td>793</td>\n",
       "      <td>0</td>\n",
       "      <td>3</td>\n",
       "      <td>Sage, Miss. Stella Anna</td>\n",
       "      <td>female</td>\n",
       "      <td>29.699118</td>\n",
       "      <td>8</td>\n",
       "      <td>2</td>\n",
       "      <td>CA. 2343</td>\n",
       "      <td>69.5500</td>\n",
       "      <td>S</td>\n",
       "      <td>3</td>\n",
       "      <td>7.0</td>\n",
       "    </tr>\n",
       "    <tr>\n",
       "      <th>826</th>\n",
       "      <td>827</td>\n",
       "      <td>0</td>\n",
       "      <td>3</td>\n",
       "      <td>Lam, Mr. Len</td>\n",
       "      <td>male</td>\n",
       "      <td>29.699118</td>\n",
       "      <td>0</td>\n",
       "      <td>0</td>\n",
       "      <td>1601</td>\n",
       "      <td>56.4958</td>\n",
       "      <td>S</td>\n",
       "      <td>3</td>\n",
       "      <td>7.0</td>\n",
       "    </tr>\n",
       "    <tr>\n",
       "      <th>838</th>\n",
       "      <td>839</td>\n",
       "      <td>1</td>\n",
       "      <td>3</td>\n",
       "      <td>Chip, Mr. Chang</td>\n",
       "      <td>male</td>\n",
       "      <td>32.000000</td>\n",
       "      <td>0</td>\n",
       "      <td>0</td>\n",
       "      <td>1601</td>\n",
       "      <td>56.4958</td>\n",
       "      <td>S</td>\n",
       "      <td>3</td>\n",
       "      <td>7.0</td>\n",
       "    </tr>\n",
       "    <tr>\n",
       "      <th>846</th>\n",
       "      <td>847</td>\n",
       "      <td>0</td>\n",
       "      <td>3</td>\n",
       "      <td>Sage, Mr. Douglas Bullen</td>\n",
       "      <td>male</td>\n",
       "      <td>29.699118</td>\n",
       "      <td>8</td>\n",
       "      <td>2</td>\n",
       "      <td>CA. 2343</td>\n",
       "      <td>69.5500</td>\n",
       "      <td>S</td>\n",
       "      <td>3</td>\n",
       "      <td>7.0</td>\n",
       "    </tr>\n",
       "    <tr>\n",
       "      <th>863</th>\n",
       "      <td>864</td>\n",
       "      <td>0</td>\n",
       "      <td>3</td>\n",
       "      <td>Sage, Miss. Dorothy Edith \"Dolly\"</td>\n",
       "      <td>female</td>\n",
       "      <td>29.699118</td>\n",
       "      <td>8</td>\n",
       "      <td>2</td>\n",
       "      <td>CA. 2343</td>\n",
       "      <td>69.5500</td>\n",
       "      <td>S</td>\n",
       "      <td>3</td>\n",
       "      <td>7.0</td>\n",
       "    </tr>\n",
       "  </tbody>\n",
       "</table>\n",
       "</div>"
      ],
      "text/plain": [
       "     PassengerId Survived Pclass                               Name     Sex  \\\n",
       "74            75        1      3                      Bing, Mr. Lee    male   \n",
       "159          160        0      3         Sage, Master. Thomas Henry    male   \n",
       "169          170        0      3                      Ling, Mr. Lee    male   \n",
       "180          181        0      3       Sage, Miss. Constance Gladys  female   \n",
       "201          202        0      3                Sage, Mr. Frederick    male   \n",
       "324          325        0      3           Sage, Mr. George John Jr    male   \n",
       "509          510        1      3                     Lang, Mr. Fang    male   \n",
       "643          644        1      3                    Foo, Mr. Choong    male   \n",
       "692          693        1      3                       Lam, Mr. Ali    male   \n",
       "792          793        0      3            Sage, Miss. Stella Anna  female   \n",
       "826          827        0      3                       Lam, Mr. Len    male   \n",
       "838          839        1      3                    Chip, Mr. Chang    male   \n",
       "846          847        0      3           Sage, Mr. Douglas Bullen    male   \n",
       "863          864        0      3  Sage, Miss. Dorothy Edith \"Dolly\"  female   \n",
       "\n",
       "           Age  SibSp  Parch    Ticket     Fare Embarked Age_bin Fare_bin  \n",
       "74   32.000000      0      0      1601  56.4958        S       3      7.0  \n",
       "159   4.574167      8      2  CA. 2343  69.5500        S       0      7.0  \n",
       "169  28.000000      0      0      1601  56.4958        S       3      7.0  \n",
       "180  29.699118      8      2  CA. 2343  69.5500        S       3      7.0  \n",
       "201  29.699118      8      2  CA. 2343  69.5500        S       3      7.0  \n",
       "324  29.699118      8      2  CA. 2343  69.5500        S       3      7.0  \n",
       "509  26.000000      0      0      1601  56.4958        S       2      7.0  \n",
       "643  29.699118      0      0      1601  56.4958        S       3      7.0  \n",
       "692  29.699118      0      0      1601  56.4958        S       3      7.0  \n",
       "792  29.699118      8      2  CA. 2343  69.5500        S       3      7.0  \n",
       "826  29.699118      0      0      1601  56.4958        S       3      7.0  \n",
       "838  32.000000      0      0      1601  56.4958        S       3      7.0  \n",
       "846  29.699118      8      2  CA. 2343  69.5500        S       3      7.0  \n",
       "863  29.699118      8      2  CA. 2343  69.5500        S       3      7.0  "
      ]
     },
     "execution_count": 47,
     "metadata": {},
     "output_type": "execute_result"
    }
   ],
   "source": [
    "df[df['Fare_bin'] == 7][df['Pclass'] == 3]"
   ]
  },
  {
   "cell_type": "markdown",
   "metadata": {},
   "source": [
    "Having a look at this dataset, I realized that most of these passengers are actually families, since many passengers in this dataset had same family name, and the feature `SibSp` and `Parch` are quite high. The price that they had to pay for the tickets was likely influenced by their family size. Let's investigate the family size of the passengers to see if it has any impact on their survival."
   ]
  },
  {
   "cell_type": "markdown",
   "metadata": {},
   "source": [
    "### Family size"
   ]
  },
  {
   "cell_type": "markdown",
   "metadata": {},
   "source": [
    "I decided to create a new feature `FamilySize`, which is the sum of `SibSp` and `Parch` plus 1 (the passenger itself)."
   ]
  },
  {
   "cell_type": "code",
   "execution_count": null,
   "metadata": {},
   "outputs": [
    {
     "data": {
      "image/png": "[encoded data removed]",
      "text/plain": [
       "<Figure size 2000x800 with 1 Axes>"
      ]
     },
     "metadata": {},
     "output_type": "display_data"
    }
   ],
   "source": [
    "df['FamilySize'] = df['SibSp'] + df['Parch'] + 1\n",
    "df_test['FamilySize'] = df_test['SibSp'] + df_test['Parch'] + 1\n",
    "fig, axs = plt.subplots(figsize=(20, 8))\n",
    "sns.countplot(x='FamilySize', hue='Survived', data=df)\n",
    "plt.show()"
   ]
  },
  {
   "cell_type": "markdown",
   "metadata": {},
   "source": [
    "### Survivability base on FamilySize"
   ]
  },
  {
   "cell_type": "code",
   "execution_count": null,
   "metadata": {},
   "outputs": [
    {
     "name": "stdout",
     "output_type": "stream",
     "text": [
      "FamilySize 1: 30.35% survived out of 537 (163 survived)\n",
      "FamilySize 2: 55.28% survived out of 161 (89 survived)\n",
      "FamilySize 3: 57.84% survived out of 102 (59 survived)\n",
      "FamilySize 4: 72.41% survived out of 29 (21 survived)\n",
      "FamilySize 5: 20.00% survived out of 15 (3 survived)\n",
      "FamilySize 6: 13.64% survived out of 22 (3 survived)\n",
      "FamilySize 7: 33.33% survived out of 12 (4 survived)\n",
      "FamilySize 8: 0.00% survived out of 6 (0 survived)\n",
      "FamilySize 11: 0.00% survived out of 7 (0 survived)\n"
     ]
    },
    {
     "name": "stderr",
     "output_type": "stream",
     "text": [
      "C:\\Users\\thien408\\AppData\\Local\\Temp\\ipykernel_4608\\227718682.py:2: UserWarning: Boolean Series key will be reindexed to match DataFrame index.\n",
      "  survived = df[df['FamilySize'] == family_size][df['Survived'] == 1]\n",
      "C:\\Users\\thien408\\AppData\\Local\\Temp\\ipykernel_4608\\227718682.py:2: UserWarning: Boolean Series key will be reindexed to match DataFrame index.\n",
      "  survived = df[df['FamilySize'] == family_size][df['Survived'] == 1]\n",
      "C:\\Users\\thien408\\AppData\\Local\\Temp\\ipykernel_4608\\227718682.py:2: UserWarning: Boolean Series key will be reindexed to match DataFrame index.\n",
      "  survived = df[df['FamilySize'] == family_size][df['Survived'] == 1]\n",
      "C:\\Users\\thien408\\AppData\\Local\\Temp\\ipykernel_4608\\227718682.py:2: UserWarning: Boolean Series key will be reindexed to match DataFrame index.\n",
      "  survived = df[df['FamilySize'] == family_size][df['Survived'] == 1]\n",
      "C:\\Users\\thien408\\AppData\\Local\\Temp\\ipykernel_4608\\227718682.py:2: UserWarning: Boolean Series key will be reindexed to match DataFrame index.\n",
      "  survived = df[df['FamilySize'] == family_size][df['Survived'] == 1]\n",
      "C:\\Users\\thien408\\AppData\\Local\\Temp\\ipykernel_4608\\227718682.py:2: UserWarning: Boolean Series key will be reindexed to match DataFrame index.\n",
      "  survived = df[df['FamilySize'] == family_size][df['Survived'] == 1]\n",
      "C:\\Users\\thien408\\AppData\\Local\\Temp\\ipykernel_4608\\227718682.py:2: UserWarning: Boolean Series key will be reindexed to match DataFrame index.\n",
      "  survived = df[df['FamilySize'] == family_size][df['Survived'] == 1]\n",
      "C:\\Users\\thien408\\AppData\\Local\\Temp\\ipykernel_4608\\227718682.py:2: UserWarning: Boolean Series key will be reindexed to match DataFrame index.\n",
      "  survived = df[df['FamilySize'] == family_size][df['Survived'] == 1]\n",
      "C:\\Users\\thien408\\AppData\\Local\\Temp\\ipykernel_4608\\227718682.py:2: UserWarning: Boolean Series key will be reindexed to match DataFrame index.\n",
      "  survived = df[df['FamilySize'] == family_size][df['Survived'] == 1]\n"
     ]
    }
   ],
   "source": [
    "for family_size in sorted(df['FamilySize'].unique()):\n",
    "    survived = df[df['FamilySize'] == family_size][df['Survived'] == 1]\n",
    "    survive_percentage = len(survived) / len(df[df['FamilySize'] == family_size]) * 100\n",
    "    print(f'FamilySize {family_size}: {survive_percentage:.2f}% survived out of {len(df[df['FamilySize'] == family_size])} ({len(survived)} survived)')"
   ]
  },
  {
   "cell_type": "markdown",
   "metadata": {},
   "source": [
    "To make things clearer, I will group the dataset by creating new feature `FamilyGroup` based on `FamilySize`.\n",
    "- Small: FamilySize = 1\n",
    "- Medium: FamilySize = 2 - 4\n",
    "- Large: FamilySize = 5 - 7\n",
    "- Very Large: FamilySize >= 8"
   ]
  },
  {
   "cell_type": "code",
   "execution_count": null,
   "metadata": {},
   "outputs": [
    {
     "data": {
      "image/png": "[encoded data removed]",
      "text/plain": [
       "<Figure size 2000x800 with 1 Axes>"
      ]
     },
     "metadata": {},
     "output_type": "display_data"
    }
   ],
   "source": [
    "df['FamilyGroup'] = pd.cut(df['FamilySize'], bins=[0, 1, 4, 7, 20], labels=False)\n",
    "df['FamilyGroup'] = df['FamilyGroup'].astype('category')\n",
    "\n",
    "df_test['FamilyGroup'] = pd.cut(df_test['FamilySize'], bins=[0, 1, 4, 7, 20], labels=False)\n",
    "df_test['FamilyGroup'] = df_test['FamilyGroup'].astype('category')\n",
    "\n",
    "fig, axs = plt.subplots(figsize=(20, 8))\n",
    "sns.countplot(x='FamilyGroup', hue='Survived', data=df)\n",
    "plt.show()"
   ]
  },
  {
   "cell_type": "code",
   "execution_count": null,
   "metadata": {},
   "outputs": [
    {
     "name": "stdout",
     "output_type": "stream",
     "text": [
      "FamilyGroup 0: 30.35% survived out of 537 (163 survived)\n",
      "FamilyGroup 1: 57.88% survived out of 292 (169 survived)\n",
      "FamilyGroup 2: 20.41% survived out of 49 (10 survived)\n",
      "FamilyGroup 3: 0.00% survived out of 13 (0 survived)\n"
     ]
    },
    {
     "name": "stderr",
     "output_type": "stream",
     "text": [
      "C:\\Users\\thien408\\AppData\\Local\\Temp\\ipykernel_4608\\4017964045.py:2: UserWarning: Boolean Series key will be reindexed to match DataFrame index.\n",
      "  survived = df[df['FamilyGroup'] == family_group][df['Survived'] == 1]\n",
      "C:\\Users\\thien408\\AppData\\Local\\Temp\\ipykernel_4608\\4017964045.py:2: UserWarning: Boolean Series key will be reindexed to match DataFrame index.\n",
      "  survived = df[df['FamilyGroup'] == family_group][df['Survived'] == 1]\n",
      "C:\\Users\\thien408\\AppData\\Local\\Temp\\ipykernel_4608\\4017964045.py:2: UserWarning: Boolean Series key will be reindexed to match DataFrame index.\n",
      "  survived = df[df['FamilyGroup'] == family_group][df['Survived'] == 1]\n",
      "C:\\Users\\thien408\\AppData\\Local\\Temp\\ipykernel_4608\\4017964045.py:2: UserWarning: Boolean Series key will be reindexed to match DataFrame index.\n",
      "  survived = df[df['FamilyGroup'] == family_group][df['Survived'] == 1]\n"
     ]
    }
   ],
   "source": [
    "for family_group in sorted(df['FamilyGroup'].unique()):\n",
    "    survived = df[df['FamilyGroup'] == family_group][df['Survived'] == 1]\n",
    "    survive_percentage = len(survived) / len(df[df['FamilyGroup'] == family_group]) * 100\n",
    "    print(f'FamilyGroup {family_group}: {survive_percentage:.2f}% survived out of {len(df[df['FamilyGroup'] == family_group])} ({len(survived)} survived)')"
   ]
  },
  {
   "cell_type": "markdown",
   "metadata": {},
   "source": [
    "From the result, we could see that:\n",
    "- Alone passengers (FamilySize = 1) had a survival rate of 30.35% (163 out of 537).\n",
    "- Small families (FamilySize = 2 - 4) had the highest survival rate of 57.88% (169 out of 292).\n",
    "- Large families (FamilySize = 5 - 7) had a survival rate of 20.41% (10 out of 49).\n",
    "- Very large families (FamilySize >= 8) had the lowest survival rate of 0% (0 out of 13)."
   ]
  },
  {
   "cell_type": "markdown",
   "metadata": {},
   "source": [
    "## Feature Selection"
   ]
  },
  {
   "cell_type": "code",
   "execution_count": null,
   "metadata": {},
   "outputs": [
    {
     "name": "stdout",
     "output_type": "stream",
     "text": [
      "<class 'pandas.core.frame.DataFrame'>\n",
      "RangeIndex: 891 entries, 0 to 890\n",
      "Data columns (total 15 columns):\n",
      " #   Column       Non-Null Count  Dtype   \n",
      "---  ------       --------------  -----   \n",
      " 0   PassengerId  891 non-null    int64   \n",
      " 1   Survived     891 non-null    category\n",
      " 2   Pclass       891 non-null    category\n",
      " 3   Name         891 non-null    object  \n",
      " 4   Sex          891 non-null    category\n",
      " 5   Age          891 non-null    float64 \n",
      " 6   SibSp        891 non-null    int64   \n",
      " 7   Parch        891 non-null    int64   \n",
      " 8   Ticket       891 non-null    object  \n",
      " 9   Fare         891 non-null    float64 \n",
      " 10  Embarked     891 non-null    category\n",
      " 11  Age_bin      891 non-null    category\n",
      " 12  Fare_bin     876 non-null    category\n",
      " 13  FamilySize   891 non-null    int64   \n",
      " 14  FamilyGroup  891 non-null    category\n",
      "dtypes: category(7), float64(2), int64(4), object(2)\n",
      "memory usage: 63.3+ KB\n"
     ]
    }
   ],
   "source": [
    "df.info()"
   ]
  },
  {
   "cell_type": "markdown",
   "metadata": {},
   "source": [
    "Remove:\n",
    "- PassengerId\n",
    "- Name\n",
    "- SibSp\n",
    "- Parch\n",
    "- Ticket\n",
    "- Fare\n",
    "- FamilySize"
   ]
  },
  {
   "cell_type": "markdown",
   "metadata": {},
   "source": [
    "# Note"
   ]
  },
  {
   "cell_type": "markdown",
   "metadata": {},
   "source": [
    "sau khi tui nghiên cứu sơ sơ, thì tôi tìm được rất nhiều thứ hay ho về vụ titanic, mà có thế giúp ích được cho mình trong việc tạo mô hình dự đoán.\n",
    "Các đường link:\n",
    "- https://titanicll.co.uk/wp-content/uploads/2020/07/2020-07-06-1.png: Ảnh hiển thị map tàu Titanic một cách tổng quan \n",
    "- https://www.encyclopedia-titanica.org/titanic-deckplans/: Sơ đồ từng deck tàu titanic\n",
    "- https://www.encyclopedia-titanica.org/cabins.html/: Danh sách các passengers và cabin mà họ được chỉ định để ở\n",
    "- https://en.wikipedia.org/wiki/Titanic#Survivors_and_victims/: Thông tin về những người nạn nhân và những người sống sót (Tỉ lệ khá chi tiết)\n",
    "- https://en.wikipedia.org/wiki/File:1912_Titanic_itinerary_europe_EN.svg/: Lịch trình của tàu Titanic\n",
    "- https://www.perplexity.ai/search/which-part-of-the-titanic-sank-QDtlA9PNSSGlHF7LzOKxjw#0/: Thông tin về bộ phận nào của tàu chìm trước + Hình ảnh về các chi tiết có lẽ cũng đáng chú ý của tàu Titanic\n",
    "\n",
    "Theo như tôi được biết, thì mình không được sử dụng những nguồn này như là nguồn bài báo chính thống, vì bản thân những nguồn này không được coi như là nguồn chính thống, uy tín. Nhưng nó có được liên kết với các bài báo chính thống, mình có thể xem các bài báo được liên kết từ các trang đó.\n",
    "\n",
    "Tiếp theo, tui muốn tui sẽ quyết định xem giải quyết missing value như thế nào.\n",
    "\n",
    "UPDATE 8:59PM 5-10-2025\n",
    "\n",
    "oke sau khi chạy này kia xong tôi quyết định chủ yếu coi mức độ sống sót dựa trên giới tính và độ tuổi:\n",
    "- với nam\n",
    "    - nếu như trẻ nhỏ hơn hoặc bằng 12 tuổi (Master):\n",
    "        - nếu ở class 1 và 2, sống 100%,\n",
    "        - class 3 thì 50/50\n",
    "    - nếu từ 12 - 18 tuổi\n",
    "        - ở class 1 và 2 tỉ lệ sống rất cao, tổng 14ng có 2ng class 2 chết\n",
    "        - class 3 chết đc 2/3\n",
    "- với nữ\n",
    "    - nếu trẻ nhỏ hơn hoặc bằng 12 tuổi:\n",
    "        - ở class 1 chỉ có 1 trường hợp và chết\n",
    "        - class 2 thì sống 100%\n",
    "        - class 3 thì 50/50\n",
    "    - nếu từ 12 - 18 tuổi:\n",
    "        - ở cả ba class tỉ lệ sống rất cao (class 3 chỉ có 4ng chết còn lại sống hết)\n",
    "\n",
    "UPDATE 2:50PM 6-10-2025\n",
    "oke tui đã làm xong phần EDA (có lẽ là vậy). Có gì anh em làm tiếp nha\n",
    "dựa vào phần EDA, và dựa vào tham khảo từ những người khác, tui có vài ý tưởng cho phần Feature Engineering.\n",
    "- `Parch` và `SibSp` kết hợp lại với nhau, từ đó ta có thể biết được người đó có bao nhiêu người thân đi chung trên chuyến tàu Titanic => có thể ảnh hưởng đến khả năng sống sót\n",
    "- `Ticket` nhìn có vẻ không có gì liên quan hết, nhưng sẽ có những người có `Ticket` giống nhau, chứng tỏ họ đi chung với nhau, vậy họ có thể là người thân trong gia đình, bạn bè,... Vậy khả năng nếu 1 người trong số họ được cứu, thì những người còn lại cũng sẽ được cứu luôn => tỉ lệ tăng cao hơn\n",
    "- `Cabin`: dữ liệu này thực chất khá quan trọng, giúp xác định được chỗ ngủ của khách ở trên con tàu. Do tàu Titanic khi chìm thì nó bị chìm ở đầu bên phải của con tàu trước, nên những người ở bên đầu bên trái sẽ có nhiều thời gian hơn để được cứu so với những người ở đầu bên phải con tàu. Ngoài ra, dù có rất nhiều người ở khoang hạng nhất (first class), ta cứ mặc định cho rằng những người đó sẽ ở những khoang tàu cao hơn, nhưng thực tế có những người ở first class nhưng vẫn ở chung tằng với người hạng hai, ba, và cũng có những người khoang hạng nhất, nhưng có vị trí phòng ngủ cao hơn so với những người khoang hạng nhất khác => có thể giữ lại biến này để kiểm tra điều đó\n",
    "- `Embarked`: Thể hiện được khách hàng đi lên tàu ở cảng nào => có thể ảnh hưởng đến vị trí phòng ngủ của khách hàng.\n",
    "- `PassengerId`: Vứt đi, không hề quan trọng gì hết trong cái việc dự đoán (xem cái heatmap để biết thêm)\n",
    "- `Name`: thật ra không quan trọng lắm, trong cái `Name` có chứa cách xưng hô của những người đó => ta có thể biết được độ tuổi, tầng lớp của những người đó ở ngoài xã hội. tuy nhiên khi tôi làm thì tôi thấy rằng dù họ có tầng lớp xã hội cao, họ vẫn bị chết bởi những cái trend chung của dataset này, nên cũng không đáng lo ngại lắm.\n",
    "- `Pclass`, `Age`, `Sex`: **Những data quan trọng nhất**, thể hiện được phân bổ của dữ liệu một cách rõ ràng nhất.\n",
    "\n",
    "UPDATE 8:35AM 9-10-2025\n",
    "vừa tìm kiếm được thêm những bài notebook về việc xử lý dữ liệu Titanic:\n",
    "- https://www.kaggle.com/code/rxsraghavagrawal/handling-outliers\n",
    "- https://datasciencewithchris.com/kaggle-titanic-data-cleaning-and-preprocessing/"
   ]
  },
  {
   "cell_type": "markdown",
   "metadata": {},
   "source": [
    "# đừng để ý mấy này"
   ]
  },
  {
   "cell_type": "code",
   "execution_count": null,
   "metadata": {
    "execution": {
     "iopub.execute_input": "2025-10-05T15:36:18.453060Z",
     "iopub.status.busy": "2025-10-05T15:36:18.452802Z",
     "iopub.status.idle": "2025-10-05T15:36:18.472480Z",
     "shell.execute_reply": "2025-10-05T15:36:18.471354Z",
     "shell.execute_reply.started": "2025-10-05T15:36:18.453041Z"
    },
    "trusted": true
   },
   "outputs": [],
   "source": [
    "df = df.drop(['PassengerId', 'Name', 'SibSp', 'Parch', 'Ticket', 'Fare', 'FamilySize'], axis=1) # remove these feature because 1. not analyze it yet and 2. have other things to show that features (Pclass instead of fare and cabin and ticket)\n",
    "df_test = df_test.drop(['PassengerId', 'Name', 'SibSp', 'Parch', 'Ticket', 'Fare', 'FamilySize'], axis=1)\n",
    "\n",
    "df['Sex'] = df['Sex'].map({'male': 0, 'female': 1})\n",
    "df_test['Sex'] = df_test['Sex'].map({'male': 0, 'female': 1})\n",
    "\n",
    "df['Embarked'] = df['Embarked'].map({'C': 0, 'S': 1, 'Q': 2})\n",
    "df_test['Embarked'] = df_test['Embarked'].map({'C': 0, 'S': 1, 'Q': 2})"
   ]
  },
  {
   "cell_type": "markdown",
   "metadata": {},
   "source": [
    "## Multivariate"
   ]
  },
  {
   "cell_type": "markdown",
   "metadata": {},
   "source": [
    "not done"
   ]
  },
  {
   "cell_type": "markdown",
   "metadata": {},
   "source": [
    "## Model (AI generated)"
   ]
  },
  {
   "cell_type": "code",
   "execution_count": null,
   "metadata": {},
   "outputs": [
    {
     "name": "stdout",
     "output_type": "stream",
     "text": [
      "Validation Accuracy: 0.8436\n",
      "Model saved to titanic_random_forest_model_v4.joblib\n"
     ]
    }
   ],
   "source": [
    "from sklearn.model_selection import train_test_split\n",
    "from sklearn.ensemble import RandomForestClassifier\n",
    "from sklearn.metrics import accuracy_score\n",
    "import joblib\n",
    "\n",
    "df_input = df.drop(['Survived'], axis=1)\n",
    "df_outcome = df['Survived']\n",
    "\n",
    "# Prepare input and output\n",
    "X = df_input\n",
    "y = df_outcome.astype(int)  # Ensure target is integer\n",
    "\n",
    "# Split data\n",
    "X_train, X_test, y_train, y_test = train_test_split(X, y, test_size=0.2, random_state=42)\n",
    "\n",
    "# Train model\n",
    "model = RandomForestClassifier(n_estimators=100, random_state=42)\n",
    "model.fit(X_train, y_train)\n",
    "\n",
    "# Predict and evaluate\n",
    "y_pred = model.predict(X_test)\n",
    "accuracy = accuracy_score(y_test, y_pred)\n",
    "print(f\"Validation Accuracy: {accuracy:.4f}\")\n",
    "\n",
    "# Save model to file\n",
    "joblib.dump(model, \"titanic_random_forest_model_v4.joblib\")\n",
    "print(\"Model saved to titanic_random_forest_model_v4.joblib\")"
   ]
  },
  {
   "cell_type": "markdown",
   "metadata": {},
   "source": [
    "## Evaluate performance (AI Generated)"
   ]
  },
  {
   "cell_type": "code",
   "execution_count": null,
   "metadata": {},
   "outputs": [
    {
     "name": "stdout",
     "output_type": "stream",
     "text": [
      "Confusion Matrix:\n",
      "[[91 14]\n",
      " [14 60]]\n",
      "\n",
      "Classification Report:\n",
      "              precision    recall  f1-score   support\n",
      "\n",
      "           0       0.87      0.87      0.87       105\n",
      "           1       0.81      0.81      0.81        74\n",
      "\n",
      "    accuracy                           0.84       179\n",
      "   macro avg       0.84      0.84      0.84       179\n",
      "weighted avg       0.84      0.84      0.84       179\n",
      "\n"
     ]
    }
   ],
   "source": [
    "from sklearn.metrics import classification_report, confusion_matrix\n",
    "\n",
    "# Evaluate model performance on test set\n",
    "print(\"Confusion Matrix:\")\n",
    "print(confusion_matrix(y_test, y_pred))\n",
    "\n",
    "print(\"\\nClassification Report:\")\n",
    "print(classification_report(y_test, y_pred))"
   ]
  },
  {
   "cell_type": "markdown",
   "metadata": {},
   "source": [
    "## Prediction on test sets (AI Generated)"
   ]
  },
  {
   "cell_type": "code",
   "execution_count": null,
   "metadata": {},
   "outputs": [
    {
     "ename": "ValueError",
     "evalue": "The feature names should match those that were passed during fit.\nFeature names unseen at fit time:\n- Cabin\n",
     "output_type": "error",
     "traceback": [
      "\u001b[31m---------------------------------------------------------------------------\u001b[39m",
      "\u001b[31mValueError\u001b[39m                                Traceback (most recent call last)",
      "\u001b[36mCell\u001b[39m\u001b[36m \u001b[39m\u001b[32mIn[56]\u001b[39m\u001b[32m, line 4\u001b[39m\n\u001b[32m      1\u001b[39m \u001b[38;5;66;03m# Drop columns not used in training\u001b[39;00m\n\u001b[32m      2\u001b[39m X_submit = df_test\n\u001b[32m----> \u001b[39m\u001b[32m4\u001b[39m submit_pred = \u001b[43mmodel\u001b[49m\u001b[43m.\u001b[49m\u001b[43mpredict\u001b[49m\u001b[43m(\u001b[49m\u001b[43mX_submit\u001b[49m\u001b[43m)\u001b[49m\n\u001b[32m      6\u001b[39m \u001b[38;5;66;03m# Prepare submission DataFrame\u001b[39;00m\n\u001b[32m      7\u001b[39m submission = pd.DataFrame({\n\u001b[32m      8\u001b[39m     \u001b[33m'\u001b[39m\u001b[33mPassengerId\u001b[39m\u001b[33m'\u001b[39m: test_dataset[\u001b[33m'\u001b[39m\u001b[33mPassengerId\u001b[39m\u001b[33m'\u001b[39m],\n\u001b[32m      9\u001b[39m     \u001b[33m'\u001b[39m\u001b[33mSurvived\u001b[39m\u001b[33m'\u001b[39m: submit_pred.astype(\u001b[38;5;28mint\u001b[39m)\n\u001b[32m     10\u001b[39m })\n",
      "\u001b[36mFile \u001b[39m\u001b[32mc:\\Users\\thien408\\miniconda3\\envs\\lab1\\Lib\\site-packages\\sklearn\\ensemble\\_forest.py:903\u001b[39m, in \u001b[36mForestClassifier.predict\u001b[39m\u001b[34m(self, X)\u001b[39m\n\u001b[32m    882\u001b[39m \u001b[38;5;28;01mdef\u001b[39;00m\u001b[38;5;250m \u001b[39m\u001b[34mpredict\u001b[39m(\u001b[38;5;28mself\u001b[39m, X):\n\u001b[32m    883\u001b[39m \u001b[38;5;250m    \u001b[39m\u001b[33;03m\"\"\"\u001b[39;00m\n\u001b[32m    884\u001b[39m \u001b[33;03m    Predict class for X.\u001b[39;00m\n\u001b[32m    885\u001b[39m \n\u001b[32m   (...)\u001b[39m\u001b[32m    901\u001b[39m \u001b[33;03m        The predicted classes.\u001b[39;00m\n\u001b[32m    902\u001b[39m \u001b[33;03m    \"\"\"\u001b[39;00m\n\u001b[32m--> \u001b[39m\u001b[32m903\u001b[39m     proba = \u001b[38;5;28;43mself\u001b[39;49m\u001b[43m.\u001b[49m\u001b[43mpredict_proba\u001b[49m\u001b[43m(\u001b[49m\u001b[43mX\u001b[49m\u001b[43m)\u001b[49m\n\u001b[32m    905\u001b[39m     \u001b[38;5;28;01mif\u001b[39;00m \u001b[38;5;28mself\u001b[39m.n_outputs_ == \u001b[32m1\u001b[39m:\n\u001b[32m    906\u001b[39m         \u001b[38;5;28;01mreturn\u001b[39;00m \u001b[38;5;28mself\u001b[39m.classes_.take(np.argmax(proba, axis=\u001b[32m1\u001b[39m), axis=\u001b[32m0\u001b[39m)\n",
      "\u001b[36mFile \u001b[39m\u001b[32mc:\\Users\\thien408\\miniconda3\\envs\\lab1\\Lib\\site-packages\\sklearn\\ensemble\\_forest.py:945\u001b[39m, in \u001b[36mForestClassifier.predict_proba\u001b[39m\u001b[34m(self, X)\u001b[39m\n\u001b[32m    943\u001b[39m check_is_fitted(\u001b[38;5;28mself\u001b[39m)\n\u001b[32m    944\u001b[39m \u001b[38;5;66;03m# Check data\u001b[39;00m\n\u001b[32m--> \u001b[39m\u001b[32m945\u001b[39m X = \u001b[38;5;28;43mself\u001b[39;49m\u001b[43m.\u001b[49m\u001b[43m_validate_X_predict\u001b[49m\u001b[43m(\u001b[49m\u001b[43mX\u001b[49m\u001b[43m)\u001b[49m\n\u001b[32m    947\u001b[39m \u001b[38;5;66;03m# Assign chunk of trees to jobs\u001b[39;00m\n\u001b[32m    948\u001b[39m n_jobs, _, _ = _partition_estimators(\u001b[38;5;28mself\u001b[39m.n_estimators, \u001b[38;5;28mself\u001b[39m.n_jobs)\n",
      "\u001b[36mFile \u001b[39m\u001b[32mc:\\Users\\thien408\\miniconda3\\envs\\lab1\\Lib\\site-packages\\sklearn\\ensemble\\_forest.py:637\u001b[39m, in \u001b[36mBaseForest._validate_X_predict\u001b[39m\u001b[34m(self, X)\u001b[39m\n\u001b[32m    634\u001b[39m \u001b[38;5;28;01melse\u001b[39;00m:\n\u001b[32m    635\u001b[39m     ensure_all_finite = \u001b[38;5;28;01mTrue\u001b[39;00m\n\u001b[32m--> \u001b[39m\u001b[32m637\u001b[39m X = \u001b[43mvalidate_data\u001b[49m\u001b[43m(\u001b[49m\n\u001b[32m    638\u001b[39m \u001b[43m    \u001b[49m\u001b[38;5;28;43mself\u001b[39;49m\u001b[43m,\u001b[49m\n\u001b[32m    639\u001b[39m \u001b[43m    \u001b[49m\u001b[43mX\u001b[49m\u001b[43m,\u001b[49m\n\u001b[32m    640\u001b[39m \u001b[43m    \u001b[49m\u001b[43mdtype\u001b[49m\u001b[43m=\u001b[49m\u001b[43mDTYPE\u001b[49m\u001b[43m,\u001b[49m\n\u001b[32m    641\u001b[39m \u001b[43m    \u001b[49m\u001b[43maccept_sparse\u001b[49m\u001b[43m=\u001b[49m\u001b[33;43m\"\u001b[39;49m\u001b[33;43mcsr\u001b[39;49m\u001b[33;43m\"\u001b[39;49m\u001b[43m,\u001b[49m\n\u001b[32m    642\u001b[39m \u001b[43m    \u001b[49m\u001b[43mreset\u001b[49m\u001b[43m=\u001b[49m\u001b[38;5;28;43;01mFalse\u001b[39;49;00m\u001b[43m,\u001b[49m\n\u001b[32m    643\u001b[39m \u001b[43m    \u001b[49m\u001b[43mensure_all_finite\u001b[49m\u001b[43m=\u001b[49m\u001b[43mensure_all_finite\u001b[49m\u001b[43m,\u001b[49m\n\u001b[32m    644\u001b[39m \u001b[43m\u001b[49m\u001b[43m)\u001b[49m\n\u001b[32m    645\u001b[39m \u001b[38;5;28;01mif\u001b[39;00m issparse(X) \u001b[38;5;129;01mand\u001b[39;00m (X.indices.dtype != np.intc \u001b[38;5;129;01mor\u001b[39;00m X.indptr.dtype != np.intc):\n\u001b[32m    646\u001b[39m     \u001b[38;5;28;01mraise\u001b[39;00m \u001b[38;5;167;01mValueError\u001b[39;00m(\u001b[33m\"\u001b[39m\u001b[33mNo support for np.int64 index based sparse matrices\u001b[39m\u001b[33m\"\u001b[39m)\n",
      "\u001b[36mFile \u001b[39m\u001b[32mc:\\Users\\thien408\\miniconda3\\envs\\lab1\\Lib\\site-packages\\sklearn\\utils\\validation.py:2929\u001b[39m, in \u001b[36mvalidate_data\u001b[39m\u001b[34m(_estimator, X, y, reset, validate_separately, skip_check_array, **check_params)\u001b[39m\n\u001b[32m   2845\u001b[39m \u001b[38;5;28;01mdef\u001b[39;00m\u001b[38;5;250m \u001b[39m\u001b[34mvalidate_data\u001b[39m(\n\u001b[32m   2846\u001b[39m     _estimator,\n\u001b[32m   2847\u001b[39m     /,\n\u001b[32m   (...)\u001b[39m\u001b[32m   2853\u001b[39m     **check_params,\n\u001b[32m   2854\u001b[39m ):\n\u001b[32m   2855\u001b[39m \u001b[38;5;250m    \u001b[39m\u001b[33;03m\"\"\"Validate input data and set or check feature names and counts of the input.\u001b[39;00m\n\u001b[32m   2856\u001b[39m \n\u001b[32m   2857\u001b[39m \u001b[33;03m    This helper function should be used in an estimator that requires input\u001b[39;00m\n\u001b[32m   (...)\u001b[39m\u001b[32m   2927\u001b[39m \u001b[33;03m        validated.\u001b[39;00m\n\u001b[32m   2928\u001b[39m \u001b[33;03m    \"\"\"\u001b[39;00m\n\u001b[32m-> \u001b[39m\u001b[32m2929\u001b[39m     \u001b[43m_check_feature_names\u001b[49m\u001b[43m(\u001b[49m\u001b[43m_estimator\u001b[49m\u001b[43m,\u001b[49m\u001b[43m \u001b[49m\u001b[43mX\u001b[49m\u001b[43m,\u001b[49m\u001b[43m \u001b[49m\u001b[43mreset\u001b[49m\u001b[43m=\u001b[49m\u001b[43mreset\u001b[49m\u001b[43m)\u001b[49m\n\u001b[32m   2930\u001b[39m     tags = get_tags(_estimator)\n\u001b[32m   2931\u001b[39m     \u001b[38;5;28;01mif\u001b[39;00m y \u001b[38;5;129;01mis\u001b[39;00m \u001b[38;5;28;01mNone\u001b[39;00m \u001b[38;5;129;01mand\u001b[39;00m tags.target_tags.required:\n",
      "\u001b[36mFile \u001b[39m\u001b[32mc:\\Users\\thien408\\miniconda3\\envs\\lab1\\Lib\\site-packages\\sklearn\\utils\\validation.py:2787\u001b[39m, in \u001b[36m_check_feature_names\u001b[39m\u001b[34m(estimator, X, reset)\u001b[39m\n\u001b[32m   2784\u001b[39m \u001b[38;5;28;01mif\u001b[39;00m \u001b[38;5;129;01mnot\u001b[39;00m missing_names \u001b[38;5;129;01mand\u001b[39;00m \u001b[38;5;129;01mnot\u001b[39;00m unexpected_names:\n\u001b[32m   2785\u001b[39m     message += \u001b[33m\"\u001b[39m\u001b[33mFeature names must be in the same order as they were in fit.\u001b[39m\u001b[38;5;130;01m\\n\u001b[39;00m\u001b[33m\"\u001b[39m\n\u001b[32m-> \u001b[39m\u001b[32m2787\u001b[39m \u001b[38;5;28;01mraise\u001b[39;00m \u001b[38;5;167;01mValueError\u001b[39;00m(message)\n",
      "\u001b[31mValueError\u001b[39m: The feature names should match those that were passed during fit.\nFeature names unseen at fit time:\n- Cabin\n"
     ]
    }
   ],
   "source": [
    "# Drop columns not used in training\n",
    "X_submit = df_test\n",
    "\n",
    "submit_pred = model.predict(X_submit)\n",
    "\n",
    "# Prepare submission DataFrame\n",
    "submission = pd.DataFrame({\n",
    "    'PassengerId': test_dataset['PassengerId'],\n",
    "    'Survived': submit_pred.astype(int)\n",
    "})\n",
    "\n",
    "# Export to CSV\n",
    "submission.to_csv('submit_prediction_v4.csv', index=False)\n",
    "print(\"Prediction file saved as submit_prediction_v4.csv\")"
   ]
  },
  {
   "cell_type": "markdown",
   "metadata": {},
   "source": [
    "# The end"
   ]
  }
 ],
 "metadata": {
  "kaggle": {
   "accelerator": "none",
   "dataSources": [
    {
     "databundleVersionId": 26502,
     "sourceId": 3136,
     "sourceType": "competition"
    }
   ],
   "dockerImageVersionId": 31089,
   "isGpuEnabled": false,
   "isInternetEnabled": true,
   "language": "python",
   "sourceType": "notebook"
  },
  "kernelspec": {
   "display_name": "lab1",
   "language": "python",
   "name": "python3"
  },
  "language_info": {
   "codemirror_mode": {
    "name": "ipython",
    "version": 3
   },
   "file_extension": ".py",
   "mimetype": "text/x-python",
   "name": "python",
   "nbconvert_exporter": "python",
   "pygments_lexer": "ipython3",
   "version": "3.13.7"
  }
 },
 "nbformat": 4,
 "nbformat_minor": 4
}
