{
 "cells": [
  {
   "cell_type": "markdown",
   "id": "02003f16",
   "metadata": {},
   "source": [
    "# SweetViz"
   ]
  },
  {
   "cell_type": "markdown",
   "id": "75ce2fc0",
   "metadata": {},
   "source": [
    "## Table of Content"
   ]
  },
  {
   "cell_type": "markdown",
   "id": "60366988",
   "metadata": {},
   "source": [
    "## Introduction"
   ]
  },
  {
   "cell_type": "markdown",
   "id": "7adcf4b0",
   "metadata": {},
   "source": [
    "Sweetviz is an open-source Python library that generates beautiful, high-density visualizations to kickstart EDA (Exploratory Data Analysis) with just two lines of code. Output is a fully self-contained HTML application.\n",
    "\n",
    "The system is built around quickly visualizing target values and comparing datasets. Its goal is to help quick analysis of target characteristics, training vs testing data, and other such data characterization tasks."
   ]
  },
  {
   "cell_type": "markdown",
   "id": "13b7b308",
   "metadata": {},
   "source": [
    "## Features"
   ]
  },
  {
   "cell_type": "markdown",
   "id": "a53a25c8",
   "metadata": {},
   "source": [
    "- Target analysis\n",
    "    - Shows how a target value (e.g. \"Survived\" in the Titanic dataset) relates to other features\n",
    "- Visualize and compare\n",
    "    - Distinct datasets (e.g. training vs test data)\n",
    "    - Intra-set characteristics (e.g. male versus female)\n",
    "- Mixed-type associations\n",
    "    - Sweetviz integrates associations for numerical (Pearson's correlation), categorical (uncertainty coefficient) and categorical-numerical (correlation ratio) datatypes seamlessly, to provide maximum information for all data types.\n",
    "- Type inference\n",
    "    - Automatically detects numerical, categorical and text features, with optional manual overrides\n",
    "- Summary information\n",
    "    - Type, unique values, missing values, duplicate rows, most frequent values\n",
    "    - Numerical analysis:\n",
    "        - min/max/range, quartiles, mean, mode, standard deviation, sum, median absolute deviation, coefficient of variation, kurtosis, skewness"
   ]
  },
  {
   "cell_type": "markdown",
   "id": "51550c96",
   "metadata": {},
   "source": [
    "## Installation"
   ]
  },
  {
   "cell_type": "markdown",
   "id": "42c847ef",
   "metadata": {},
   "source": [
    "The best way to install sweetviz (other than from source) is to use pip:"
   ]
  },
  {
   "cell_type": "code",
   "execution_count": 2,
   "id": "b15a53db",
   "metadata": {
    "vscode": {
     "languageId": "powershell"
    }
   },
   "outputs": [
    {
     "name": "stdout",
     "output_type": "stream",
     "text": [
      "Collecting sweetviz\n",
      "  Downloading sweetviz-2.3.1-py3-none-any.whl.metadata (24 kB)\n",
      "Requirement already satisfied: pandas!=1.0.0,!=1.0.1,!=1.0.2,>=0.25.3 in c:\\users\\thien408\\miniconda3\\envs\\lab1\\lib\\site-packages (from sweetviz) (2.3.2)\n",
      "Requirement already satisfied: numpy>=1.16.0 in c:\\users\\thien408\\miniconda3\\envs\\lab1\\lib\\site-packages (from sweetviz) (2.3.3)\n",
      "Requirement already satisfied: matplotlib>=3.1.3 in c:\\users\\thien408\\miniconda3\\envs\\lab1\\lib\\site-packages (from sweetviz) (3.10.6)\n",
      "Collecting tqdm>=4.43.0 (from sweetviz)\n",
      "  Downloading tqdm-4.67.1-py3-none-any.whl.metadata (57 kB)\n",
      "Requirement already satisfied: scipy>=1.3.2 in c:\\users\\thien408\\miniconda3\\envs\\lab1\\lib\\site-packages (from sweetviz) (1.16.1)\n",
      "Requirement already satisfied: jinja2>=2.11.1 in c:\\users\\thien408\\miniconda3\\envs\\lab1\\lib\\site-packages (from sweetviz) (3.1.6)\n",
      "Collecting importlib-resources>=1.2.0 (from sweetviz)\n",
      "  Downloading importlib_resources-6.5.2-py3-none-any.whl.metadata (3.9 kB)\n",
      "Requirement already satisfied: MarkupSafe>=2.0 in c:\\users\\thien408\\miniconda3\\envs\\lab1\\lib\\site-packages (from jinja2>=2.11.1->sweetviz) (3.0.2)\n",
      "Requirement already satisfied: contourpy>=1.0.1 in c:\\users\\thien408\\miniconda3\\envs\\lab1\\lib\\site-packages (from matplotlib>=3.1.3->sweetviz) (1.3.1)\n",
      "Requirement already satisfied: cycler>=0.10 in c:\\users\\thien408\\miniconda3\\envs\\lab1\\lib\\site-packages (from matplotlib>=3.1.3->sweetviz) (0.11.0)\n",
      "Requirement already satisfied: fonttools>=4.22.0 in c:\\users\\thien408\\miniconda3\\envs\\lab1\\lib\\site-packages (from matplotlib>=3.1.3->sweetviz) (4.55.3)\n",
      "Requirement already satisfied: kiwisolver>=1.3.1 in c:\\users\\thien408\\miniconda3\\envs\\lab1\\lib\\site-packages (from matplotlib>=3.1.3->sweetviz) (1.4.8)\n",
      "Requirement already satisfied: packaging>=20.0 in c:\\users\\thien408\\miniconda3\\envs\\lab1\\lib\\site-packages (from matplotlib>=3.1.3->sweetviz) (25.0)\n",
      "Requirement already satisfied: pillow>=8 in c:\\users\\thien408\\miniconda3\\envs\\lab1\\lib\\site-packages (from matplotlib>=3.1.3->sweetviz) (11.3.0)\n",
      "Requirement already satisfied: pyparsing>=2.3.1 in c:\\users\\thien408\\miniconda3\\envs\\lab1\\lib\\site-packages (from matplotlib>=3.1.3->sweetviz) (3.2.0)\n",
      "Requirement already satisfied: python-dateutil>=2.7 in c:\\users\\thien408\\miniconda3\\envs\\lab1\\lib\\site-packages (from matplotlib>=3.1.3->sweetviz) (2.9.0.post0)\n",
      "Requirement already satisfied: pytz>=2020.1 in c:\\users\\thien408\\miniconda3\\envs\\lab1\\lib\\site-packages (from pandas!=1.0.0,!=1.0.1,!=1.0.2,>=0.25.3->sweetviz) (2025.2)\n",
      "Requirement already satisfied: tzdata>=2022.7 in c:\\users\\thien408\\miniconda3\\envs\\lab1\\lib\\site-packages (from pandas!=1.0.0,!=1.0.1,!=1.0.2,>=0.25.3->sweetviz) (2025.2)\n",
      "Requirement already satisfied: six>=1.5 in c:\\users\\thien408\\miniconda3\\envs\\lab1\\lib\\site-packages (from python-dateutil>=2.7->matplotlib>=3.1.3->sweetviz) (1.17.0)\n",
      "Requirement already satisfied: colorama in c:\\users\\thien408\\miniconda3\\envs\\lab1\\lib\\site-packages (from tqdm>=4.43.0->sweetviz) (0.4.6)\n",
      "Downloading sweetviz-2.3.1-py3-none-any.whl (15.1 MB)\n",
      "   ---------------------------------------- 0.0/15.1 MB ? eta -:--:--\n",
      "   ---------------------------------------- 0.0/15.1 MB ? eta -:--:--\n",
      "    --------------------------------------- 0.3/15.1 MB ? eta -:--:--\n",
      "    --------------------------------------- 0.3/15.1 MB ? eta -:--:--\n",
      "    --------------------------------------- 0.3/15.1 MB ? eta -:--:--\n",
      "   -- ------------------------------------- 0.8/15.1 MB 700.0 kB/s eta 0:00:21\n",
      "   -- ------------------------------------- 1.0/15.1 MB 848.0 kB/s eta 0:00:17\n",
      "   --- ------------------------------------ 1.3/15.1 MB 927.5 kB/s eta 0:00:15\n",
      "   ---- ----------------------------------- 1.6/15.1 MB 988.8 kB/s eta 0:00:14\n",
      "   ---- ----------------------------------- 1.8/15.1 MB 1.1 MB/s eta 0:00:13\n",
      "   ----- ---------------------------------- 2.1/15.1 MB 1.1 MB/s eta 0:00:13\n",
      "   ----- ---------------------------------- 2.1/15.1 MB 1.1 MB/s eta 0:00:13\n",
      "   ------ --------------------------------- 2.4/15.1 MB 945.5 kB/s eta 0:00:14\n",
      "   ------ --------------------------------- 2.6/15.1 MB 991.4 kB/s eta 0:00:13\n",
      "   ------- -------------------------------- 2.9/15.1 MB 1.0 MB/s eta 0:00:13\n",
      "   -------- ------------------------------- 3.1/15.1 MB 1.0 MB/s eta 0:00:12\n",
      "   --------- ------------------------------ 3.4/15.1 MB 1.1 MB/s eta 0:00:11\n",
      "   ---------- ----------------------------- 3.9/15.1 MB 1.1 MB/s eta 0:00:11\n",
      "   ----------- ---------------------------- 4.2/15.1 MB 1.1 MB/s eta 0:00:10\n",
      "   ----------- ---------------------------- 4.5/15.1 MB 1.1 MB/s eta 0:00:10\n",
      "   ------------ --------------------------- 4.7/15.1 MB 1.1 MB/s eta 0:00:10\n",
      "   ------------- -------------------------- 5.0/15.1 MB 1.1 MB/s eta 0:00:10\n",
      "   ------------- -------------------------- 5.0/15.1 MB 1.1 MB/s eta 0:00:10\n",
      "   ------------- -------------------------- 5.2/15.1 MB 1.1 MB/s eta 0:00:09\n",
      "   ------------- -------------------------- 5.2/15.1 MB 1.1 MB/s eta 0:00:09\n",
      "   --------------- ------------------------ 5.8/15.1 MB 1.1 MB/s eta 0:00:09\n",
      "   --------------- ------------------------ 5.8/15.1 MB 1.1 MB/s eta 0:00:09\n",
      "   ---------------- ----------------------- 6.3/15.1 MB 1.1 MB/s eta 0:00:08\n",
      "   ----------------- ---------------------- 6.6/15.1 MB 1.1 MB/s eta 0:00:08\n",
      "   ------------------ --------------------- 6.8/15.1 MB 1.1 MB/s eta 0:00:08\n",
      "   ------------------ --------------------- 6.8/15.1 MB 1.1 MB/s eta 0:00:08\n",
      "   ------------------- -------------------- 7.3/15.1 MB 1.1 MB/s eta 0:00:07\n",
      "   ------------------- -------------------- 7.3/15.1 MB 1.1 MB/s eta 0:00:07\n",
      "   -------------------- ------------------- 7.6/15.1 MB 1.1 MB/s eta 0:00:07\n",
      "   -------------------- ------------------- 7.9/15.1 MB 1.1 MB/s eta 0:00:07\n",
      "   -------------------- ------------------- 7.9/15.1 MB 1.1 MB/s eta 0:00:07\n",
      "   -------------------- ------------------- 7.9/15.1 MB 1.1 MB/s eta 0:00:07\n",
      "   ---------------------- ----------------- 8.4/15.1 MB 1.1 MB/s eta 0:00:07\n",
      "   ---------------------- ----------------- 8.4/15.1 MB 1.1 MB/s eta 0:00:07\n",
      "   ---------------------- ----------------- 8.7/15.1 MB 1.1 MB/s eta 0:00:07\n",
      "   ----------------------- ---------------- 8.9/15.1 MB 1.1 MB/s eta 0:00:06\n",
      "   ------------------------ --------------- 9.2/15.1 MB 1.1 MB/s eta 0:00:06\n",
      "   ------------------------ --------------- 9.2/15.1 MB 1.1 MB/s eta 0:00:06\n",
      "   ------------------------ --------------- 9.4/15.1 MB 1.1 MB/s eta 0:00:06\n",
      "   ------------------------- -------------- 9.7/15.1 MB 1.0 MB/s eta 0:00:06\n",
      "   ------------------------- -------------- 9.7/15.1 MB 1.0 MB/s eta 0:00:06\n",
      "   -------------------------- ------------- 10.0/15.1 MB 1.0 MB/s eta 0:00:06\n",
      "   -------------------------- ------------- 10.0/15.1 MB 1.0 MB/s eta 0:00:06\n",
      "   --------------------------- ------------ 10.2/15.1 MB 1.0 MB/s eta 0:00:05\n",
      "   --------------------------- ------------ 10.5/15.1 MB 1.0 MB/s eta 0:00:05\n",
      "   ---------------------------- ----------- 10.7/15.1 MB 1.0 MB/s eta 0:00:05\n",
      "   ----------------------------- ---------- 11.0/15.1 MB 1.0 MB/s eta 0:00:05\n",
      "   ----------------------------- ---------- 11.0/15.1 MB 1.0 MB/s eta 0:00:05\n",
      "   ----------------------------- ---------- 11.3/15.1 MB 1.0 MB/s eta 0:00:04\n",
      "   ------------------------------ --------- 11.5/15.1 MB 1.0 MB/s eta 0:00:04\n",
      "   ------------------------------ --------- 11.5/15.1 MB 1.0 MB/s eta 0:00:04\n",
      "   ------------------------------- -------- 11.8/15.1 MB 1.0 MB/s eta 0:00:04\n",
      "   ------------------------------- -------- 12.1/15.1 MB 1.0 MB/s eta 0:00:04\n",
      "   -------------------------------- ------- 12.3/15.1 MB 1.0 MB/s eta 0:00:03\n",
      "   --------------------------------- ------ 12.6/15.1 MB 1.0 MB/s eta 0:00:03\n",
      "   --------------------------------- ------ 12.8/15.1 MB 1.0 MB/s eta 0:00:03\n",
      "   --------------------------------- ------ 12.8/15.1 MB 1.0 MB/s eta 0:00:03\n",
      "   ---------------------------------- ----- 13.1/15.1 MB 1.0 MB/s eta 0:00:02\n",
      "   ----------------------------------- ---- 13.4/15.1 MB 1.0 MB/s eta 0:00:02\n",
      "   ------------------------------------ --- 13.6/15.1 MB 1.0 MB/s eta 0:00:02\n",
      "   ------------------------------------ --- 13.6/15.1 MB 1.0 MB/s eta 0:00:02\n",
      "   ------------------------------------ --- 13.9/15.1 MB 999.5 kB/s eta 0:00:02\n",
      "   ------------------------------------- -- 14.2/15.1 MB 999.8 kB/s eta 0:00:01\n",
      "   ------------------------------------- -- 14.2/15.1 MB 999.8 kB/s eta 0:00:01\n",
      "   ------------------------------------- -- 14.2/15.1 MB 999.8 kB/s eta 0:00:01\n",
      "   -------------------------------------- - 14.4/15.1 MB 971.1 kB/s eta 0:00:01\n",
      "   -------------------------------------- - 14.7/15.1 MB 971.3 kB/s eta 0:00:01\n",
      "   -------------------------------------- - 14.7/15.1 MB 971.3 kB/s eta 0:00:01\n",
      "   ---------------------------------------  14.9/15.1 MB 971.5 kB/s eta 0:00:01\n",
      "   ---------------------------------------- 15.1/15.1 MB 968.7 kB/s  0:00:15\n",
      "Downloading importlib_resources-6.5.2-py3-none-any.whl (37 kB)\n",
      "Downloading tqdm-4.67.1-py3-none-any.whl (78 kB)\n",
      "Installing collected packages: tqdm, importlib-resources, sweetviz\n",
      "\n",
      "   ---------------------------------------- 0/3 [tqdm]\n",
      "   ------------- -------------------------- 1/3 [importlib-resources]\n",
      "   -------------------------- ------------- 2/3 [sweetviz]\n",
      "   -------------------------- ------------- 2/3 [sweetviz]\n",
      "   ---------------------------------------- 3/3 [sweetviz]\n",
      "\n",
      "Successfully installed importlib-resources-6.5.2 sweetviz-2.3.1 tqdm-4.67.1\n",
      "Note: you may need to restart the kernel to use updated packages.\n"
     ]
    }
   ],
   "source": [
    "pip install sweetviz"
   ]
  },
  {
   "cell_type": "markdown",
   "id": "52347e5d",
   "metadata": {},
   "source": [
    "## Basic usage"
   ]
  },
  {
   "cell_type": "markdown",
   "id": "ecd1d63c",
   "metadata": {},
   "source": [
    "Creating a report is a quick 2-line process:\n",
    "\n",
    "1. Create a `DataframeReport` object using one of: `analyze()`, `compare()` or `compare_intra()`\n",
    "2. Use a `show_xxx()` function to render the report. You can now use either **html** or **notebook** report options, as well as scaling"
   ]
  },
  {
   "cell_type": "markdown",
   "id": "09b218db",
   "metadata": {},
   "source": [
    "## Import necessary libraries"
   ]
  },
  {
   "cell_type": "code",
   "execution_count": 1,
   "id": "b5ca5cfe",
   "metadata": {},
   "outputs": [],
   "source": [
    "import pandas as pd\n",
    "import sweetviz as sv"
   ]
  },
  {
   "cell_type": "markdown",
   "id": "782f161c",
   "metadata": {},
   "source": [
    "## Demo"
   ]
  },
  {
   "cell_type": "markdown",
   "id": "3c176990",
   "metadata": {},
   "source": [
    "We will apply `sweetviz` library on analyzing the Marketing Campaign dataset in order to get use to this technology\n",
    "\n",
    "Customer Personality Analysis is a detailed analysis of a company’s ideal customers. It helps a business to better understand its customers and makes it easier for them to modify products according to the specific needs, behaviors and concerns of different types of customers.\n",
    "\n",
    "Customer personality analysis helps a business to modify its product based on its target customers from different types of customer segments. For example, instead of spending money to market a new product to every customer in the company’s database, a company can analyze which customer segment is most likely to buy the product and then market the product only on that particular segment.\n",
    "\n"
   ]
  },
  {
   "cell_type": "markdown",
   "id": "68fff9a6",
   "metadata": {},
   "source": [
    "### Load dataset"
   ]
  },
  {
   "cell_type": "code",
   "execution_count": 9,
   "id": "591a43dd",
   "metadata": {},
   "outputs": [
    {
     "data": {
      "text/html": [
       "<div>\n",
       "<style scoped>\n",
       "    .dataframe tbody tr th:only-of-type {\n",
       "        vertical-align: middle;\n",
       "    }\n",
       "\n",
       "    .dataframe tbody tr th {\n",
       "        vertical-align: top;\n",
       "    }\n",
       "\n",
       "    .dataframe thead th {\n",
       "        text-align: right;\n",
       "    }\n",
       "</style>\n",
       "<table border=\"1\" class=\"dataframe\">\n",
       "  <thead>\n",
       "    <tr style=\"text-align: right;\">\n",
       "      <th></th>\n",
       "      <th>ID</th>\n",
       "      <th>Year_Birth</th>\n",
       "      <th>Education</th>\n",
       "      <th>Marital_Status</th>\n",
       "      <th>Income</th>\n",
       "      <th>Kidhome</th>\n",
       "      <th>Teenhome</th>\n",
       "      <th>Dt_Customer</th>\n",
       "      <th>Recency</th>\n",
       "      <th>MntWines</th>\n",
       "      <th>...</th>\n",
       "      <th>NumWebVisitsMonth</th>\n",
       "      <th>AcceptedCmp3</th>\n",
       "      <th>AcceptedCmp4</th>\n",
       "      <th>AcceptedCmp5</th>\n",
       "      <th>AcceptedCmp1</th>\n",
       "      <th>AcceptedCmp2</th>\n",
       "      <th>Complain</th>\n",
       "      <th>Z_CostContact</th>\n",
       "      <th>Z_Revenue</th>\n",
       "      <th>Response</th>\n",
       "    </tr>\n",
       "  </thead>\n",
       "  <tbody>\n",
       "    <tr>\n",
       "      <th>0</th>\n",
       "      <td>5524</td>\n",
       "      <td>1957</td>\n",
       "      <td>Graduation</td>\n",
       "      <td>Single</td>\n",
       "      <td>58138.0</td>\n",
       "      <td>0</td>\n",
       "      <td>0</td>\n",
       "      <td>04-09-2012</td>\n",
       "      <td>58</td>\n",
       "      <td>635</td>\n",
       "      <td>...</td>\n",
       "      <td>7</td>\n",
       "      <td>0</td>\n",
       "      <td>0</td>\n",
       "      <td>0</td>\n",
       "      <td>0</td>\n",
       "      <td>0</td>\n",
       "      <td>0</td>\n",
       "      <td>3</td>\n",
       "      <td>11</td>\n",
       "      <td>1</td>\n",
       "    </tr>\n",
       "    <tr>\n",
       "      <th>1</th>\n",
       "      <td>2174</td>\n",
       "      <td>1954</td>\n",
       "      <td>Graduation</td>\n",
       "      <td>Single</td>\n",
       "      <td>46344.0</td>\n",
       "      <td>1</td>\n",
       "      <td>1</td>\n",
       "      <td>08-03-2014</td>\n",
       "      <td>38</td>\n",
       "      <td>11</td>\n",
       "      <td>...</td>\n",
       "      <td>5</td>\n",
       "      <td>0</td>\n",
       "      <td>0</td>\n",
       "      <td>0</td>\n",
       "      <td>0</td>\n",
       "      <td>0</td>\n",
       "      <td>0</td>\n",
       "      <td>3</td>\n",
       "      <td>11</td>\n",
       "      <td>0</td>\n",
       "    </tr>\n",
       "    <tr>\n",
       "      <th>2</th>\n",
       "      <td>4141</td>\n",
       "      <td>1965</td>\n",
       "      <td>Graduation</td>\n",
       "      <td>Together</td>\n",
       "      <td>71613.0</td>\n",
       "      <td>0</td>\n",
       "      <td>0</td>\n",
       "      <td>21-08-2013</td>\n",
       "      <td>26</td>\n",
       "      <td>426</td>\n",
       "      <td>...</td>\n",
       "      <td>4</td>\n",
       "      <td>0</td>\n",
       "      <td>0</td>\n",
       "      <td>0</td>\n",
       "      <td>0</td>\n",
       "      <td>0</td>\n",
       "      <td>0</td>\n",
       "      <td>3</td>\n",
       "      <td>11</td>\n",
       "      <td>0</td>\n",
       "    </tr>\n",
       "    <tr>\n",
       "      <th>3</th>\n",
       "      <td>6182</td>\n",
       "      <td>1984</td>\n",
       "      <td>Graduation</td>\n",
       "      <td>Together</td>\n",
       "      <td>26646.0</td>\n",
       "      <td>1</td>\n",
       "      <td>0</td>\n",
       "      <td>10-02-2014</td>\n",
       "      <td>26</td>\n",
       "      <td>11</td>\n",
       "      <td>...</td>\n",
       "      <td>6</td>\n",
       "      <td>0</td>\n",
       "      <td>0</td>\n",
       "      <td>0</td>\n",
       "      <td>0</td>\n",
       "      <td>0</td>\n",
       "      <td>0</td>\n",
       "      <td>3</td>\n",
       "      <td>11</td>\n",
       "      <td>0</td>\n",
       "    </tr>\n",
       "    <tr>\n",
       "      <th>4</th>\n",
       "      <td>5324</td>\n",
       "      <td>1981</td>\n",
       "      <td>PhD</td>\n",
       "      <td>Married</td>\n",
       "      <td>58293.0</td>\n",
       "      <td>1</td>\n",
       "      <td>0</td>\n",
       "      <td>19-01-2014</td>\n",
       "      <td>94</td>\n",
       "      <td>173</td>\n",
       "      <td>...</td>\n",
       "      <td>5</td>\n",
       "      <td>0</td>\n",
       "      <td>0</td>\n",
       "      <td>0</td>\n",
       "      <td>0</td>\n",
       "      <td>0</td>\n",
       "      <td>0</td>\n",
       "      <td>3</td>\n",
       "      <td>11</td>\n",
       "      <td>0</td>\n",
       "    </tr>\n",
       "  </tbody>\n",
       "</table>\n",
       "<p>5 rows × 29 columns</p>\n",
       "</div>"
      ],
      "text/plain": [
       "     ID  Year_Birth   Education Marital_Status   Income  Kidhome  Teenhome  \\\n",
       "0  5524        1957  Graduation         Single  58138.0        0         0   \n",
       "1  2174        1954  Graduation         Single  46344.0        1         1   \n",
       "2  4141        1965  Graduation       Together  71613.0        0         0   \n",
       "3  6182        1984  Graduation       Together  26646.0        1         0   \n",
       "4  5324        1981         PhD        Married  58293.0        1         0   \n",
       "\n",
       "  Dt_Customer  Recency  MntWines  ...  NumWebVisitsMonth  AcceptedCmp3  \\\n",
       "0  04-09-2012       58       635  ...                  7             0   \n",
       "1  08-03-2014       38        11  ...                  5             0   \n",
       "2  21-08-2013       26       426  ...                  4             0   \n",
       "3  10-02-2014       26        11  ...                  6             0   \n",
       "4  19-01-2014       94       173  ...                  5             0   \n",
       "\n",
       "   AcceptedCmp4  AcceptedCmp5  AcceptedCmp1  AcceptedCmp2  Complain  \\\n",
       "0             0             0             0             0         0   \n",
       "1             0             0             0             0         0   \n",
       "2             0             0             0             0         0   \n",
       "3             0             0             0             0         0   \n",
       "4             0             0             0             0         0   \n",
       "\n",
       "   Z_CostContact  Z_Revenue  Response  \n",
       "0              3         11         1  \n",
       "1              3         11         0  \n",
       "2              3         11         0  \n",
       "3              3         11         0  \n",
       "4              3         11         0  \n",
       "\n",
       "[5 rows x 29 columns]"
      ]
     },
     "execution_count": 9,
     "metadata": {},
     "output_type": "execute_result"
    }
   ],
   "source": [
    "dataset = pd.read_csv(\"marketing_campaign.csv\", sep='\\t')\n",
    "df = dataset.copy()\n",
    "df.head()"
   ]
  },
  {
   "cell_type": "markdown",
   "id": "1bcea49b",
   "metadata": {},
   "source": [
    "Information about features and outcomes\n"
   ]
  },
  {
   "cell_type": "markdown",
   "id": "38f06093",
   "metadata": {},
   "source": [
    "# The end"
   ]
  }
 ],
 "metadata": {
  "kernelspec": {
   "display_name": "base",
   "language": "python",
   "name": "python3"
  },
  "language_info": {
   "codemirror_mode": {
    "name": "ipython",
    "version": 3
   },
   "file_extension": ".py",
   "mimetype": "text/x-python",
   "name": "python",
   "nbconvert_exporter": "python",
   "pygments_lexer": "ipython3",
   "version": "3.13.5"
  }
 },
 "nbformat": 4,
 "nbformat_minor": 5
}
