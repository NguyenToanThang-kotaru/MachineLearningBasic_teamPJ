{
 "cells": [
  {
   "cell_type": "markdown",
   "id": "b7e54df2",
   "metadata": {},
   "source": [
    "# Exploratory Data Analysis on Pima Indians Diabetes Dataset\n",
    "\n",
    "This notebook explores the Pima-indians-diabetes dataset."
   ]
  },
  {
   "cell_type": "markdown",
   "id": "bd818f56",
   "metadata": {},
   "source": [
    "## Overview"
   ]
  },
  {
   "cell_type": "markdown",
   "id": "5ac3aea6",
   "metadata": {},
   "source": [
    "Pima-indians-diabetes is a dataset about predicting the onset of diabetes mellitus based on certain diagnostic measurement.\n",
    ".Number of instances (rows): 768\n",
    ".Number of attributes (columns): 9 (8 features + 1 target label)"
   ]
  },
  {
   "cell_type": "code",
   "execution_count": 11,
   "id": "159a8c79",
   "metadata": {},
   "outputs": [
    {
     "name": "stdout",
     "output_type": "stream",
     "text": [
      "Shape of dataset:  (768, 9)\n",
      "This is the first 5 rows of the dataset: \n",
      "   Pregnancies  Glucose  BloodPressure  SkinThickness  Insulin   BMI  DiabetesPedigreeFunction  Age  Outcome\n",
      "0            6      148             72             35        0  33.6                     0.627   50        1\n",
      "1            1       85             66             29        0  26.6                     0.351   31        0\n",
      "2            8      183             64              0        0  23.3                     0.672   32        1\n",
      "3            1       89             66             23       94  28.1                     0.167   21        0\n",
      "4            0      137             40             35      168  43.1                     2.288   33        1\n"
     ]
    }
   ],
   "source": [
    "import numpy as np\n",
    "import pandas as pd\n",
    "\n",
    "columns = [\"Pregnancies\", \"Glucose\", \"BloodPressure\", \"SkinThickness\",\n",
    "           \"Insulin\", \"BMI\", \"DiabetesPedigreeFunction\", \"Age\", \"Outcome\"]\n",
    "\n",
    "df = pd.read_csv('pima-indians-diabetes.data.csv', names=columns)\n",
    "\n",
    "pd.set_option('display.max_columns', None)\n",
    "pd.set_option('display.width', 1000)\n",
    "\n",
    "print(\"Shape of dataset: \",df.shape)\n",
    "print(\"This is the first 5 rows of the dataset: \")\n",
    "print(df.head())"
   ]
  },
  {
   "cell_type": "markdown",
   "id": "41580a70",
   "metadata": {},
   "source": [
    "### Meaning of columns\n",
    "\n",
    "- **Pregnancies**: Number of times pregnant  \n",
    "\n",
    "- **Glucose**: Plasma glucose concentration after 2 hours in an oral glucose tolerance test  \n",
    "\n",
    "- **BloodPressure**: Diastolic blood pressure (mm Hg)  \n",
    "\n",
    "- **SkinThickness**: Triceps skin fold thickness (mm)  \n",
    "\n",
    "- **Insulin**: 2-Hour serum insulin (mu U/ml)  \n",
    "\n",
    "- **BMI**: Body mass index (weight in kg/(height in m)^2)  \n",
    "\n",
    "- **DiabetesPedigreeFunction**: Score representing likelihood of diabetes based on family history  \n",
    "\n",
    "- **Age**: Age of the patient (years)  \n",
    "\n",
    "- **Outcome**: Class variable (0 = no diabetes, 1 = diabetes)  \n"
   ]
  },
  {
   "cell_type": "markdown",
   "id": "27c5ead7",
   "metadata": {},
   "source": [
    "## Identification of variables and data types\n",
    "\n",
    "The dataset contains 768 rows and 9 columns.  \n",
    "From `df.info()`, we can see that all columns are numeric (7 are `int64`, 2 are `float64`), and there are no missing values reported.  \n",
    "\n",
    "- **Predictor variables (8 numeric features):** Pregnancies, Glucose, BloodPressure, SkinThickness, Insulin, BMI, DiabetesPedigreeFunction, Age.  \n",
    "- **Target variable (1 binary categorical):** Outcome (0 = no diabetes, 1 = diabetes).  \n",
    "\n",
    "Thus, the dataset consists mainly of numerical variables, with the target variable being binary."
   ]
  },
  {
   "cell_type": "code",
   "execution_count": 12,
   "id": "5a9472e4",
   "metadata": {},
   "outputs": [
    {
     "name": "stdout",
     "output_type": "stream",
     "text": [
      "<class 'pandas.core.frame.DataFrame'>\n",
      "RangeIndex: 768 entries, 0 to 767\n",
      "Data columns (total 9 columns):\n",
      " #   Column                    Non-Null Count  Dtype  \n",
      "---  ------                    --------------  -----  \n",
      " 0   Pregnancies               768 non-null    int64  \n",
      " 1   Glucose                   768 non-null    int64  \n",
      " 2   BloodPressure             768 non-null    int64  \n",
      " 3   SkinThickness             768 non-null    int64  \n",
      " 4   Insulin                   768 non-null    int64  \n",
      " 5   BMI                       768 non-null    float64\n",
      " 6   DiabetesPedigreeFunction  768 non-null    float64\n",
      " 7   Age                       768 non-null    int64  \n",
      " 8   Outcome                   768 non-null    int64  \n",
      "dtypes: float64(2), int64(7)\n",
      "memory usage: 54.1 KB\n"
     ]
    }
   ],
   "source": [
    "df.info()"
   ]
  }
 ],
 "metadata": {
  "kernelspec": {
   "display_name": "base",
   "language": "python",
   "name": "python3"
  },
  "language_info": {
   "codemirror_mode": {
    "name": "ipython",
    "version": 3
   },
   "file_extension": ".py",
   "mimetype": "text/x-python",
   "name": "python",
   "nbconvert_exporter": "python",
   "pygments_lexer": "ipython3",
   "version": "3.13.5"
  }
 },
 "nbformat": 4,
 "nbformat_minor": 5
}
