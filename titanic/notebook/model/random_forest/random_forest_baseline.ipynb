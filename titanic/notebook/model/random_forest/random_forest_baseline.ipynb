{
 "cells": [
  {
   "cell_type": "markdown",
   "id": "f21364fd",
   "metadata": {},
   "source": [
    "# Titanic - Random Forest Classifier Baseline"
   ]
  },
  {
   "cell_type": "code",
   "execution_count": null,
   "id": "397ff08b",
   "metadata": {},
   "outputs": [
    {
     "name": "stdout",
     "output_type": "stream",
     "text": [
      "\n",
      "---- Fold 1 ----\n",
      "              precision    recall  f1-score   support\n",
      "\n",
      "           0       0.85      0.87      0.86       105\n",
      "           1       0.81      0.78      0.79        74\n",
      "\n",
      "    accuracy                           0.83       179\n",
      "   macro avg       0.83      0.83      0.83       179\n",
      "weighted avg       0.83      0.83      0.83       179\n",
      "\n",
      "\n",
      "---- Fold 2 ----\n",
      "              precision    recall  f1-score   support\n",
      "\n",
      "           0       0.81      0.94      0.87       111\n",
      "           1       0.86      0.64      0.74        67\n",
      "\n",
      "    accuracy                           0.83       178\n",
      "   macro avg       0.84      0.79      0.80       178\n",
      "weighted avg       0.83      0.83      0.82       178\n",
      "\n",
      "\n",
      "---- Fold 3 ----\n",
      "              precision    recall  f1-score   support\n",
      "\n",
      "           0       0.84      0.90      0.87       108\n",
      "           1       0.83      0.74      0.78        70\n",
      "\n",
      "    accuracy                           0.84       178\n",
      "   macro avg       0.83      0.82      0.83       178\n",
      "weighted avg       0.84      0.84      0.84       178\n",
      "\n",
      "\n",
      "---- Fold 4 ----\n",
      "              precision    recall  f1-score   support\n",
      "\n",
      "           0       0.83      0.90      0.86       112\n",
      "           1       0.80      0.68      0.74        66\n",
      "\n",
      "    accuracy                           0.82       178\n",
      "   macro avg       0.82      0.79      0.80       178\n",
      "weighted avg       0.82      0.82      0.82       178\n",
      "\n",
      "\n",
      "---- Fold 5 ----\n",
      "              precision    recall  f1-score   support\n",
      "\n",
      "           0       0.84      0.91      0.87       113\n",
      "           1       0.82      0.69      0.75        65\n",
      "\n",
      "    accuracy                           0.83       178\n",
      "   macro avg       0.83      0.80      0.81       178\n",
      "weighted avg       0.83      0.83      0.83       178\n",
      "\n"
     ]
    },
    {
     "ename": "",
     "evalue": "",
     "output_type": "error",
     "traceback": [
      "\u001b[1;31mThe Kernel crashed while executing code in the current cell or a previous cell. \n",
      "\u001b[1;31mPlease review the code in the cell(s) to identify a possible cause of the failure. \n",
      "\u001b[1;31mClick <a href='https://aka.ms/vscodeJupyterKernelCrash'>here</a> for more info. \n",
      "\u001b[1;31mView Jupyter <a href='command:jupyter.viewOutput'>log</a> for further details."
     ]
    }
   ],
   "source": [
    "from os.path import join\n",
    "import pandas as pd\n",
    "from sklearn.model_selection import KFold\n",
    "from sklearn.ensemble import RandomForestClassifier\n",
    "from sklearn.metrics import classification_report\n",
    "\n",
    "# Load dữ liệu\n",
    "path_dir = join(\"..\", \"..\", \"..\")\n",
    "input_dir = join(path_dir, \"data\", \"feature_engineered\", \"baseline\")\n",
    "\n",
    "df = pd.read_csv(join(input_dir, \"baseline_engineered_train.csv\"))\n",
    "\n",
    "X = df.drop(['Survived'], axis=1)\n",
    "y = df['Survived']\n",
    "\n",
    "# Thiết lập KFold với 5 phần chia\n",
    "tkf = KFold(n_splits=5, shuffle=True, random_state=42)\n",
    "\n",
    "# Lặp qua từng fold\n",
    "fold_index = 1\n",
    "for train_index, val_index in tkf.split(X):\n",
    "    print(f\"\\n---- Fold {fold_index} ----\")\n",
    "    X_train, X_val = X.iloc[train_index], X.iloc[val_index]\n",
    "    y_train, y_val = y.iloc[train_index], y.iloc[val_index]\n",
    "\n",
    "    # Khởi tạo và huấn luyện mô hình\n",
    "    model = RandomForestClassifier(random_state=42)\n",
    "    model.fit(X_train, y_train)\n",
    "\n",
    "    # Dự đoán và in báo cáo kết quả\n",
    "    y_pred = model.predict(X_val)\n",
    "    print(classification_report(y_val, y_pred))\n",
    "\n",
    "    fold_index += 1\n",
    "    \n",
    "\n"
   ]
  },
  {
   "cell_type": "markdown",
   "id": "dba212e9",
   "metadata": {},
   "source": [
    "# The end"
   ]
  }
 ],
 "metadata": {
  "kernelspec": {
   "display_name": "lab1",
   "language": "python",
   "name": "python3"
  },
  "language_info": {
   "codemirror_mode": {
    "name": "ipython",
    "version": 3
   },
   "file_extension": ".py",
   "mimetype": "text/x-python",
   "name": "python",
   "nbconvert_exporter": "python",
   "pygments_lexer": "ipython3",
   "version": "3.13.7"
  }
 },
 "nbformat": 4,
 "nbformat_minor": 5
}
