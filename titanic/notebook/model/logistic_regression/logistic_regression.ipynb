{
 "cells": [
  {
   "cell_type": "markdown",
   "id": "f21364fd",
   "metadata": {},
   "source": [
    "# Titanic - Logistic Regression Baseline"
   ]
  },
  {
   "cell_type": "markdown",
   "id": "f1cc50a4",
   "metadata": {},
   "source": [
    "## Trainning model"
   ]
  },
  {
   "cell_type": "code",
   "execution_count": 3,
   "id": "397ff08b",
   "metadata": {},
   "outputs": [
    {
     "name": "stdout",
     "output_type": "stream",
     "text": [
      "Fold 1 - Acc: 0.7933 | F1: 0.7338\n",
      "Fold 2 - Acc: 0.7528 | F1: 0.6333\n",
      "Fold 3 - Acc: 0.8427 | F1: 0.7879\n",
      "Fold 4 - Acc: 0.7640 | F1: 0.6557\n",
      "Fold 5 - Acc: 0.8315 | F1: 0.7541\n",
      "\n",
      "==== Mean metrics ====\n",
      "Accuracy: 0.7969\n",
      "Precision: 0.7723\n",
      "Recall: 0.6626\n",
      "F1-score: 0.7130\n",
      "Std (Accuracy): 0.0356\n"
     ]
    }
   ],
   "source": [
    "import os\n",
    "import sys\n",
    "import joblib\n",
    "import pandas as pd\n",
    "import numpy as np\n",
    "from os.path import join\n",
    "from sklearn.linear_model import LogisticRegression\n",
    "\n",
    "# === Load dữ liệu ===\n",
    "path_dir = join(\"..\", \"..\", \"..\")\n",
    "input_dir = join(path_dir, \"data\", \"feature_engineered\", \"ageAndPclass\")\n",
    "\n",
    "df_train = pd.read_csv(join(input_dir, \"ageAndPclass_engineered_train.csv\"))\n",
    "df_test = pd.read_csv(join(input_dir, \"ageAndPclass_engineered_test.csv\"))\n",
    "\n",
    "X = df_train.drop(['Survived'], axis=1)\n",
    "y = df_train['Survived']\n",
    "\n",
    "# === Chuẩn hóa dữ liệu (giúp Logistic Regression hội tụ ổn định hơn) ===\n",
    "from sklearn.preprocessing import StandardScaler\n",
    "scaler = StandardScaler()\n",
    "X = scaler.fit_transform(X)\n",
    "X_test_scaled = scaler.transform(df_test.drop(columns=['Survived'], errors='ignore'))\n",
    "\n",
    "# === KFold ===\n",
    "from sklearn.model_selection import KFold\n",
    "from sklearn.metrics import accuracy_score, precision_score, recall_score, f1_score\n",
    "\n",
    "kf = KFold(n_splits=5, shuffle=True, random_state=42)\n",
    "accuracies, precisions, recalls, f1s = [], [], [], []\n",
    "\n",
    "fold_index = 1\n",
    "for train_index, val_index in kf.split(X):\n",
    "    X_train, X_val = X[train_index], X[val_index]\n",
    "    y_train, y_val = y.iloc[train_index], y.iloc[val_index]\n",
    "\n",
    "    # === Mô hình Logistic Regression ===\n",
    "    model = LogisticRegression(\n",
    "        max_iter=1000,\n",
    "        solver='lbfgs',\n",
    "        random_state=42\n",
    "    )\n",
    "\n",
    "    model.fit(X_train, y_train)\n",
    "    y_pred = model.predict(X_val)\n",
    "\n",
    "    # === Metrics ===\n",
    "    acc = accuracy_score(y_val, y_pred)\n",
    "    prec = precision_score(y_val, y_pred)\n",
    "    rec = recall_score(y_val, y_pred)\n",
    "    f1 = f1_score(y_val, y_pred)\n",
    "\n",
    "    accuracies.append(acc)\n",
    "    precisions.append(prec)\n",
    "    recalls.append(rec)\n",
    "    f1s.append(f1)\n",
    "\n",
    "    print(f\"Fold {fold_index} - Acc: {acc:.4f} | F1: {f1:.4f}\")\n",
    "    fold_index += 1\n",
    "\n",
    "# === Mean & Std ===\n",
    "mean_acc = np.mean(accuracies)\n",
    "mean_prec = np.mean(precisions)\n",
    "mean_rec = np.mean(recalls)\n",
    "mean_f1 = np.mean(f1s)\n",
    "std_acc = np.std(accuracies)\n",
    "\n",
    "print(\"\\n==== Mean metrics ====\")\n",
    "print(f\"Accuracy: {mean_acc:.4f}\")\n",
    "print(f\"Precision: {mean_prec:.4f}\")\n",
    "print(f\"Recall: {mean_rec:.4f}\")\n",
    "print(f\"F1-score: {mean_f1:.4f}\")\n",
    "print(f\"Std (Accuracy): {std_acc:.4f}\")\n",
    "\n"
   ]
  },
  {
   "cell_type": "markdown",
   "id": "ea27cf19",
   "metadata": {},
   "source": [
    "## Save model into logger and dump model to pickle file"
   ]
  },
  {
   "cell_type": "code",
   "execution_count": null,
   "id": "f26d699f",
   "metadata": {},
   "outputs": [
    {
     "name": "stdout",
     "output_type": "stream",
     "text": [
      "Fold 1 - Acc: 0.7933 | F1: 0.7338\n",
      "Fold 2 - Acc: 0.7528 | F1: 0.6333\n",
      "Fold 3 - Acc: 0.8427 | F1: 0.7879\n",
      "Fold 4 - Acc: 0.7640 | F1: 0.6557\n",
      "Fold 5 - Acc: 0.8315 | F1: 0.7541\n",
      "\n",
      "==== Mean metrics ====\n",
      "Accuracy: 0.7969\n",
      "Precision: 0.7723\n",
      "Recall: 0.6626\n",
      "F1-score: 0.7130\n",
      "Std (Accuracy): 0.0356\n",
      "Logged experiment to ..\\..\\..\\log\\experiment_log.csv\n",
      "✅ Model saved to ..\\..\\..\\notebook\\model\\logistic_regression\\Model Pickles\\lr_ageAndPclass.pkl\n",
      "📤 Submission file saved to ..\\..\\..\\notebook\\model\\logistic_regression\\submissions\\submission_lr_ageAndPclass.csv\n"
     ]
    }
   ],
   "source": [
    "# === Import log_experiment ===\n",
    "sys.path.append(os.path.abspath(os.path.join(os.getcwd(), \"..\", \"..\", \"..\")))\n",
    "from log.experiment_logger import log_experiment\n",
    "\n",
    "# === Ghi log kết quả vào CSV ===\n",
    "log_path = join(path_dir, \"log\", \"experiment_log.csv\")\n",
    "log_experiment(\n",
    "    output_path=log_path,\n",
    "    model_name=\"LogisticRegression\",\n",
    "    feature_name=\"ageAndPclass_engineered\",\n",
    "    params={\n",
    "        \"solver\": \"lbfgs\",\n",
    "        \"max_iter\": 1000,\n",
    "        \"random_state\": 42\n",
    "    },\n",
    "    kfold=5,\n",
    "    f1=mean_f1,\n",
    "    acc=mean_acc,\n",
    "    rec=mean_rec,\n",
    "    prec=mean_prec,\n",
    "    std=std_acc,\n",
    "    author=\"Thang\"\n",
    ")\n",
    "\n",
    "# === Huấn luyện lại trên toàn bộ dữ liệu train ===\n",
    "final_model = LogisticRegression(\n",
    "    max_iter=1000,\n",
    "    solver='lbfgs',\n",
    "    random_state=42\n",
    ")\n",
    "final_model.fit(X, y)\n",
    "\n",
    "# === Lưu model ===\n",
    "model_dir = join(path_dir, \"notebook\", \"model\", \"logistic_regression\", \"Model Pickles\")\n",
    "os.makedirs(model_dir, exist_ok=True)\n",
    "model_path = join(model_dir, \"lr_ageAndPclass.pkl\")\n",
    "joblib.dump((final_model, scaler), model_path)  # lưu luôn scaler để predict sau\n",
    "print(f\"✅ Model saved to {model_path}\")\n",
    "df_original = pd.read_csv(join(path_dir,\"data\",\"raw\",\"test.csv\"))\n",
    "passenger_ids = df_original[\"PassengerId\"]\n",
    "# === Tạo file submission ===\n",
    "y_test_pred = final_model.predict(X_test_scaled)\n",
    "\n",
    "submission = pd.DataFrame({\n",
    "    'PassengerId': passenger_ids,  # phải có trong test\n",
    "    'Survived': y_test_pred\n",
    "})\n",
    "\n",
    "sub_dir = join(path_dir, \"notebook\", \"model\", \"logistic_regression\", \"submissions\")\n",
    "os.makedirs(sub_dir, exist_ok=True)\n",
    "submission_path = join(sub_dir, \"submission_lr_ageAndPclass.csv\")\n",
    "submission.to_csv(submission_path, index=False)\n",
    "print(f\"📤 Submission file saved to {submission_path}\")\n"
   ]
  },
  {
   "cell_type": "markdown",
   "id": "dba212e9",
   "metadata": {},
   "source": [
    "# The end"
   ]
  }
 ],
 "metadata": {
  "kernelspec": {
   "display_name": "base",
   "language": "python",
   "name": "python3"
  },
  "language_info": {
   "codemirror_mode": {
    "name": "ipython",
    "version": 3
   },
   "file_extension": ".py",
   "mimetype": "text/x-python",
   "name": "python",
   "nbconvert_exporter": "python",
   "pygments_lexer": "ipython3",
   "version": "3.13.5"
  }
 },
 "nbformat": 4,
 "nbformat_minor": 5
}
