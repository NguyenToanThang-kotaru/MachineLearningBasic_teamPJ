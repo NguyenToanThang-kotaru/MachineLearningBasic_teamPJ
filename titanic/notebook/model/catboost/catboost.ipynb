{
 "cells": [
  {
   "cell_type": "markdown",
   "id": "f21364fd",
   "metadata": {},
   "source": [
    "# Titanic - Cat Boost"
   ]
  },
  {
   "cell_type": "markdown",
   "id": "f1cc50a4",
   "metadata": {},
   "source": [
    "## Trainning model"
   ]
  },
  {
   "cell_type": "code",
   "execution_count": 1,
   "id": "397ff08b",
   "metadata": {},
   "outputs": [
    {
     "name": "stdout",
     "output_type": "stream",
     "text": [
      "Fold 1 - Acc: 0.8547 | F1: 0.8219\n",
      "Fold 2 - Acc: 0.8202 | F1: 0.7241\n",
      "Fold 3 - Acc: 0.8652 | F1: 0.8261\n",
      "Fold 4 - Acc: 0.7753 | F1: 0.6774\n",
      "Fold 5 - Acc: 0.8427 | F1: 0.7812\n",
      "\n",
      "==== Mean metrics ====\n",
      "Accuracy: 0.8316\n",
      "Precision: 0.8093\n",
      "Recall: 0.7315\n",
      "F1-score: 0.7662\n",
      "Std (Accuracy): 0.0319\n"
     ]
    }
   ],
   "source": [
    "from os.path import join\n",
    "import os\n",
    "import pandas as pd\n",
    "import numpy as np\n",
    "from sklearn.model_selection import KFold\n",
    "from sklearn.metrics import accuracy_score, precision_score, recall_score, f1_score\n",
    "from catboost import CatBoostClassifier\n",
    "from tuningModel import tune_catboost\n",
    "# === Load dữ liệu ===\n",
    "path_dir = join(\"..\", \"..\", \"..\")\n",
    "input_dir = join(path_dir, \"data\", \"feature_engineered\", \"nameMiner\")\n",
    "\n",
    "df_train = pd.read_csv(join(input_dir, \"nameMiner_engineered_train.csv\"))\n",
    "df_test = pd.read_csv(join(input_dir, \"nameMiner_engineered_test.csv\"))\n",
    "\n",
    "X = df_train.drop(['Survived'], axis=1)\n",
    "y = df_train['Survived']\n",
    "# best_model, results_df = tune_catboost(X,y)\n",
    "# === KFold ===\n",
    "kf = KFold(n_splits=5, shuffle=True, random_state=42)\n",
    "accuracies, precisions, recalls, f1s = [], [], [], []\n",
    "\n",
    "fold_index = 1\n",
    "for train_index, val_index in kf.split(X):\n",
    "    X_train, X_val = X.iloc[train_index], X.iloc[val_index]\n",
    "    y_train, y_val = y.iloc[train_index], y.iloc[val_index]\n",
    "\n",
    "    # === Mô hình CatBoost ===\n",
    "    model = CatBoostClassifier(\n",
    "        iterations=300,\n",
    "        learning_rate=0.05,\n",
    "        depth=6,\n",
    "        random_seed=42,\n",
    "        verbose=False\n",
    "    )\n",
    "\n",
    "    model.fit(X_train, y_train)\n",
    "    y_pred = model.predict(X_val)\n",
    "\n",
    "    # === Tính metric ===\n",
    "    acc = accuracy_score(y_val, y_pred)\n",
    "    prec = precision_score(y_val, y_pred)\n",
    "    rec = recall_score(y_val, y_pred)\n",
    "    f1 = f1_score(y_val, y_pred)\n",
    "\n",
    "    accuracies.append(acc)\n",
    "    precisions.append(prec)\n",
    "    recalls.append(rec)\n",
    "    f1s.append(f1)\n",
    "\n",
    "    print(f\"Fold {fold_index} - Acc: {acc:.4f} | F1: {f1:.4f}\")\n",
    "    fold_index += 1\n",
    "\n",
    "# === Mean và Std ===\n",
    "mean_acc = np.mean(accuracies)\n",
    "mean_prec = np.mean(precisions)\n",
    "mean_rec = np.mean(recalls)\n",
    "mean_f1 = np.mean(f1s)\n",
    "std_acc = np.std(accuracies)\n",
    "\n",
    "print(\"\\n==== Mean metrics ====\")\n",
    "print(f\"Accuracy: {mean_acc:.4f}\")\n",
    "print(f\"Precision: {mean_prec:.4f}\")\n",
    "print(f\"Recall: {mean_rec:.4f}\")\n",
    "print(f\"F1-score: {mean_f1:.4f}\")\n",
    "print(f\"Std (Accuracy): {std_acc:.4f}\")\n"
   ]
  },
  {
   "cell_type": "markdown",
   "id": "ea27cf19",
   "metadata": {},
   "source": [
    "## Save model into logger and dump model to pickle file"
   ]
  },
  {
   "cell_type": "code",
   "execution_count": 2,
   "id": "f26d699f",
   "metadata": {},
   "outputs": [
    {
     "name": "stdout",
     "output_type": "stream",
     "text": [
      "Logged experiment to ..\\..\\..\\log\\experiment_log.csv\n",
      "✅ Model saved to ..\\..\\..\\notebook\\model\\catboost\\Model Pickles\\catboost_nameMiner.pkl\n",
      "📤 Submission file saved to ..\\..\\..\\notebook\\model\\catboost\\submissions\\submission_catboost_nameMiner.csv\n"
     ]
    }
   ],
   "source": [
    "# === Import log_experiment ===\n",
    "import sys\n",
    "import joblib\n",
    "sys.path.append(os.path.abspath(os.path.join(os.getcwd(), \"..\", \"..\", \"..\")))\n",
    "from log.experiment_logger import log_experiment\n",
    "\n",
    "# === Ghi log kết quả vào CSV ===\n",
    "log_path = join(path_dir, \"log\", \"experiment_log.csv\")\n",
    "log_experiment(\n",
    "    output_path=log_path,\n",
    "    model_name=\"CatBoostClassifier\",\n",
    "    feature_name=\"nameMiner_engineered\",\n",
    "    params=model.get_params(),\n",
    "    kfold=5,\n",
    "    f1=mean_f1,\n",
    "    acc=mean_acc,\n",
    "    rec=mean_rec,\n",
    "    prec=mean_prec,\n",
    "    std=std_acc,\n",
    "    author=\"Thang\"\n",
    ")\n",
    "\n",
    "# === Huấn luyện lại trên toàn bộ dữ liệu train ===\n",
    "final_model = model\n",
    "final_model.fit(X, y)\n",
    "\n",
    "# === Lưu model ===\n",
    "model_dir = join(path_dir, \"notebook\", \"model\", \"catboost\", \"Model Pickles\")\n",
    "os.makedirs(model_dir, exist_ok=True)\n",
    "model_path = join(model_dir, \"catboost_nameMiner.pkl\")\n",
    "joblib.dump(final_model, model_path)\n",
    "print(f\"✅ Model saved to {model_path}\")\n",
    "df_original = pd.read_csv(join(path_dir,\"data\",\"raw\",\"test.csv\"))\n",
    "passenger_ids = df_original[\"PassengerId\"]\n",
    "# === Tạo file submission ===\n",
    "X_test = df_test.drop(columns=['Survived'], errors='ignore')\n",
    "y_test_pred = final_model.predict(X_test)\n",
    "\n",
    "submission = pd.DataFrame({\n",
    "    'PassengerId': passenger_ids,  # phải có trong test\n",
    "    'Survived': y_test_pred\n",
    "})\n",
    "\n",
    "sub_dir = join(path_dir, \"notebook\", \"model\", \"catboost\", \"submissions\")\n",
    "os.makedirs(sub_dir, exist_ok=True)\n",
    "submission_path = join(sub_dir, \"submission_catboost_nameMiner.csv\")\n",
    "submission.to_csv(submission_path, index=False)\n",
    "print(f\"📤 Submission file saved to {submission_path}\")"
   ]
  },
  {
   "cell_type": "markdown",
   "id": "dba212e9",
   "metadata": {},
   "source": [
    "# The end"
   ]
  }
 ],
 "metadata": {
  "kernelspec": {
   "display_name": "base",
   "language": "python",
   "name": "python3"
  },
  "language_info": {
   "codemirror_mode": {
    "name": "ipython",
    "version": 3
   },
   "file_extension": ".py",
   "mimetype": "text/x-python",
   "name": "python",
   "nbconvert_exporter": "python",
   "pygments_lexer": "ipython3",
   "version": "3.13.5"
  }
 },
 "nbformat": 4,
 "nbformat_minor": 5
}
