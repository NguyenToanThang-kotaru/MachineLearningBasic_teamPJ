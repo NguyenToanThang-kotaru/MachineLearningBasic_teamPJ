{
 "cells": [
  {
   "cell_type": "markdown",
   "id": "e650d25e",
   "metadata": {},
   "source": [
    "# Titanic - Feature Engineering Family Size"
   ]
  },
  {
   "cell_type": "markdown",
   "id": "1353d0e9",
   "metadata": {},
   "source": [
    "This time, we’ll keep things simple but slightly more meaningful than before.\n",
    "Instead of just dropping Name and Ticket, we’ll create a new feature called FamilySize, which combines SibSp (number of siblings/spouses aboard) and Parch (number of parents/children aboard):\n",
    "\n",
    "$$\n",
    "\\text{FamilySize} = \\text{SibSp} + \\text{Parch} + 1\n",
    "$$\n",
    "\n",
    "This gives us an idea of whether a passenger was traveling alone or with family members, which could be correlated with survival chances.\n",
    "Other than that, we’ll leave the data mostly untouched — this serves as our family-size baseline, which we’ll later compare with more advanced feature engineering versions."
   ]
  },
  {
   "cell_type": "code",
   "execution_count": 1,
   "id": "d109598f",
   "metadata": {},
   "outputs": [
    {
     "data": {
      "application/vnd.microsoft.datawrangler.viewer.v0+json": {
       "columns": [
        {
         "name": "index",
         "rawType": "int64",
         "type": "integer"
        },
        {
         "name": "PassengerId",
         "rawType": "int64",
         "type": "integer"
        },
        {
         "name": "Survived",
         "rawType": "int64",
         "type": "integer"
        },
        {
         "name": "Pclass",
         "rawType": "int64",
         "type": "integer"
        },
        {
         "name": "Sex",
         "rawType": "int64",
         "type": "integer"
        },
        {
         "name": "Age",
         "rawType": "float64",
         "type": "float"
        },
        {
         "name": "Fare",
         "rawType": "float64",
         "type": "float"
        },
        {
         "name": "Embarked",
         "rawType": "int64",
         "type": "integer"
        },
        {
         "name": "FamilySize",
         "rawType": "int64",
         "type": "integer"
        }
       ],
       "ref": "d3f0c81b-b5ab-4af8-a70b-649564f6177c",
       "rows": [
        [
         "0",
         "1",
         "0",
         "3",
         "1",
         "22.0",
         "7.25",
         "2",
         "2"
        ],
        [
         "1",
         "2",
         "1",
         "1",
         "0",
         "38.0",
         "71.2833",
         "0",
         "2"
        ],
        [
         "2",
         "3",
         "1",
         "3",
         "0",
         "26.0",
         "7.925",
         "2",
         "1"
        ],
        [
         "3",
         "4",
         "1",
         "1",
         "0",
         "35.0",
         "53.1",
         "2",
         "2"
        ],
        [
         "4",
         "5",
         "0",
         "3",
         "1",
         "35.0",
         "8.05",
         "2",
         "1"
        ]
       ],
       "shape": {
        "columns": 8,
        "rows": 5
       }
      },
      "text/html": [
       "<div>\n",
       "<style scoped>\n",
       "    .dataframe tbody tr th:only-of-type {\n",
       "        vertical-align: middle;\n",
       "    }\n",
       "\n",
       "    .dataframe tbody tr th {\n",
       "        vertical-align: top;\n",
       "    }\n",
       "\n",
       "    .dataframe thead th {\n",
       "        text-align: right;\n",
       "    }\n",
       "</style>\n",
       "<table border=\"1\" class=\"dataframe\">\n",
       "  <thead>\n",
       "    <tr style=\"text-align: right;\">\n",
       "      <th></th>\n",
       "      <th>PassengerId</th>\n",
       "      <th>Survived</th>\n",
       "      <th>Pclass</th>\n",
       "      <th>Sex</th>\n",
       "      <th>Age</th>\n",
       "      <th>Fare</th>\n",
       "      <th>Embarked</th>\n",
       "      <th>FamilySize</th>\n",
       "    </tr>\n",
       "  </thead>\n",
       "  <tbody>\n",
       "    <tr>\n",
       "      <th>0</th>\n",
       "      <td>1</td>\n",
       "      <td>0</td>\n",
       "      <td>3</td>\n",
       "      <td>1</td>\n",
       "      <td>22.0</td>\n",
       "      <td>7.2500</td>\n",
       "      <td>2</td>\n",
       "      <td>2</td>\n",
       "    </tr>\n",
       "    <tr>\n",
       "      <th>1</th>\n",
       "      <td>2</td>\n",
       "      <td>1</td>\n",
       "      <td>1</td>\n",
       "      <td>0</td>\n",
       "      <td>38.0</td>\n",
       "      <td>71.2833</td>\n",
       "      <td>0</td>\n",
       "      <td>2</td>\n",
       "    </tr>\n",
       "    <tr>\n",
       "      <th>2</th>\n",
       "      <td>3</td>\n",
       "      <td>1</td>\n",
       "      <td>3</td>\n",
       "      <td>0</td>\n",
       "      <td>26.0</td>\n",
       "      <td>7.9250</td>\n",
       "      <td>2</td>\n",
       "      <td>1</td>\n",
       "    </tr>\n",
       "    <tr>\n",
       "      <th>3</th>\n",
       "      <td>4</td>\n",
       "      <td>1</td>\n",
       "      <td>1</td>\n",
       "      <td>0</td>\n",
       "      <td>35.0</td>\n",
       "      <td>53.1000</td>\n",
       "      <td>2</td>\n",
       "      <td>2</td>\n",
       "    </tr>\n",
       "    <tr>\n",
       "      <th>4</th>\n",
       "      <td>5</td>\n",
       "      <td>0</td>\n",
       "      <td>3</td>\n",
       "      <td>1</td>\n",
       "      <td>35.0</td>\n",
       "      <td>8.0500</td>\n",
       "      <td>2</td>\n",
       "      <td>1</td>\n",
       "    </tr>\n",
       "  </tbody>\n",
       "</table>\n",
       "</div>"
      ],
      "text/plain": [
       "   PassengerId  Survived  Pclass  Sex   Age     Fare  Embarked  FamilySize\n",
       "0            1         0       3    1  22.0   7.2500         2           2\n",
       "1            2         1       1    0  38.0  71.2833         0           2\n",
       "2            3         1       3    0  26.0   7.9250         2           1\n",
       "3            4         1       1    0  35.0  53.1000         2           2\n",
       "4            5         0       3    1  35.0   8.0500         2           1"
      ]
     },
     "execution_count": 1,
     "metadata": {},
     "output_type": "execute_result"
    }
   ],
   "source": [
    "import os\n",
    "import pandas as pd\n",
    "\n",
    "# Load dataset\n",
    "path_dir = os.path.join(\"..\", \"..\", \"data\")\n",
    "df = pd.read_csv(os.path.join(path_dir, \"preprocessed\", \"preprocessed_train.csv\"))\n",
    "df_test = pd.read_csv(os.path.join(path_dir, \"preprocessed\", \"preprocessed_test.csv\"))\n",
    "\n",
    "# Remove `Name` and `Ticket` features\n",
    "df = df.drop(['Name', 'Ticket'], axis=1)\n",
    "df_test = df_test.drop(['Name', 'Ticket'], axis=1)\n",
    "\n",
    "df[\"FamilySize\"] = df[\"SibSp\"] + df[\"Parch\"] + 1\n",
    "df_test[\"FamilySize\"] = df_test[\"SibSp\"] + df_test[\"Parch\"] + 1\n",
    "\n",
    "df = df.drop(['Parch','SibSp'], axis=1)\n",
    "df_test = df_test.drop(['Parch', 'SibSp'], axis=1)\n",
    "\n",
    "# Save file\n",
    "df.to_csv(os.path.join(path_dir, \"feature_engineered\", \"familySize\", \"familySize_engineered_train.csv\"), index=False)\n",
    "df_test.to_csv(os.path.join(path_dir, \"feature_engineered\", \"familySize\", \"familySize_engineered_test.csv\"), index=False)\n",
    "\n",
    "df.head()"
   ]
  }
 ],
 "metadata": {
  "kernelspec": {
   "display_name": "base",
   "language": "python",
   "name": "python3"
  },
  "language_info": {
   "codemirror_mode": {
    "name": "ipython",
    "version": 3
   },
   "file_extension": ".py",
   "mimetype": "text/x-python",
   "name": "python",
   "nbconvert_exporter": "python",
   "pygments_lexer": "ipython3",
   "version": "3.13.5"
  }
 },
 "nbformat": 4,
 "nbformat_minor": 5
}
